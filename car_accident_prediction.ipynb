{
 "cells": [
  {
   "cell_type": "markdown",
   "id": "b7002116",
   "metadata": {},
   "source": [
    "# Проект \"Оценка риска ДТП по маршруту движения каршеринга\"\n",
    "\n",
    "Заказ поступил от каршеринговой компании. Необходимо создать систему для оценки риска возникновения ДТП по маршруту движения. Если уровень риска высокий, то будет дано уведомление водителю и рекомендации по изменению маршруту движения.\n",
    "\n",
    "<br><h2>Таблицы:</h2>\n",
    "<h3>case_ids (индексы происшествий)</h3>\n",
    "<h3>parties (описание участников происшествия)</h3>\n",
    "\n",
    "- case_id (уникальный номер зарегистрированного происшествия в таблице происшествий);\n",
    "- party_number (номер участника происшествия) - от 1 до N: по числу участников происшествия;\n",
    "- party_type (тип участника происшествия): \n",
    "    - 1 - Car (Авто);\n",
    "    - 2 - Road bumper (Дорожные знаки);\n",
    "    - 3 - Building (Строения);\n",
    "    - 4 - Road signs (Отбойник);\n",
    "    - 5 - Other (Другое);\n",
    "    - 6 - Operator (Оператор);\n",
    "    - _ - Not Stated (Не указано).\n",
    "<a name='at_fault'></a>\n",
    "- at_fault (виновность участника) - 0 или 1;\n",
    "- insurance_premium (сумма страховки);\n",
    "<a name='party_drug_physical'></a>\n",
    "- party_drug_physical (состояние чуастника: физическое или с учетом принятых лекарств):\n",
    "    - E - Under Drug Influence (Под воздействием лекарств);\n",
    "    - F - Impairment Physical (Ухудшение состояния);\n",
    "    - G - Impairment Unknown (Не известно);\n",
    "    - H - Not Applicable (Не оценивался);\n",
    "    - I - Sleepy / Fatigued (Сонный / усталый);\n",
    "    - _ - Not Stated (Не указано).\n",
    "<a name='party_sobriety'></a>\n",
    "- party_sobriety (трезвость участника):\n",
    "    - A - Had Not Been Drinking (Не пил);\n",
    "    - B - Had Been Drinking, Under Influence (Был пьян, под влиянием);\n",
    "    - C - Had Been Drinking, Not Under Influence (Был пьян, не под влиянием);\n",
    "    - D - Had Been Drinking, Impairment Unknown (Был пьян, ухудшение неизвестно);\n",
    "    - G - Impairment Unknown (Неизвестно ухудшение);\n",
    "    - H - Not Applicable (Не оценивался);\n",
    "    - _ - Not Stated (Не указано).\n",
    "<a name='cellphone_in_use'></a>\n",
    "- cellphone_in_use (наличие телефона в автомобиле) - 0 или \n",
    "\n",
    "<h3>vehicles (описание автомобиля)</h3>\n",
    "\n",
    "- id (индекс текущей таблицы);\n",
    "- case_id (идентификационный номер в базе данных);\n",
    "<a name='vehicle_type'></a>\n",
    "- vehicle_type (тип кузова):\n",
    "    - MINIVAN;\n",
    "    - COUPE;\n",
    "    - SEDAN;\n",
    "    - HATCHBACK;\n",
    "    - OTHER.\n",
    "<a name='vehicle_transmission'></a>\n",
    "- vehicle_transmission (тип КПП):\n",
    "    - auto (Автоматическая).\n",
    "    - manual (Ручная).\n",
    "    - _ - Not Stated (Не указано)\n",
    "<a name='vehicle_age'></a>\n",
    "- vehicle_age (возраст автомобиля).\n",
    "\n",
    "<h3>collisions (информация о происшествия)</h3>\n",
    "\n",
    "- case_id (идентификационный номер в базе данных);\n",
    "- collision_date (дата происшествия);\n",
    "- collision_time (время происшествия);\n",
    "- intersection (является ли место происшествия перекрестком):\n",
    "    - Y — Intersection (перекрёсток);\n",
    "    - N — Not Intersection (не перекрёсток);\n",
    "    - _ Not stated (Не указано).\n",
    "<a name='weather_1'></a>\n",
    "- weather_1 (погода):\n",
    "    - A — Clear (Ясно);\n",
    "    - B — Cloudy (Облачно);\n",
    "    - C — Raining (Дождь);\n",
    "    - D — Snowing (Снегопад);\n",
    "    - E — Fog (Туман);\n",
    "    - F — Other (Другое);\n",
    "    - G — Wind (Ветер);\n",
    "<a name='collision_damage'></a>\n",
    "- collision_damage (серьезность происшествия):\n",
    "    - Fatal TC (Не подлежит восстановлению);\n",
    "    - Severe Damage (Серьезное повреждение);\n",
    "    - Middle Damage (Машина в целом на ходу);\n",
    "    - Small Damage (Отдельный элемент под замену / покраску);\n",
    "    - Scratch (Царапина).\n",
    "<a name='primary_collision_factor'></a>\n",
    "- primary_collision_factor (основной фактор аварии):\n",
    "    - A - Code Violation (Нарушение правил ПДД);\n",
    "    - B - Other Improper Driving (Другое неправильное вождение);\n",
    "    - C - Other Than Driver (Кроме водителя);\n",
    "    - D - Unknown (Неизвестно);\n",
    "    - E - Fell Asleep (Заснул);\n",
    "    - _ - Not Stated (Не указано).\n",
    "<a name='road_surface'></a>\n",
    "- road_surface (состояние дороги):\n",
    "    - A — Dry (Сухая);\n",
    "    - B — Wet (Мокрая);\n",
    "    - C — Snowy or Icy (Заснеженная или обледенелая);\n",
    "    - D — Slippery (Muddy, Oily, etc.) (Скользкая, грязная, маслянистая и т. д.);\n",
    "    - _ Not Stated (Не указано).\n",
    "<a name='lighting'></a>\n",
    "- lightning (освещение):\n",
    "    - A — Daylight (Дневной свет);\n",
    "    - B — Dusk-Dawn (Сумерки-Рассвет);\n",
    "    - C — Dark-Street Lights (Темно-Уличные фонари);\n",
    "    - D — Dark-No Street Lights (Темно-Нет уличных фонарей);\n",
    "    - E — Dark-Street Lights Not Functioning (Темно-Уличные фонари не работают);\n",
    "    - _ Not Stated (Не указано).\n",
    "<a name='county_city_location'></a>\n",
    "- county_city_location (номер географических районов, где произошло ДТП);\n",
    "- county_location (названия географических районов, где произошло ДТП);\n",
    "<a name='direction'></a>\n",
    "- direction (направление движения):\n",
    "    - N — North (Север)\n",
    "    - E — East (Восток)\n",
    "    - S — South (Юг)\n",
    "    - W — West (Запад)\n",
    "    - _ — Not State (Не указано)\n",
    "    - на перекрёстке\n",
    "- distance (расстояние до главной дороги в метрах);\n",
    "<a name='location_type'></a>\n",
    "- location_type (тип дороги):\n",
    "    - H — Highway (Шоссе);\n",
    "    - I — Intersection (Перекрёсток);\n",
    "    - R — Ramp (or Collector) (Рампа);\n",
    "    - _ — Not State Highway (Не указано).\n",
    "- party_count (количество участников);\n",
    "<a name='pcf_violation_category'></a>\n",
    "- pcf_violation_category (категория нарушения):\n",
    "   - 01 - Driving Under the Influence of Alcohol or Drug - Вождение или езда в состоянии алкогольного или наркотического опьянения;\n",
    "   - 02 - Impeding Traffic - Препятствие движению транспорта;\n",
    "   - 03 - Unsafe Speed - Превышение скорости;\n",
    "   - 04 - Following Too Closely - Опасное сближение;\n",
    "   - 05 - Wrong Side of Road - Неправильная сторона дороги;\n",
    "   - 06 — Improper Passing - Неправильное движение;\n",
    "   - 07 — Unsafe Lane Change - Небезопасная смена полосы движения;\n",
    "   - 08 — Improper Turning - Неправильный поворот;\n",
    "   - 09 — Automobile Right of Way - Автомобильное право проезда;\n",
    "   - 10 — Pedestrian Right of Way - Пешеходное право проезда;\n",
    "   - 11 — Pedestrian Violation - Нарушение пешеходами;\n",
    "   - 12 — Traffic Signals and Signs - Дорожные сигналы и знаки;\n",
    "   - 13 — Hazardous Parking - Неправильная парковка;\n",
    "   - 14 — Lights - Освещение;\n",
    "   - 15 — Brakes - Тормоза;\n",
    "   - 16 — Other Equipment - Другое оборудование;\n",
    "   - 17 — Other Hazardous Violation - Другие нарушения;\n",
    "   - 18 — Other Than Driver (or Pedestrian) - Кроме водителя или пешехода;\n",
    "   - 19 — Speeding - Скорость;\n",
    "   - 20 — Pedestrian dui - Нарушение пешехода;\n",
    "   - 21 — Unsafe Starting or Backing - Опасный старт;\n",
    "   - 22 — Other Improper Driving - Другое неправильное вождение;\n",
    "   - 23 — Pedestrian or “Other” Under the Influence of Alcohol or Drug - Пешеход или «Другой» в состоянии алкогольного или наркотического опьянения;\n",
    "   - 24 — Fell Asleep - Заснул;\n",
    "   - 00 — Unknown - Неизвестно;\n",
    "   - _ - Not Stated - Не указано.\n",
    "- type_of_collision (тип аварии):\n",
    "   - A — Head-On (Лоб в лоб);\n",
    "   - B — Sideswipe (Сторона);\n",
    "   - C — Rear End (Столкновение задней частью);\n",
    "   - D — Broadside (Боковой удар);\n",
    "   - E — Hit Object (Удар объекта);\n",
    "   - F — Overturned (Опрокинутый);\n",
    "   - G — Vehicle (транспортное средство/ Пешеход);\n",
    "   - H — Other (Другое);\n",
    "   - _ - Not Stated (Не указано).\n",
    "- motor_vehicle_involved_with (дополнительные участники ДТП):\n",
    "    - Other motor vehicle (Другой автомобиль);\n",
    "    - Fixed object (Неподвижный объект);\n",
    "    - Parked motor vehicle (Припаркованный автомобиль);\n",
    "    - Pedestrian (Пешеход);\n",
    "    - Bicycle (Велосипедист);\n",
    "    - Non-collision (Не столкновение);\n",
    "    - Other object (Другой объект);\n",
    "    - Motor vehicle on other roadway (Автомобиль на другой проезжей);\n",
    "    - Animal (Животное);\n",
    "    - Train (Поезд).\n",
    "<a name='road_condition_1'></a>\n",
    "- road_condition_1 (дорожное состояние):\n",
    "    - A — Holes, Deep Ruts (Ямы, глубокая колея);\n",
    "    - B — Loose Material on Roadway (Сыпучий материал на проезжей части);\n",
    "    - C — Obstruction on Roadway (Препятствие на проезжей части);\n",
    "    -  D — Construction or Repair Zone (Зона строительства или ремонта);\n",
    "    - E — Reduced Roadway Width (Уменьшенная ширина проезжей части);\n",
    "    - F — Flooded (Затоплено);\n",
    "    - G — Other (Другое);\n",
    "    - H — No Unusual Condition (Нет ничего необычного);\n",
    "    - _ — Not Stated (Не указано).\n",
    "<a name='control_device'></a>\n",
    "- control_device (устройство управления):\n",
    "    - A — Functioning (Функционирует);\n",
    "    - B — Not Functioning (Не функционирует);\n",
    "    - C — Obscured (Затемнённый);\n",
    "    - D — None (Нет);\n",
    "    - _ Not Stated (Не указано).\n",
    "\n",
    "<a name='introduction'></a>\n",
    "<br>**План работы**:\n",
    "1. [Загрузка таблицы SQL](#download)\n",
    "2. [Первичное исследование таблиц](#primary_analysis)\n",
    "3. [Cтатистический анализ факторов ДТП](#statistics_analysis)\n",
    "    - [Количество аварий по месяцам](#collisions_month)\n",
    "    - [Задачи для коллег](#tasks_for_colleagues)\n",
    "        - [Самые частые основные факторы ДТП](#frequent_reasons)\n",
    "        - [Анализ серьезности повреждений транспортного средства по состоянию участника](#road_damage_relation)\n",
    "        - [Анализ зависимости степени трезвости участника и основного фактора аварии](#sobriety_reason_relation)\n",
    "        - [Зависимость между категорией нарушения и состоянием участника](#violation_state_relation)\n",
    "        - [Анализ корреляции степени трезвости участника и его виновности](#sobriety_fault_relation)\n",
    "        - [Анализ влияния дорожного состояния на серьезность повреждений транспортного средства](#road_state_relation)\n",
    "4. [Создание модели для оценки водительского риска](#model_creation)\n",
    "    - [Отбор параметров](#parameters_selection)\n",
    "    - [Исследовательский анализ отобранных параметров](#selected_eda)\n",
    "    - [Подготовка данных](#data_preparation)\n",
    "    - [Выбор метрики для оценки качества моделей](#metric_selection)\n",
    "    - [ML-модели](#ml_models)\n",
    "        - [DecisionTreeClassifier](#tree)\n",
    "        - [RandomForestClassifier](#RandomForestClassifier)\n",
    "        - [LGBMClassifier](#lgbm)\n",
    "        - [Нейронная сеть](#neural_net)\n",
    "    - [Выводы по моделям](#conclusions_on_models)\n",
    "5. [Анализ важности факторов ДТП](#factors_importance)\n",
    "    - [Матрица ошибок](#confusion_matrix)\n",
    "    - [Важность факторов](#feature_importance)\n",
    "6. [Выводы](#conclusions)"
   ]
  },
  {
   "cell_type": "markdown",
   "id": "f1055638",
   "metadata": {
    "ExecuteTime": {
     "end_time": "2022-05-05T04:58:05.692448Z",
     "start_time": "2022-05-05T04:58:05.688565Z"
    }
   },
   "source": [
    "<a name='download'></a>\n",
    "## 1. Загрузка таблицы SQL\n",
    "[Введение](#introduction)"
   ]
  },
  {
   "cell_type": "code",
   "execution_count": 54,
   "id": "8dd8aac8",
   "metadata": {
    "scrolled": true
   },
   "outputs": [
    {
     "name": "stdout",
     "output_type": "stream",
     "text": [
      "Note: you may need to restart the kernel to use updated packages.\n",
      "Note: you may need to restart the kernel to use updated packages.\n",
      "Note: you may need to restart the kernel to use updated packages.\n"
     ]
    }
   ],
   "source": [
    "%pip install phik -q\n",
    "%pip install torchmetrics -q\n",
    "%pip install -q captum\n",
    "\n",
    "import pandas as pd\n",
    "from math import ceil\n",
    "import matplotlib as mpl\n",
    "import matplotlib.pyplot as plt\n",
    "import numpy as np\n",
    "from sqlalchemy import create_engine, text as sql_text\n",
    "\n",
    "import phik\n",
    "from phik import report\n",
    "from phik.report import plot_correlation_matrix\n",
    "\n",
    "from lightgbm import LGBMClassifier\n",
    "from sklearn.ensemble import RandomForestClassifier\n",
    "from sklearn.preprocessing import OrdinalEncoder, StandardScaler\n",
    "from sklearn.tree import DecisionTreeClassifier\n",
    "from sklearn.metrics import confusion_matrix, ConfusionMatrixDisplay, f1_score, roc_auc_score\n",
    "from sklearn.model_selection import GridSearchCV, train_test_split\n",
    "\n",
    "import torch\n",
    "from torch import nn\n",
    "from torchmetrics.classification import BinaryF1Score\n",
    "\n",
    "mpl.rcParams['agg.path.chunksize'] = 10000"
   ]
  },
  {
   "cell_type": "code",
   "execution_count": 2,
   "id": "c4fd6b87",
   "metadata": {},
   "outputs": [],
   "source": [
    "# Подключение к базе данных\n",
    "db_config = {\n",
    "'user': 'praktikum_student', # имя пользователя,\n",
    "'pwd': 'Sdf4$2;d-d30pp', # пароль,\n",
    "'host': 'rc1b-wcoijxj3yxfsf3fs.mdb.yandexcloud.net',\n",
    "'port': 6432, # порт подключения,\n",
    "'db': 'data-science-vehicle-db' # название базы данных,\n",
    "}\n",
    "\n",
    "connection_string = 'postgresql://{}:{}@{}:{}/{}'.format(\n",
    "    db_config['user'],\n",
    "    db_config['pwd'],\n",
    "    db_config['host'],\n",
    "    db_config['port'],\n",
    "    db_config['db']\n",
    ")\n",
    "\n",
    "connection = create_engine(connection_string)"
   ]
  },
  {
   "cell_type": "markdown",
   "id": "44b0520f",
   "metadata": {},
   "source": [
    "<a name='primary_analysis'></a>\n",
    "## 2. Первичное исследование таблиц\n",
    "[Введение](#introduction)"
   ]
  },
  {
   "cell_type": "markdown",
   "id": "d97bb65e",
   "metadata": {},
   "source": [
    "Необходимо исследовать следующее:\n",
    "- Все ли таблицы имеют набор данных;\n",
    "- Соответствует ли количество таблиц условию задачи;\n",
    "- Имеется ли общий ключ для связи таблиц."
   ]
  },
  {
   "cell_type": "code",
   "execution_count": 3,
   "id": "b65272ad",
   "metadata": {},
   "outputs": [],
   "source": [
    "def get_query(query):\n",
    "    query_df = pd.read_sql_query(con=connection.connect(), sql=sql_text(query))\n",
    "    return query_df"
   ]
  },
  {
   "cell_type": "code",
   "execution_count": 4,
   "id": "3f0a7ec4",
   "metadata": {},
   "outputs": [
    {
     "data": {
      "text/html": [
       "<div>\n",
       "<style scoped>\n",
       "    .dataframe tbody tr th:only-of-type {\n",
       "        vertical-align: middle;\n",
       "    }\n",
       "\n",
       "    .dataframe tbody tr th {\n",
       "        vertical-align: top;\n",
       "    }\n",
       "\n",
       "    .dataframe thead th {\n",
       "        text-align: right;\n",
       "    }\n",
       "</style>\n",
       "<table border=\"1\" class=\"dataframe\">\n",
       "  <thead>\n",
       "    <tr style=\"text-align: right;\">\n",
       "      <th></th>\n",
       "      <th>case_id</th>\n",
       "      <th>db_year</th>\n",
       "    </tr>\n",
       "  </thead>\n",
       "  <tbody>\n",
       "    <tr>\n",
       "      <th>0</th>\n",
       "      <td>0081715</td>\n",
       "      <td>2021</td>\n",
       "    </tr>\n",
       "    <tr>\n",
       "      <th>1</th>\n",
       "      <td>0726202</td>\n",
       "      <td>2021</td>\n",
       "    </tr>\n",
       "    <tr>\n",
       "      <th>2</th>\n",
       "      <td>3858022</td>\n",
       "      <td>2021</td>\n",
       "    </tr>\n",
       "    <tr>\n",
       "      <th>3</th>\n",
       "      <td>3899441</td>\n",
       "      <td>2021</td>\n",
       "    </tr>\n",
       "    <tr>\n",
       "      <th>4</th>\n",
       "      <td>3899442</td>\n",
       "      <td>2021</td>\n",
       "    </tr>\n",
       "  </tbody>\n",
       "</table>\n",
       "</div>"
      ],
      "text/plain": [
       "   case_id db_year\n",
       "0  0081715    2021\n",
       "1  0726202    2021\n",
       "2  3858022    2021\n",
       "3  3899441    2021\n",
       "4  3899442    2021"
      ]
     },
     "metadata": {},
     "output_type": "display_data"
    }
   ],
   "source": [
    "# Загрузка и сохранение таблицы 'case_ids'\n",
    "case_ids_query = '''\n",
    "SELECT *\n",
    "FROM case_ids;\n",
    "'''\n",
    "\n",
    "case_ids_df = get_query(case_ids_query)\n",
    "display(case_ids_df.head())"
   ]
  },
  {
   "cell_type": "code",
   "execution_count": 5,
   "id": "9c825528",
   "metadata": {
    "scrolled": false
   },
   "outputs": [
    {
     "data": {
      "text/html": [
       "<div>\n",
       "<style scoped>\n",
       "    .dataframe tbody tr th:only-of-type {\n",
       "        vertical-align: middle;\n",
       "    }\n",
       "\n",
       "    .dataframe tbody tr th {\n",
       "        vertical-align: top;\n",
       "    }\n",
       "\n",
       "    .dataframe thead th {\n",
       "        text-align: right;\n",
       "    }\n",
       "</style>\n",
       "<table border=\"1\" class=\"dataframe\">\n",
       "  <thead>\n",
       "    <tr style=\"text-align: right;\">\n",
       "      <th></th>\n",
       "      <th>case_id</th>\n",
       "      <th>db_year</th>\n",
       "    </tr>\n",
       "  </thead>\n",
       "  <tbody>\n",
       "    <tr>\n",
       "      <th>0</th>\n",
       "      <td>0081715</td>\n",
       "      <td>2021</td>\n",
       "    </tr>\n",
       "    <tr>\n",
       "      <th>1</th>\n",
       "      <td>0726202</td>\n",
       "      <td>2021</td>\n",
       "    </tr>\n",
       "    <tr>\n",
       "      <th>2</th>\n",
       "      <td>3858022</td>\n",
       "      <td>2021</td>\n",
       "    </tr>\n",
       "    <tr>\n",
       "      <th>3</th>\n",
       "      <td>3899441</td>\n",
       "      <td>2021</td>\n",
       "    </tr>\n",
       "    <tr>\n",
       "      <th>4</th>\n",
       "      <td>3899442</td>\n",
       "      <td>2021</td>\n",
       "    </tr>\n",
       "  </tbody>\n",
       "</table>\n",
       "</div>"
      ],
      "text/plain": [
       "   case_id db_year\n",
       "0  0081715    2021\n",
       "1  0726202    2021\n",
       "2  3858022    2021\n",
       "3  3899441    2021\n",
       "4  3899442    2021"
      ]
     },
     "metadata": {},
     "output_type": "display_data"
    }
   ],
   "source": [
    "# Загрузка и сохранение таблицы 'parties'\n",
    "parties_query = '''\n",
    "SELECT *\n",
    "FROM parties\n",
    "WHERE party_type = 'car';\n",
    "'''\n",
    "\n",
    "parties_df = get_query(case_ids_query)\n",
    "display(parties_df.head())"
   ]
  },
  {
   "cell_type": "code",
   "execution_count": 6,
   "id": "eb6917b6",
   "metadata": {},
   "outputs": [
    {
     "data": {
      "text/html": [
       "<div>\n",
       "<style scoped>\n",
       "    .dataframe tbody tr th:only-of-type {\n",
       "        vertical-align: middle;\n",
       "    }\n",
       "\n",
       "    .dataframe tbody tr th {\n",
       "        vertical-align: top;\n",
       "    }\n",
       "\n",
       "    .dataframe thead th {\n",
       "        text-align: right;\n",
       "    }\n",
       "</style>\n",
       "<table border=\"1\" class=\"dataframe\">\n",
       "  <thead>\n",
       "    <tr style=\"text-align: right;\">\n",
       "      <th></th>\n",
       "      <th>case_id</th>\n",
       "      <th>db_year</th>\n",
       "    </tr>\n",
       "  </thead>\n",
       "  <tbody>\n",
       "    <tr>\n",
       "      <th>0</th>\n",
       "      <td>0081715</td>\n",
       "      <td>2021</td>\n",
       "    </tr>\n",
       "    <tr>\n",
       "      <th>1</th>\n",
       "      <td>0726202</td>\n",
       "      <td>2021</td>\n",
       "    </tr>\n",
       "    <tr>\n",
       "      <th>2</th>\n",
       "      <td>3858022</td>\n",
       "      <td>2021</td>\n",
       "    </tr>\n",
       "    <tr>\n",
       "      <th>3</th>\n",
       "      <td>3899441</td>\n",
       "      <td>2021</td>\n",
       "    </tr>\n",
       "    <tr>\n",
       "      <th>4</th>\n",
       "      <td>3899442</td>\n",
       "      <td>2021</td>\n",
       "    </tr>\n",
       "  </tbody>\n",
       "</table>\n",
       "</div>"
      ],
      "text/plain": [
       "   case_id db_year\n",
       "0  0081715    2021\n",
       "1  0726202    2021\n",
       "2  3858022    2021\n",
       "3  3899441    2021\n",
       "4  3899442    2021"
      ]
     },
     "metadata": {},
     "output_type": "display_data"
    }
   ],
   "source": [
    "# Загрузка и сохранение таблицы 'collisions'\n",
    "collisions_query = '''\n",
    "SELECT *\n",
    "FROM collisions;\n",
    "'''\n",
    "\n",
    "collisions_df = get_query(case_ids_query)\n",
    "display(collisions_df.head())"
   ]
  },
  {
   "cell_type": "code",
   "execution_count": 7,
   "id": "8ed2acae",
   "metadata": {},
   "outputs": [
    {
     "data": {
      "text/html": [
       "<div>\n",
       "<style scoped>\n",
       "    .dataframe tbody tr th:only-of-type {\n",
       "        vertical-align: middle;\n",
       "    }\n",
       "\n",
       "    .dataframe tbody tr th {\n",
       "        vertical-align: top;\n",
       "    }\n",
       "\n",
       "    .dataframe thead th {\n",
       "        text-align: right;\n",
       "    }\n",
       "</style>\n",
       "<table border=\"1\" class=\"dataframe\">\n",
       "  <thead>\n",
       "    <tr style=\"text-align: right;\">\n",
       "      <th></th>\n",
       "      <th>case_id</th>\n",
       "      <th>db_year</th>\n",
       "    </tr>\n",
       "  </thead>\n",
       "  <tbody>\n",
       "    <tr>\n",
       "      <th>0</th>\n",
       "      <td>0081715</td>\n",
       "      <td>2021</td>\n",
       "    </tr>\n",
       "    <tr>\n",
       "      <th>1</th>\n",
       "      <td>0726202</td>\n",
       "      <td>2021</td>\n",
       "    </tr>\n",
       "    <tr>\n",
       "      <th>2</th>\n",
       "      <td>3858022</td>\n",
       "      <td>2021</td>\n",
       "    </tr>\n",
       "    <tr>\n",
       "      <th>3</th>\n",
       "      <td>3899441</td>\n",
       "      <td>2021</td>\n",
       "    </tr>\n",
       "    <tr>\n",
       "      <th>4</th>\n",
       "      <td>3899442</td>\n",
       "      <td>2021</td>\n",
       "    </tr>\n",
       "  </tbody>\n",
       "</table>\n",
       "</div>"
      ],
      "text/plain": [
       "   case_id db_year\n",
       "0  0081715    2021\n",
       "1  0726202    2021\n",
       "2  3858022    2021\n",
       "3  3899441    2021\n",
       "4  3899442    2021"
      ]
     },
     "metadata": {},
     "output_type": "display_data"
    }
   ],
   "source": [
    "# Загрузка и сохранение таблицы 'vehicles'\n",
    "vehicles_query = '''\n",
    "SELECT *\n",
    "FROM vehicles;\n",
    "'''\n",
    "\n",
    "vehicles_df = get_query(case_ids_query)\n",
    "display(vehicles_df.head())"
   ]
  },
  {
   "cell_type": "markdown",
   "id": "dd409f04",
   "metadata": {},
   "source": [
    "**Вывод**:\n",
    "\n",
    "Имеются все 4 необходимые таблицы, каждая из которых имеет необходимый набор данных. Общий ключ для связи всех таблиц также имеется  в каджой из них: ***case_id***."
   ]
  },
  {
   "cell_type": "markdown",
   "id": "5c43bb5a",
   "metadata": {},
   "source": [
    "<a name='statistics_analysis'></a>\n",
    "## 3. Cтатистический анализ факторов ДТП\n",
    "[Введение](#introduction)\n",
    "\n",
    "<br>**План статистического анализа факторов ДТП**:\n",
    "1. [Количество аварий по месяцам](#collisions_month)\n",
    "2. [Задачи для коллег](#tasks_for_colleagues)"
   ]
  },
  {
   "cell_type": "markdown",
   "id": "6e6c0062",
   "metadata": {},
   "source": [
    "<a name='collisions_month'></a>\n",
    "### 3. 1. Количество аварий по месяцам\n",
    "[Введение](#introduction)"
   ]
  },
  {
   "cell_type": "code",
   "execution_count": 8,
   "id": "6a0ea502",
   "metadata": {},
   "outputs": [
    {
     "data": {
      "text/html": [
       "<div>\n",
       "<style scoped>\n",
       "    .dataframe tbody tr th:only-of-type {\n",
       "        vertical-align: middle;\n",
       "    }\n",
       "\n",
       "    .dataframe tbody tr th {\n",
       "        vertical-align: top;\n",
       "    }\n",
       "\n",
       "    .dataframe thead th {\n",
       "        text-align: right;\n",
       "    }\n",
       "</style>\n",
       "<table border=\"1\" class=\"dataframe\">\n",
       "  <thead>\n",
       "    <tr style=\"text-align: right;\">\n",
       "      <th></th>\n",
       "      <th>month</th>\n",
       "      <th>count</th>\n",
       "    </tr>\n",
       "  </thead>\n",
       "  <tbody>\n",
       "    <tr>\n",
       "      <th>0</th>\n",
       "      <td>APRIL</td>\n",
       "      <td>130180</td>\n",
       "    </tr>\n",
       "    <tr>\n",
       "      <th>1</th>\n",
       "      <td>AUGUST</td>\n",
       "      <td>104089</td>\n",
       "    </tr>\n",
       "    <tr>\n",
       "      <th>2</th>\n",
       "      <td>DECEMBER</td>\n",
       "      <td>107945</td>\n",
       "    </tr>\n",
       "    <tr>\n",
       "      <th>3</th>\n",
       "      <td>FEBRUARY</td>\n",
       "      <td>128858</td>\n",
       "    </tr>\n",
       "    <tr>\n",
       "      <th>4</th>\n",
       "      <td>JANUARY</td>\n",
       "      <td>132044</td>\n",
       "    </tr>\n",
       "    <tr>\n",
       "      <th>5</th>\n",
       "      <td>JULY</td>\n",
       "      <td>102227</td>\n",
       "    </tr>\n",
       "    <tr>\n",
       "      <th>6</th>\n",
       "      <td>JUNE</td>\n",
       "      <td>102594</td>\n",
       "    </tr>\n",
       "    <tr>\n",
       "      <th>7</th>\n",
       "      <td>MARCH</td>\n",
       "      <td>139581</td>\n",
       "    </tr>\n",
       "    <tr>\n",
       "      <th>8</th>\n",
       "      <td>MAY</td>\n",
       "      <td>130316</td>\n",
       "    </tr>\n",
       "    <tr>\n",
       "      <th>9</th>\n",
       "      <td>NOVEMBER</td>\n",
       "      <td>104770</td>\n",
       "    </tr>\n",
       "    <tr>\n",
       "      <th>10</th>\n",
       "      <td>OCTOBER</td>\n",
       "      <td>112237</td>\n",
       "    </tr>\n",
       "    <tr>\n",
       "      <th>11</th>\n",
       "      <td>SEPTEMBER</td>\n",
       "      <td>105159</td>\n",
       "    </tr>\n",
       "  </tbody>\n",
       "</table>\n",
       "</div>"
      ],
      "text/plain": [
       "        month   count\n",
       "0   APRIL      130180\n",
       "1   AUGUST     104089\n",
       "2   DECEMBER   107945\n",
       "3   FEBRUARY   128858\n",
       "4   JANUARY    132044\n",
       "5   JULY       102227\n",
       "6   JUNE       102594\n",
       "7   MARCH      139581\n",
       "8   MAY        130316\n",
       "9   NOVEMBER   104770\n",
       "10  OCTOBER    112237\n",
       "11  SEPTEMBER  105159"
      ]
     },
     "metadata": {},
     "output_type": "display_data"
    }
   ],
   "source": [
    "# Запрос для получения количества аварий по месяцам\n",
    "query = '''\n",
    "SELECT to_char(collision_date::date, 'MONTH') AS month,\n",
    "    COUNT(case_id)\n",
    "FROM collisions\n",
    "GROUP BY month;\n",
    "'''\n",
    "\n",
    "query_df = pd.read_sql_query(con=connection.connect(), sql=sql_text(query))\n",
    "display(query_df)"
   ]
  },
  {
   "cell_type": "code",
   "execution_count": 9,
   "id": "71fc4e18",
   "metadata": {},
   "outputs": [
    {
     "data": {
      "image/png": "[encoded data removed]",
      "text/plain": [
       "<Figure size 504x504 with 1 Axes>"
      ]
     },
     "metadata": {
      "needs_background": "light"
     },
     "output_type": "display_data"
    }
   ],
   "source": [
    "# График количества аварий по месяцам\n",
    "plt.figure(figsize=(7, 7))\n",
    "\n",
    "plt.bar(\n",
    "    query_df['month'],\n",
    "    query_df['count'],\n",
    "    color='c'\n",
    ")\n",
    "\n",
    "plt.title(\"Количество аварий по месяцам\", fontsize=16)\n",
    "plt.xlabel(\"Месяц\", fontsize=14)\n",
    "plt.xticks(rotation=90, fontsize=12)\n",
    "plt.ylabel(\"Количество аварий\", fontsize=14)\n",
    "plt.yticks(fontsize=12)\n",
    "plt.show()"
   ]
  },
  {
   "cell_type": "markdown",
   "id": "3a36ebd5",
   "metadata": {},
   "source": [
    "**Вывод**:\n",
    "\n",
    "На графике видно, что количество аварий в первые 5 месяцев 2021 года существенно превышает в другие месяца. Более того, в указанные 5 месяцев количество аварий достигает значения почти 140 000 (март). Вдобавок, количество аварий не опускается ниже 120 000, а в остальные 7 месяцев - даже не достигает этого значения. \n",
    "\n",
    "Вероятно, это можно связать с посленовогодними праздниками, а также зимним периодом. Хотя в декабре, который относится также к зимнему месяцу, количество аварий чуть более 100 000."
   ]
  },
  {
   "cell_type": "markdown",
   "id": "4147a3ca",
   "metadata": {},
   "source": [
    "<a name='tasks_for_colleagues'></a>\n",
    "### 3. 2. Задачи для коллег\n",
    "[Введение](#introduction)\n",
    "\n",
    "Скоро состоится первое совещание рабочей группы. Чтобы обсуждение было конструктивным, каждый сотрудник должен понимать данные. Для этого необходимо создать подходящие аналитические задачи и поручить их решение коллегам.\n",
    "\n",
    "<br>**Список задач**:\n",
    "1. [Самые частые основные факторы ДТП](#frequent_reasons)\n",
    "2. [Анализ серьезности повреждений транспортного средства по состоянию участника](#road_damage_relation)\n",
    "3. [Анализ зависимости степени трезвости участника и основного фактора аварии](#sobriety_reason_relation)\n",
    "4. [Зависимость между категорией нарушения и состоянием участника](#violation_state_relation)\n",
    "5. [Анализ корреляции степени трезвости участника и его виновности](#sobriety_fault_relation)\n",
    "6. [Анализ влияния дорожного состояния на серьезность повреждений транспортного средства](#road_state_relation)"
   ]
  },
  {
   "cell_type": "markdown",
   "id": "2d71f83a",
   "metadata": {},
   "source": [
    "<a name='frequent_reasons'></a>\n",
    "#### 3. 2. 1. Самые частые основные факторы ДТП\n",
    "[Введение](#introduction)\n",
    "\n",
    "Анализ самых частых основных факторов ДТП осуществляется на основании таблицы ***collisions***. Основной фактор ДТП отображен в параметре *[primary_collision_factor](#primary_collision_factor)*."
   ]
  },
  {
   "cell_type": "code",
   "execution_count": 10,
   "id": "16b1723a",
   "metadata": {},
   "outputs": [
    {
     "data": {
      "text/html": [
       "<div>\n",
       "<style scoped>\n",
       "    .dataframe tbody tr th:only-of-type {\n",
       "        vertical-align: middle;\n",
       "    }\n",
       "\n",
       "    .dataframe tbody tr th {\n",
       "        vertical-align: top;\n",
       "    }\n",
       "\n",
       "    .dataframe thead th {\n",
       "        text-align: right;\n",
       "    }\n",
       "</style>\n",
       "<table border=\"1\" class=\"dataframe\">\n",
       "  <thead>\n",
       "    <tr style=\"text-align: right;\">\n",
       "      <th></th>\n",
       "      <th>primary_collision_factor</th>\n",
       "    </tr>\n",
       "  </thead>\n",
       "  <tbody>\n",
       "    <tr>\n",
       "      <th>0</th>\n",
       "      <td>vehicle code violation</td>\n",
       "    </tr>\n",
       "    <tr>\n",
       "      <th>1</th>\n",
       "      <td>vehicle code violation</td>\n",
       "    </tr>\n",
       "    <tr>\n",
       "      <th>2</th>\n",
       "      <td>vehicle code violation</td>\n",
       "    </tr>\n",
       "    <tr>\n",
       "      <th>3</th>\n",
       "      <td>vehicle code violation</td>\n",
       "    </tr>\n",
       "    <tr>\n",
       "      <th>4</th>\n",
       "      <td>vehicle code violation</td>\n",
       "    </tr>\n",
       "  </tbody>\n",
       "</table>\n",
       "</div>"
      ],
      "text/plain": [
       "  primary_collision_factor\n",
       "0   vehicle code violation\n",
       "1   vehicle code violation\n",
       "2   vehicle code violation\n",
       "3   vehicle code violation\n",
       "4   vehicle code violation"
      ]
     },
     "execution_count": 10,
     "metadata": {},
     "output_type": "execute_result"
    }
   ],
   "source": [
    "# Первые пять значения параметра 'primary_collision_factor'\n",
    "query = '''\n",
    "SELECT primary_collision_factor\n",
    "FROM collisions AS c\n",
    "JOIN parties AS p ON c.case_id = p.case_id\n",
    "WHERE p.party_type = 'car'\n",
    "LIMIT 5;\n",
    "'''\n",
    "\n",
    "get_query(query)"
   ]
  },
  {
   "cell_type": "markdown",
   "id": "9b1f9f36",
   "metadata": {},
   "source": [
    "<a name='road_damage_relation'></a>\n",
    "#### 3. 2. 2. Анализ серьезности повреждений транспортного средства по состоянию участника\n",
    "[Введение](#introduction)\n",
    "\n",
    "Необходимо определить серьезность повреждений транспортного средства в зависимости от состояния участника на момент ДТП. \n",
    "\n",
    "Необходимые для задачи параметры: *[collision_damage](#collision_damage)* (таблица ***collisions***) и *[party_drug_physical](#party_drug_physical)* (таблица ***parties***).\n",
    "\n",
    "Для полуечния значимой информации данного исследования нет необходимости рассматривать ДТП, когда состояние человек 1) не известно, 2) не оценивалось, 3) не указано. **Решение** данной задачи следует далее."
   ]
  },
  {
   "cell_type": "code",
   "execution_count": 11,
   "id": "ee4e8ed1",
   "metadata": {},
   "outputs": [
    {
     "data": {
      "text/html": [
       "<div>\n",
       "<style scoped>\n",
       "    .dataframe tbody tr th:only-of-type {\n",
       "        vertical-align: middle;\n",
       "    }\n",
       "\n",
       "    .dataframe tbody tr th {\n",
       "        vertical-align: top;\n",
       "    }\n",
       "\n",
       "    .dataframe thead th {\n",
       "        text-align: right;\n",
       "    }\n",
       "</style>\n",
       "<table border=\"1\" class=\"dataframe\">\n",
       "  <thead>\n",
       "    <tr style=\"text-align: right;\">\n",
       "      <th></th>\n",
       "      <th>party_drug_physical</th>\n",
       "      <th>collision_damage</th>\n",
       "      <th>count</th>\n",
       "    </tr>\n",
       "  </thead>\n",
       "  <tbody>\n",
       "    <tr>\n",
       "      <th>0</th>\n",
       "      <td>Ухудшение состояния</td>\n",
       "      <td>Не подлежит восстановлению</td>\n",
       "      <td>48</td>\n",
       "    </tr>\n",
       "    <tr>\n",
       "      <th>1</th>\n",
       "      <td>Ухудшение состояния</td>\n",
       "      <td>Машина в целом на ходу</td>\n",
       "      <td>693</td>\n",
       "    </tr>\n",
       "    <tr>\n",
       "      <th>2</th>\n",
       "      <td>Ухудшение состояния</td>\n",
       "      <td>Царапина</td>\n",
       "      <td>1037</td>\n",
       "    </tr>\n",
       "    <tr>\n",
       "      <th>3</th>\n",
       "      <td>Ухудшение состояния</td>\n",
       "      <td>Серьезное повреждение</td>\n",
       "      <td>147</td>\n",
       "    </tr>\n",
       "    <tr>\n",
       "      <th>4</th>\n",
       "      <td>Ухудшение состояния</td>\n",
       "      <td>Отедльный элемент под замену/покраску</td>\n",
       "      <td>2134</td>\n",
       "    </tr>\n",
       "    <tr>\n",
       "      <th>5</th>\n",
       "      <td>Сонный/Усталый</td>\n",
       "      <td>Не подлежит восстановлению</td>\n",
       "      <td>132</td>\n",
       "    </tr>\n",
       "    <tr>\n",
       "      <th>6</th>\n",
       "      <td>Сонный/Усталый</td>\n",
       "      <td>Машина в целом на ходу</td>\n",
       "      <td>2224</td>\n",
       "    </tr>\n",
       "    <tr>\n",
       "      <th>7</th>\n",
       "      <td>Сонный/Усталый</td>\n",
       "      <td>Царапина</td>\n",
       "      <td>2837</td>\n",
       "    </tr>\n",
       "    <tr>\n",
       "      <th>8</th>\n",
       "      <td>Сонный/Усталый</td>\n",
       "      <td>Серьезное повреждение</td>\n",
       "      <td>376</td>\n",
       "    </tr>\n",
       "    <tr>\n",
       "      <th>9</th>\n",
       "      <td>Сонный/Усталый</td>\n",
       "      <td>Отедльный элемент под замену/покраску</td>\n",
       "      <td>6973</td>\n",
       "    </tr>\n",
       "    <tr>\n",
       "      <th>10</th>\n",
       "      <td>Под воздействием лекарств</td>\n",
       "      <td>Не подлежит восстановлению</td>\n",
       "      <td>2166</td>\n",
       "    </tr>\n",
       "    <tr>\n",
       "      <th>11</th>\n",
       "      <td>Под воздействием лекарств</td>\n",
       "      <td>Машина в целом на ходу</td>\n",
       "      <td>1646</td>\n",
       "    </tr>\n",
       "    <tr>\n",
       "      <th>12</th>\n",
       "      <td>Под воздействием лекарств</td>\n",
       "      <td>Царапина</td>\n",
       "      <td>2105</td>\n",
       "    </tr>\n",
       "    <tr>\n",
       "      <th>13</th>\n",
       "      <td>Под воздействием лекарств</td>\n",
       "      <td>Серьезное повреждение</td>\n",
       "      <td>543</td>\n",
       "    </tr>\n",
       "    <tr>\n",
       "      <th>14</th>\n",
       "      <td>Под воздействием лекарств</td>\n",
       "      <td>Отедльный элемент под замену/покраску</td>\n",
       "      <td>5901</td>\n",
       "    </tr>\n",
       "  </tbody>\n",
       "</table>\n",
       "</div>"
      ],
      "text/plain": [
       "          party_drug_physical                       collision_damage  count\n",
       "0         Ухудшение состояния             Не подлежит восстановлению     48\n",
       "1         Ухудшение состояния                 Машина в целом на ходу    693\n",
       "2         Ухудшение состояния                               Царапина   1037\n",
       "3         Ухудшение состояния                  Серьезное повреждение    147\n",
       "4         Ухудшение состояния  Отедльный элемент под замену/покраску   2134\n",
       "5              Сонный/Усталый             Не подлежит восстановлению    132\n",
       "6              Сонный/Усталый                 Машина в целом на ходу   2224\n",
       "7              Сонный/Усталый                               Царапина   2837\n",
       "8              Сонный/Усталый                  Серьезное повреждение    376\n",
       "9              Сонный/Усталый  Отедльный элемент под замену/покраску   6973\n",
       "10  Под воздействием лекарств             Не подлежит восстановлению   2166\n",
       "11  Под воздействием лекарств                 Машина в целом на ходу   1646\n",
       "12  Под воздействием лекарств                               Царапина   2105\n",
       "13  Под воздействием лекарств                  Серьезное повреждение    543\n",
       "14  Под воздействием лекарств  Отедльный элемент под замену/покраску   5901"
      ]
     },
     "metadata": {},
     "output_type": "display_data"
    }
   ],
   "source": [
    "# Получение данных о количестве инцидентов по состоянию человека и серьезности нарушения\n",
    "query = '''\n",
    "WITH collision_damage_table AS \n",
    "    (SELECT case_id,\n",
    "        collision_damage\n",
    "    FROM collisions),\n",
    "number_of_coll AS \n",
    "    (SELECT p.case_id,\n",
    "        p.party_drug_physical,\n",
    "        cdt.collision_damage,\n",
    "        COUNT(*) OVER (PARTITION BY p.party_drug_physical, cdt.collision_damage)\n",
    "    FROM parties AS p\n",
    "    JOIN collision_damage_table AS cdt ON p.case_id = cdt.case_id\n",
    "    WHERE p.party_type = 'car')\n",
    "\n",
    "\n",
    "SELECT party_drug_physical,\n",
    "    collision_damage,\n",
    "    count\n",
    "FROM number_of_coll\n",
    "WHERE party_drug_physical NOT IN ('G', 'not applicable', 'None')\n",
    "GROUP BY party_drug_physical, collision_damage, count;\n",
    "'''\n",
    "\n",
    "query_df = get_query(query)\n",
    "\n",
    "# Для удобства заменим английские значения на русские\n",
    "query_df.replace('impairment - physical', 'Ухудшение состояния', inplace=True)\n",
    "query_df.replace('sleepy/fatigued', 'Сонный/Усталый', inplace=True)\n",
    "query_df.replace('under drug influence', 'Под воздействием лекарств', inplace=True)\n",
    "\n",
    "query_df.replace('fatal', 'Не подлежит восстановлению', inplace=True)\n",
    "query_df.replace('middle damage', 'Машина в целом на ходу', inplace=True)\n",
    "query_df.replace('scratch', 'Царапина', inplace=True)\n",
    "query_df.replace('severe damage', 'Серьезное повреждение', inplace=True)\n",
    "query_df.replace('small damage', 'Отедльный элемент под замену/покраску', inplace=True)\n",
    "\n",
    "display(query_df)"
   ]
  },
  {
   "cell_type": "code",
   "execution_count": 12,
   "id": "cccbd35d",
   "metadata": {},
   "outputs": [
    {
     "data": {
      "image/png": "[encoded data removed]",
      "text/plain": [
       "<Figure size 504x504 with 1 Axes>"
      ]
     },
     "metadata": {
      "needs_background": "light"
     },
     "output_type": "display_data"
    }
   ],
   "source": [
    "# График зависимости между состоянием участника и серьезностью повреждения\n",
    "plt.figure(figsize=(7, 7))\n",
    "\n",
    "plt.scatter(\n",
    "    query_df['party_drug_physical'],\n",
    "    query_df['collision_damage'],\n",
    "    alpha=0.85,\n",
    "    s=query_df['count'],\n",
    ")\n",
    "\n",
    "plt.title('Зависимость между состоянием участника и серьезностью повреждения', fontsize=16)\n",
    "plt.xlabel('Состояние участника', fontsize=14)\n",
    "plt.xticks(fontsize=12)\n",
    "plt.ylabel('Серьезность происшествия', fontsize=14)\n",
    "plt.yticks(fontsize=12)\n",
    "plt.show()"
   ]
  },
  {
   "cell_type": "markdown",
   "id": "456562b1",
   "metadata": {},
   "source": [
    "**Вывод**:\n",
    "\n",
    "Согласно полученным результатам можно сделать несколько выводов:\n",
    "- Довольно часто случаи с фатальным исходом происходят, когда на участника ДТП воздействуют лекарства ('under drug influence' - OX, 'fatal' - ось OY);\n",
    "- Небольшие повреждения происходят в относительно равной степени, когда 1) человек уснул, 2) произошло ухудшение состояния водителя, 3) на человека оказывают воздействие лекарства. Однако, преобладает именно состояние усталости для данного типа серьезности повреждения;\n",
    "- Для остальных случаев серьезности повреждения количество ДТП относительно равно распределены между тремя типами состояния человека."
   ]
  },
  {
   "cell_type": "markdown",
   "id": "29b5cdc7",
   "metadata": {},
   "source": [
    "<a name='sobriety_reason_relation'></a>\n",
    "#### 3. 2. 3 Анализ зависимости степени трезвости участника и основного фактора аварии\n",
    "[Введение](#introduction)\n",
    "\n",
    "Нужно проанализировать зависимость между степенью трезвости участника ДТП и основным факторов аварии.\n",
    "\n",
    "Необходимые для задачи параметры: *[primary_collision_factor](#primary_collision_factor)* (таблица ***collisions***) и *[party_sobriety](#party_sobriety)* (таблица ***parties***).\n",
    "\n",
    "Примечательно, что как и в случае с предыдущей задачей, нет необходимости рассматривать ДТП, когда не указан или неизвестен основной фактор аварии ('None' / 'unknown'). В дополнение опустим также те аварии, когда по отношению к участнику ДТП нельзя применить понятие степень трезвости ('not applicable'). В том случае, если степень трезвости не указана, будем считать, что человек не пил ('had not been drinking'). **Пример** решения данной задачи следует далее. "
   ]
  },
  {
   "cell_type": "code",
   "execution_count": 13,
   "id": "48d14880",
   "metadata": {},
   "outputs": [
    {
     "data": {
      "text/html": [
       "<div>\n",
       "<style scoped>\n",
       "    .dataframe tbody tr th:only-of-type {\n",
       "        vertical-align: middle;\n",
       "    }\n",
       "\n",
       "    .dataframe tbody tr th {\n",
       "        vertical-align: top;\n",
       "    }\n",
       "\n",
       "    .dataframe thead th {\n",
       "        text-align: right;\n",
       "    }\n",
       "</style>\n",
       "<table border=\"1\" class=\"dataframe\">\n",
       "  <thead>\n",
       "    <tr style=\"text-align: right;\">\n",
       "      <th></th>\n",
       "      <th>primary_collision_factor</th>\n",
       "      <th>party_sobriety</th>\n",
       "      <th>count</th>\n",
       "    </tr>\n",
       "  </thead>\n",
       "  <tbody>\n",
       "    <tr>\n",
       "      <th>0</th>\n",
       "      <td>Уснул</td>\n",
       "      <td>Был пьян, не под влиянием</td>\n",
       "      <td>2</td>\n",
       "    </tr>\n",
       "    <tr>\n",
       "      <th>1</th>\n",
       "      <td>Уснул</td>\n",
       "      <td>Не пил</td>\n",
       "      <td>100</td>\n",
       "    </tr>\n",
       "    <tr>\n",
       "      <th>2</th>\n",
       "      <td>Уснул</td>\n",
       "      <td>Неизвестно ухудшение</td>\n",
       "      <td>5</td>\n",
       "    </tr>\n",
       "    <tr>\n",
       "      <th>3</th>\n",
       "      <td>Другое неправильное вождение</td>\n",
       "      <td>Был пьян, ухудшение неизвестно</td>\n",
       "      <td>171</td>\n",
       "    </tr>\n",
       "    <tr>\n",
       "      <th>4</th>\n",
       "      <td>Другое неправильное вождение</td>\n",
       "      <td>Был пьян, не под влиянием</td>\n",
       "      <td>99</td>\n",
       "    </tr>\n",
       "    <tr>\n",
       "      <th>5</th>\n",
       "      <td>Другое неправильное вождение</td>\n",
       "      <td>Был пьян, под влиянием</td>\n",
       "      <td>86</td>\n",
       "    </tr>\n",
       "    <tr>\n",
       "      <th>6</th>\n",
       "      <td>Другое неправильное вождение</td>\n",
       "      <td>Не пил</td>\n",
       "      <td>8177</td>\n",
       "    </tr>\n",
       "    <tr>\n",
       "      <th>7</th>\n",
       "      <td>Другое неправильное вождение</td>\n",
       "      <td>Неизвестно ухудшение</td>\n",
       "      <td>1775</td>\n",
       "    </tr>\n",
       "    <tr>\n",
       "      <th>8</th>\n",
       "      <td>Кроме водителя</td>\n",
       "      <td>Был пьян, ухудшение неизвестно</td>\n",
       "      <td>85</td>\n",
       "    </tr>\n",
       "    <tr>\n",
       "      <th>9</th>\n",
       "      <td>Кроме водителя</td>\n",
       "      <td>Был пьян, не под влиянием</td>\n",
       "      <td>197</td>\n",
       "    </tr>\n",
       "    <tr>\n",
       "      <th>10</th>\n",
       "      <td>Кроме водителя</td>\n",
       "      <td>Был пьян, под влиянием</td>\n",
       "      <td>121</td>\n",
       "    </tr>\n",
       "    <tr>\n",
       "      <th>11</th>\n",
       "      <td>Кроме водителя</td>\n",
       "      <td>Не пил</td>\n",
       "      <td>32262</td>\n",
       "    </tr>\n",
       "    <tr>\n",
       "      <th>12</th>\n",
       "      <td>Кроме водителя</td>\n",
       "      <td>Неизвестно ухудшение</td>\n",
       "      <td>1188</td>\n",
       "    </tr>\n",
       "    <tr>\n",
       "      <th>13</th>\n",
       "      <td>Нарушение правил ПДД</td>\n",
       "      <td>Был пьян, ухудшение неизвестно</td>\n",
       "      <td>17144</td>\n",
       "    </tr>\n",
       "    <tr>\n",
       "      <th>14</th>\n",
       "      <td>Нарушение правил ПДД</td>\n",
       "      <td>Был пьян, не под влиянием</td>\n",
       "      <td>15518</td>\n",
       "    </tr>\n",
       "    <tr>\n",
       "      <th>15</th>\n",
       "      <td>Нарушение правил ПДД</td>\n",
       "      <td>Был пьян, под влиянием</td>\n",
       "      <td>107969</td>\n",
       "    </tr>\n",
       "    <tr>\n",
       "      <th>16</th>\n",
       "      <td>Нарушение правил ПДД</td>\n",
       "      <td>Не пил</td>\n",
       "      <td>1944618</td>\n",
       "    </tr>\n",
       "    <tr>\n",
       "      <th>17</th>\n",
       "      <td>Нарушение правил ПДД</td>\n",
       "      <td>Неизвестно ухудшение</td>\n",
       "      <td>206647</td>\n",
       "    </tr>\n",
       "  </tbody>\n",
       "</table>\n",
       "</div>"
      ],
      "text/plain": [
       "        primary_collision_factor                  party_sobriety    count\n",
       "0                          Уснул       Был пьян, не под влиянием        2\n",
       "1                          Уснул                          Не пил      100\n",
       "2                          Уснул            Неизвестно ухудшение        5\n",
       "3   Другое неправильное вождение  Был пьян, ухудшение неизвестно      171\n",
       "4   Другое неправильное вождение       Был пьян, не под влиянием       99\n",
       "5   Другое неправильное вождение          Был пьян, под влиянием       86\n",
       "6   Другое неправильное вождение                          Не пил     8177\n",
       "7   Другое неправильное вождение            Неизвестно ухудшение     1775\n",
       "8                 Кроме водителя  Был пьян, ухудшение неизвестно       85\n",
       "9                 Кроме водителя       Был пьян, не под влиянием      197\n",
       "10                Кроме водителя          Был пьян, под влиянием      121\n",
       "11                Кроме водителя                          Не пил    32262\n",
       "12                Кроме водителя            Неизвестно ухудшение     1188\n",
       "13          Нарушение правил ПДД  Был пьян, ухудшение неизвестно    17144\n",
       "14          Нарушение правил ПДД       Был пьян, не под влиянием    15518\n",
       "15          Нарушение правил ПДД          Был пьян, под влиянием   107969\n",
       "16          Нарушение правил ПДД                          Не пил  1944618\n",
       "17          Нарушение правил ПДД            Неизвестно ухудшение   206647"
      ]
     },
     "metadata": {},
     "output_type": "display_data"
    }
   ],
   "source": [
    "# Запрос с количеством аварий в зависимости от основного фактора ДТП и трезвостью участника\n",
    "query = '''\n",
    "WITH primary_factor_table AS \n",
    "    (SELECT case_id,\n",
    "        primary_collision_factor\n",
    "    FROM collisions),\n",
    "collision_sobriety AS \n",
    "    (SELECT p.case_id,\n",
    "        pft.primary_collision_factor,\n",
    "        p.party_sobriety,\n",
    "        COUNT(*) OVER (PARTITION BY pft.primary_collision_factor, p.party_sobriety)\n",
    "    FROM parties AS p\n",
    "    JOIN primary_factor_table AS pft ON p.case_id = pft.case_id\n",
    "    WHERE p.party_type = 'car')\n",
    "\n",
    "\n",
    "SELECT primary_collision_factor,\n",
    "    party_sobriety,\n",
    "    count\n",
    "FROM collision_sobriety\n",
    "WHERE primary_collision_factor NOT IN ('unknown', 'None')\n",
    "    AND party_sobriety NOT IN ('not applicable')\n",
    "GROUP BY primary_collision_factor, party_sobriety, count;\n",
    "'''\n",
    "\n",
    "query_df = get_query(query)\n",
    "\n",
    "# Для удобства заменим английские значения на русские\n",
    "query_df.replace('fell asleep', 'Уснул', inplace=True)\n",
    "query_df.replace('other improper driving', 'Другое неправильное вождение', inplace=True)\n",
    "query_df.replace('other than driver', 'Кроме водителя', inplace=True)\n",
    "query_df.replace('vehicle code violation', 'Нарушение правил ПДД', inplace=True)\n",
    "\n",
    "query_df.replace('had not been drinking', 'Не пил', inplace=True)\n",
    "query_df.replace('had been drinking, not under influence', 'Был пьян, не под влиянием', inplace=True)\n",
    "query_df.replace('had been drinking, impairment unknown', 'Был пьян, ухудшение неизвестно', inplace=True)\n",
    "query_df.replace('had been drinking, under influence', 'Был пьян, под влиянием', inplace=True)\n",
    "query_df.replace('impairment unknown', 'Неизвестно ухудшение', inplace=True)\n",
    "\n",
    "display(query_df)"
   ]
  },
  {
   "cell_type": "code",
   "execution_count": 14,
   "id": "88b4c277",
   "metadata": {},
   "outputs": [
    {
     "data": {
      "image/png": "[encoded data removed]",
      "text/plain": [
       "<Figure size 504x504 with 1 Axes>"
      ]
     },
     "metadata": {
      "needs_background": "light"
     },
     "output_type": "display_data"
    },
    {
     "name": "stdout",
     "output_type": "stream",
     "text": [
      "\n",
      "\n",
      "График зависимости между основным фактором ДТП и трезвостью участника БЕЗ значения \"Не пил\":\n",
      "\n"
     ]
    },
    {
     "data": {
      "image/png": "[encoded data removed]",
      "text/plain": [
       "<Figure size 504x504 with 1 Axes>"
      ]
     },
     "metadata": {
      "needs_background": "light"
     },
     "output_type": "display_data"
    }
   ],
   "source": [
    "# Функция для создания графика зависимости\n",
    "def sobriety_collision_graph(df, size=0.005):\n",
    "    plt.figure(figsize=(7, 7))\n",
    "\n",
    "    plt.scatter(\n",
    "        df['primary_collision_factor'],\n",
    "        df['party_sobriety'],\n",
    "        s=df['count'] * size,\n",
    "        alpha=0.85,\n",
    "        color='c'\n",
    "    )\n",
    "\n",
    "    plt.title('Зависимость между основным фактором ДТП и трезвостью участника', fontsize=16)\n",
    "    plt.xlabel('Основной фактор аварии', fontsize=14)\n",
    "    plt.xticks(rotation=90, fontsize=12)\n",
    "    plt.ylabel('Трезвость участника', fontsize=14)\n",
    "    plt.yticks(fontsize=12)\n",
    "    plt.show()\n",
    "\n",
    "# Первый график зависимости между основным фактором аварии и трезвостью участника\n",
    "sobriety_collision_graph(query_df)\n",
    "\n",
    "# Тот же график, но без значения \"Не пил\" (для увеличения масштаба)\n",
    "query_test = query_df[query_df['party_sobriety'] != 'Не пил']\n",
    "print('\\n\\nГрафик зависимости между основным фактором ДТП и трезвостью участника БЕЗ значения \"Не пил\":\\n')\n",
    "sobriety_collision_graph(query_test, size=0.125)"
   ]
  },
  {
   "cell_type": "markdown",
   "id": "b6e207ef",
   "metadata": {},
   "source": [
    "**Вывод**:\n",
    "\n",
    "В целом получается, что наибольшее количество инцидентов происходит, когда человек находится в трезвом состоянии, что четко отображено на Графике №1. На Графике №2 значения степени трезвости \"не пил\" нет для увеличения масштаба. Примечательно следующее:\n",
    "- Нарушение правил ПДД является главным фактором аварии вне зависимости от трезвости участника;\n",
    "- Основной фактор аварии с наименьшим количеством ДТП - сонливость/усталость."
   ]
  },
  {
   "cell_type": "markdown",
   "id": "ab0be9cd",
   "metadata": {},
   "source": [
    "<a name='violation_state_relation'></a>\n",
    "#### 3. 2. 4. Зависимость между категорией нарушения и состоянием участника\n",
    "[Введение](#introduction)\n",
    "\n",
    "Нужно проанализировать зависимость между категорией нарушения и состоянием участника. Возможно, в зависимости от состояния участника имеется тенденции и к изменению категории нарушения. \n",
    "\n",
    "Необходимые для задачи параметры: *[pcf_violation_category](#pcf_violation_category)* (таблица ***collisions***) и *[party_drug_physical](#party_drug_physical)* (таблица ***parties***)."
   ]
  },
  {
   "cell_type": "markdown",
   "id": "0d91f8b5",
   "metadata": {},
   "source": [
    "<a name='sobriety_fault_relation'></a>\n",
    "#### 3. 2. 5. Анализ корреляции степени трезвости участника и его виновности\n",
    "[Введение](#introduction)\n",
    "\n",
    "Предположительно, что в зависимости от степени трезвости участника меняется и его виновность в совершении ДТП. Следовательно, гипотеза следующая: Степень трезвости напрямую влияент на виновность участника в ДТП. Необходимо подтвердить или опровергнуть данную гипотезу.\n",
    "\n",
    "Необходимые для задачи параметры: *[at_fault](#at_fault)* (таблица ***parties***) и *[party_sobriety](#party_sobriety)* (таблица ***parties***)."
   ]
  },
  {
   "cell_type": "markdown",
   "id": "44464b6c",
   "metadata": {},
   "source": [
    "<a name='road_state_relation'></a>\n",
    "#### 3. 2. 6. Анализ влияния дорожного состояния на серьезность повреждений транспортного средства\n",
    "[Введение](#introduction)\n",
    "\n",
    "Предполагается, что на серьезность повреждения транспортного средства оказывает состояние дорожного полотна. В этой связи необходимо проверить следующую гипотезу: серьезность повреждений ТС зависит от дорожного состояния.\n",
    "\n",
    "Необходимые для задачи параметры: *[road_condition_1](#road_condition_1)* (таблица ***collisions***) и *[collision_damage](#collision_damage)* (таблица ***collisions***)"
   ]
  },
  {
   "cell_type": "markdown",
   "id": "3b85b01f",
   "metadata": {},
   "source": [
    "<a name='model_creation'></a>\n",
    "## 4. Создание модели для оценки водительского риска\n",
    "[Введение](#introduction)\n",
    "\n",
    "<br>Ддя создания модели для оценки водительского риска необходимо подготовить набор данных на основе первиочного предположения заказчика, та также осуществить первичный отбор факторов, необходимых для модели.\n",
    "\n",
    "Далее представлено первичное предположение заказчика:\n",
    "- Тип виновника - только машина (**car**);\n",
    "- Необходимо взять случаи, когда ДТП привело к любым значимым повреждениям автомобиля любого из участников - все, кроме типа **scratch**;\n",
    "- Для моделирования необходимо взять данные за 2012 год;\n",
    "- Необходимо учитывать фактор возраста автомобиля;\n",
    "- Подготовка исходной таблицы должна проводиться с помощью SQL-запроса.\n",
    "\n",
    "<br>**Ход создания модели** для оценки водительского риска:\n",
    "1. [Отбор параметров](#parameters_selection)\n",
    "2. [Исследовательский анализ отобранных параметров](#selected_eda)\n",
    "3. [Подготовка данных](#data_preparation)\n",
    "4. [Выбор метрики для оценки качества моделей](#metric_selection)\n",
    "5. [ML-модели](#ml_models)\n",
    "6. [Выводы по моделям](#conclusions_on_models)"
   ]
  },
  {
   "cell_type": "markdown",
   "id": "8a18e5a2",
   "metadata": {},
   "source": [
    "<a name='parameters_selection'></a>\n",
    "### 4. 1. Отбор параметров\n",
    "[Введение](#introduction)\n",
    "\n",
    "**Первичный отбор факторов, необходимых для модели**:\n",
    "- [at_fault](#at_fault) - целевой показатель;\n",
    "- [cellphone_in_use](#cellphone_in_use) - возможность разговаривать по громкой связи (использование мобильного телефона за рулем может привести к ДТП);\n",
    "- [collision_damage](#collision_damage) - серьезность повреждения (все, кроме scratch);\n",
    "- [collision_date](#collision_date) - месяц и день происшествия (сезонность, разное состояние погоды и дорожного полота может влиять);\n",
    "- [collision_time](#collision_time) - час происшествия (влияет на усталость, видимость)\n",
    "- [control_device](#control_condition_1) - устройство управления (точно может влиять на передвижение автомобиля);\n",
    "- [county_city_location](#county_city_location) - номер географических районов (вероятно, местоположение может влиять);\n",
    "- [direction](#direction) - направление (сервис каршеринга, а тут нужно учитывать направление движения);\n",
    "- [intersection](#intersection) - перекресток (на перекрестках больше машин);\n",
    "- [lightning](#lightning) - освещение (влияет на видимость);\n",
    "- [location_type](#location_type) - тип дороги (возможно, оказывает влияние);\n",
    "- [road_condition_1](#road_condition_1) - дорожное состояние (может приводить ухудшению передвижения);\n",
    "- [road_surface](#road_surface) - состояние дороги (точно может влиять);\n",
    "- [vehicle_age](#vehicle_age) - возраст автомобиля (может оказывать влияние на передвижение и маневренность);\n",
    "- [vehicle_transmission](#vehicle_transmission) - тип КПП (также может влиять на реакцию водителя во время движения, например);\n",
    "- [vehicle_type](vehicle_type) - тип кузова (возможно, оказывает влияние на видимость);\n",
    "- [weather_1](#weather_1) - погода (влияет на видимость, сцепление с дорогой).\n",
    "\n",
    "Признаки, которые могли бы привести к ДТП, но **НЕ** могут быть оценены до поездки:\n",
    "- [party_drug_physical](#party_drug_physical) - состояние участника (определенно влияет, но оценить его до начала поездки не представляется возможным);\n",
    "- [party_sobriety](#party_sobriety) - трезвость участника (также влияет, но ее оценки не представляется возможной до начала поездки).\n",
    "- [primary_collision_factor](#primary_collision_factor) - основной фактор аварии (зависит от каждого отдельного случая).\n"
   ]
  },
  {
   "cell_type": "code",
   "execution_count": 15,
   "id": "6ae0249b",
   "metadata": {
    "scrolled": true
   },
   "outputs": [
    {
     "data": {
      "text/html": [
       "<div>\n",
       "<style scoped>\n",
       "    .dataframe tbody tr th:only-of-type {\n",
       "        vertical-align: middle;\n",
       "    }\n",
       "\n",
       "    .dataframe tbody tr th {\n",
       "        vertical-align: top;\n",
       "    }\n",
       "\n",
       "    .dataframe thead th {\n",
       "        text-align: right;\n",
       "    }\n",
       "</style>\n",
       "<table border=\"1\" class=\"dataframe\">\n",
       "  <thead>\n",
       "    <tr style=\"text-align: right;\">\n",
       "      <th></th>\n",
       "      <th>at_fault</th>\n",
       "      <th>cellphone_in_use</th>\n",
       "      <th>collision_damage</th>\n",
       "      <th>month</th>\n",
       "      <th>day</th>\n",
       "      <th>hour</th>\n",
       "      <th>control_device</th>\n",
       "      <th>county_city_location</th>\n",
       "      <th>direction</th>\n",
       "      <th>intersection</th>\n",
       "      <th>lighting</th>\n",
       "      <th>location_type</th>\n",
       "      <th>road_condition</th>\n",
       "      <th>road_surface</th>\n",
       "      <th>vehicle_age</th>\n",
       "      <th>vehicle_transmission</th>\n",
       "      <th>vehicle_type</th>\n",
       "      <th>weather</th>\n",
       "    </tr>\n",
       "  </thead>\n",
       "  <tbody>\n",
       "    <tr>\n",
       "      <th>0</th>\n",
       "      <td>1</td>\n",
       "      <td>0.0</td>\n",
       "      <td>fatal</td>\n",
       "      <td>1</td>\n",
       "      <td>13</td>\n",
       "      <td>2.0</td>\n",
       "      <td>functioning</td>\n",
       "      <td>3500</td>\n",
       "      <td>None</td>\n",
       "      <td>1.0</td>\n",
       "      <td>dark with street lights</td>\n",
       "      <td>None</td>\n",
       "      <td>loose material</td>\n",
       "      <td>dry</td>\n",
       "      <td>3.0</td>\n",
       "      <td>manual</td>\n",
       "      <td>sedan</td>\n",
       "      <td>clear</td>\n",
       "    </tr>\n",
       "    <tr>\n",
       "      <th>1</th>\n",
       "      <td>1</td>\n",
       "      <td>NaN</td>\n",
       "      <td>fatal</td>\n",
       "      <td>1</td>\n",
       "      <td>11</td>\n",
       "      <td>18.0</td>\n",
       "      <td>none</td>\n",
       "      <td>0112</td>\n",
       "      <td>None</td>\n",
       "      <td>0.0</td>\n",
       "      <td>dark with street lights</td>\n",
       "      <td>ramp</td>\n",
       "      <td>normal</td>\n",
       "      <td>dry</td>\n",
       "      <td>6.0</td>\n",
       "      <td>manual</td>\n",
       "      <td>coupe</td>\n",
       "      <td>clear</td>\n",
       "    </tr>\n",
       "    <tr>\n",
       "      <th>2</th>\n",
       "      <td>1</td>\n",
       "      <td>0.0</td>\n",
       "      <td>fatal</td>\n",
       "      <td>1</td>\n",
       "      <td>5</td>\n",
       "      <td>12.0</td>\n",
       "      <td>none</td>\n",
       "      <td>3700</td>\n",
       "      <td>east</td>\n",
       "      <td>0.0</td>\n",
       "      <td>daylight</td>\n",
       "      <td>None</td>\n",
       "      <td>normal</td>\n",
       "      <td>dry</td>\n",
       "      <td>13.0</td>\n",
       "      <td>auto</td>\n",
       "      <td>coupe</td>\n",
       "      <td>clear</td>\n",
       "    </tr>\n",
       "    <tr>\n",
       "      <th>3</th>\n",
       "      <td>0</td>\n",
       "      <td>0.0</td>\n",
       "      <td>fatal</td>\n",
       "      <td>1</td>\n",
       "      <td>1</td>\n",
       "      <td>10.0</td>\n",
       "      <td>none</td>\n",
       "      <td>1900</td>\n",
       "      <td>north</td>\n",
       "      <td>0.0</td>\n",
       "      <td>daylight</td>\n",
       "      <td>None</td>\n",
       "      <td>normal</td>\n",
       "      <td>dry</td>\n",
       "      <td>5.0</td>\n",
       "      <td>manual</td>\n",
       "      <td>coupe</td>\n",
       "      <td>clear</td>\n",
       "    </tr>\n",
       "    <tr>\n",
       "      <th>4</th>\n",
       "      <td>0</td>\n",
       "      <td>0.0</td>\n",
       "      <td>fatal</td>\n",
       "      <td>1</td>\n",
       "      <td>1</td>\n",
       "      <td>10.0</td>\n",
       "      <td>none</td>\n",
       "      <td>1900</td>\n",
       "      <td>north</td>\n",
       "      <td>0.0</td>\n",
       "      <td>daylight</td>\n",
       "      <td>None</td>\n",
       "      <td>normal</td>\n",
       "      <td>dry</td>\n",
       "      <td>3.0</td>\n",
       "      <td>manual</td>\n",
       "      <td>sedan</td>\n",
       "      <td>clear</td>\n",
       "    </tr>\n",
       "  </tbody>\n",
       "</table>\n",
       "</div>"
      ],
      "text/plain": [
       "   at_fault  cellphone_in_use collision_damage  month  day  hour  \\\n",
       "0         1               0.0            fatal      1   13   2.0   \n",
       "1         1               NaN            fatal      1   11  18.0   \n",
       "2         1               0.0            fatal      1    5  12.0   \n",
       "3         0               0.0            fatal      1    1  10.0   \n",
       "4         0               0.0            fatal      1    1  10.0   \n",
       "\n",
       "  control_device county_city_location direction  intersection  \\\n",
       "0    functioning                 3500      None           1.0   \n",
       "1           none                 0112      None           0.0   \n",
       "2           none                 3700      east           0.0   \n",
       "3           none                 1900     north           0.0   \n",
       "4           none                 1900     north           0.0   \n",
       "\n",
       "                  lighting location_type  road_condition road_surface  \\\n",
       "0  dark with street lights          None  loose material          dry   \n",
       "1  dark with street lights          ramp          normal          dry   \n",
       "2                 daylight          None          normal          dry   \n",
       "3                 daylight          None          normal          dry   \n",
       "4                 daylight          None          normal          dry   \n",
       "\n",
       "   vehicle_age vehicle_transmission vehicle_type weather  \n",
       "0          3.0               manual        sedan   clear  \n",
       "1          6.0               manual        coupe   clear  \n",
       "2         13.0                 auto        coupe   clear  \n",
       "3          5.0               manual        coupe   clear  \n",
       "4          3.0               manual        sedan   clear  "
      ]
     },
     "metadata": {},
     "output_type": "display_data"
    }
   ],
   "source": [
    "# Необходимые для модели параметры\n",
    "parameters_query = '''\n",
    "SELECT p.at_fault,\n",
    "    p.cellphone_in_use,\n",
    "    c.collision_damage,\n",
    "    EXTRACT(MONTH FROM c.collision_date)::int AS month,\n",
    "    EXTRACT(DAY FROM c.collision_date)::int AS day,\n",
    "    EXTRACT(HOUR FROM c.collision_time)::int AS hour,\n",
    "    c.control_device,\n",
    "    c.county_city_location,\n",
    "    c.direction,\n",
    "    c.intersection,\n",
    "    c.lighting,\n",
    "    c.location_type,\n",
    "    c.road_condition_1 AS road_condition,\n",
    "    c.road_surface,\n",
    "    v.vehicle_age,\n",
    "    v.vehicle_transmission,\n",
    "    v.vehicle_type,\n",
    "    c.weather_1 AS weather\n",
    "FROM parties AS p\n",
    "JOIN collisions AS c ON p.case_id = c.case_id\n",
    "JOIN vehicles AS v ON p.case_id = v.case_id\n",
    "WHERE p.party_type = 'car'\n",
    "    AND EXTRACT(YEAR FROM c.collision_date)::int = 2012\n",
    "    AND collision_damage != 'scratch';\n",
    "'''\n",
    "\n",
    "parameters_df = get_query(parameters_query)\n",
    "display(parameters_df.head())"
   ]
  },
  {
   "cell_type": "markdown",
   "id": "8ad53a70",
   "metadata": {},
   "source": [
    "<a name='selected_eda'></a>\n",
    "### 4. 2. Исследовательский анализ отобранных параметров\n",
    "[Введение](#introduction)"
   ]
  },
  {
   "cell_type": "markdown",
   "id": "29432c62",
   "metadata": {},
   "source": [
    "Проанализиурем отобранные параметры и полученные данные. Рассмотрим размер, пропущенные значения, аномальные значения и определим, как их подкорректировать / исправить."
   ]
  },
  {
   "cell_type": "code",
   "execution_count": 16,
   "id": "1e00cb5d",
   "metadata": {},
   "outputs": [
    {
     "name": "stdout",
     "output_type": "stream",
     "text": [
      "Размер полученного набора данных: (118411, 18)\n"
     ]
    }
   ],
   "source": [
    "print('Размер полученного набора данных:', parameters_df.shape)"
   ]
  },
  {
   "cell_type": "code",
   "execution_count": 17,
   "id": "7ecc87e3",
   "metadata": {},
   "outputs": [
    {
     "name": "stdout",
     "output_type": "stream",
     "text": [
      "Пропущенные значения по стобцам:\n",
      "\n",
      " at_fault                    0\n",
      "cellphone_in_use        10904\n",
      "collision_damage            0\n",
      "month                       0\n",
      "day                         0\n",
      "hour                      128\n",
      "control_device            454\n",
      "county_city_location        0\n",
      "direction               28945\n",
      "intersection              368\n",
      "lighting                  331\n",
      "location_type           63274\n",
      "road_condition            568\n",
      "road_surface              766\n",
      "vehicle_age              3365\n",
      "vehicle_transmission     1866\n",
      "vehicle_type                0\n",
      "weather                   389\n",
      "dtype: int64\n"
     ]
    }
   ],
   "source": [
    "print('Пропущенные значения по стобцам:\\n\\n', parameters_df.isna().sum())"
   ]
  },
  {
   "cell_type": "markdown",
   "id": "77501383",
   "metadata": {},
   "source": [
    "Заполним пропуски в зависимости от того, является переменная категориальной или количественной.\n",
    "\n",
    "Единственный из отобранных параметров, который является количественным - *[vehicle_age](#vehicle_age)* (возраст автомобиля). Остальные переменные относятся к категориальным.\n",
    "\n",
    "Заполнять категориальные переменные можно следующий образом: при бинарной классификации недостающее значение можно поменять на одно из них по логике (если возможно), при мультиклассификации - также использовать одно из значений (по логике, если возможно) или совершенно иное значение (строковое 'none'), или удалять пропущенные значения, если количество объектов довольно маленькое (в нашем случае, например, - до тысячи)."
   ]
  },
  {
   "cell_type": "code",
   "execution_count": 18,
   "id": "a1aff54c",
   "metadata": {
    "scrolled": true
   },
   "outputs": [
    {
     "name": "stdout",
     "output_type": "stream",
     "text": [
      "Количество значений больше 1000, поэтому их нельзя удалить.\n",
      "\n",
      "Распределение значений параметров 'cellphone_in_use' ДО:\n"
     ]
    },
    {
     "data": {
      "text/plain": [
       "0.0    105215\n",
       "1.0      2292\n",
       "Name: cellphone_in_use, dtype: int64"
      ]
     },
     "metadata": {},
     "output_type": "display_data"
    },
    {
     "name": "stdout",
     "output_type": "stream",
     "text": [
      "Заметно, что в подавляющем большинстве случаев в автомобиле отсутствует телефон\n",
      "Ввиду этого заполним cellphone_in_use значением \"0\"\n",
      "\n",
      "Распределение значений параметров 'cellphone_in_use' ПОСЛЕ:\n"
     ]
    },
    {
     "data": {
      "text/plain": [
       "0.0    116119\n",
       "1.0      2292\n",
       "Name: cellphone_in_use, dtype: int64"
      ]
     },
     "metadata": {},
     "output_type": "display_data"
    }
   ],
   "source": [
    "# cellphone_in_use\n",
    "print('Количество значений больше 1000, поэтому их нельзя удалить.\\n')\n",
    "print(\"Распределение значений параметров 'cellphone_in_use' ДО:\")\n",
    "display(parameters_df['cellphone_in_use'].value_counts())\n",
    "\n",
    "print('Заметно, что в подавляющем большинстве случаев в автомобиле отсутствует телефон')\n",
    "print('Ввиду этого заполним cellphone_in_use значением \"0\"')\n",
    "parameters_df['cellphone_in_use'].fillna(0, inplace=True)\n",
    "\n",
    "print(\"\\nРаспределение значений параметров 'cellphone_in_use' ПОСЛЕ:\")\n",
    "display(parameters_df['cellphone_in_use'].value_counts())"
   ]
  },
  {
   "cell_type": "code",
   "execution_count": 19,
   "id": "249861fa",
   "metadata": {},
   "outputs": [],
   "source": [
    "# Количество пропущенных значений 'hour' < 1000, поэтому их можно удалить\n",
    "parameters_df = parameters_df[~parameters_df['hour'].isna()]"
   ]
  },
  {
   "cell_type": "code",
   "execution_count": 20,
   "id": "575117bf",
   "metadata": {},
   "outputs": [],
   "source": [
    "# Количество пропущенных значений 'control_device' < 1000, поэтому их можно удалить\n",
    "parameters_df = parameters_df[~parameters_df['control_device'].isna()]"
   ]
  },
  {
   "cell_type": "code",
   "execution_count": 21,
   "id": "0cef13db",
   "metadata": {},
   "outputs": [
    {
     "name": "stdout",
     "output_type": "stream",
     "text": [
      "Распределение значений параметров 'direction':\n"
     ]
    },
    {
     "data": {
      "text/plain": [
       "north    25036\n",
       "south    24582\n",
       "west     20065\n",
       "east     19356\n",
       "Name: direction, dtype: int64"
      ]
     },
     "metadata": {},
     "output_type": "display_data"
    }
   ],
   "source": [
    "print(\"Распределение значений параметров 'direction':\")\n",
    "display(parameters_df['direction'].value_counts())\n",
    "\n",
    "# Количество пропущенных значений 'control_device' > 1000 (> 28k), поэтому их нельзя удалить\n",
    "# Заполним их строкой 'None', поскольку непонятно, к какому направлению пропущенные значения относятся\n",
    "parameters_df['direction'].fillna('None', inplace=True)"
   ]
  },
  {
   "cell_type": "code",
   "execution_count": 22,
   "id": "4d9500bc",
   "metadata": {},
   "outputs": [],
   "source": [
    "# Количество пропущенных значений 'intersection' < 1000, поэтому их можно удалить\n",
    "parameters_df = parameters_df[~parameters_df['intersection'].isna()]"
   ]
  },
  {
   "cell_type": "code",
   "execution_count": 23,
   "id": "4ae94c46",
   "metadata": {},
   "outputs": [],
   "source": [
    "# Количество пропущенных значений 'lighting' < 1000, поэтому их можно удалить\n",
    "parameters_df = parameters_df[~parameters_df['lighting'].isna()]"
   ]
  },
  {
   "cell_type": "code",
   "execution_count": 24,
   "id": "4ca86914",
   "metadata": {},
   "outputs": [
    {
     "name": "stdout",
     "output_type": "stream",
     "text": [
      "Распределение значений параметров 'location_type':\n"
     ]
    },
    {
     "data": {
      "text/plain": [
       "highway         45751\n",
       "ramp             6206\n",
       "intersection     2845\n",
       "Name: location_type, dtype: int64"
      ]
     },
     "metadata": {},
     "output_type": "display_data"
    }
   ],
   "source": [
    "print(\"Распределение значений параметров 'location_type':\")\n",
    "display(parameters_df['location_type'].value_counts())\n",
    "\n",
    "# Количество пропущенных значений крайне высоко - 63 274. Заполнение определенным образом\n",
    "# может в значительной степени сказаться на дальнейших результатах работы ML-моделей\n",
    "# Ввиду этого лучше заполнить пропуски отдельным значением 'none':\n",
    "parameters_df['location_type'].fillna('none', inplace=True)"
   ]
  },
  {
   "cell_type": "code",
   "execution_count": 25,
   "id": "bcaa85c0",
   "metadata": {},
   "outputs": [],
   "source": [
    "# Количество пропущенных значений 'road_condition' < 1000, поэтому их можно удалить\n",
    "parameters_df = parameters_df[~parameters_df['road_condition'].isna()]"
   ]
  },
  {
   "cell_type": "code",
   "execution_count": 26,
   "id": "73bdc816",
   "metadata": {},
   "outputs": [],
   "source": [
    "# Количество пропущенных значений 'road_surface' < 1000, поэтому их можно удалить\n",
    "parameters_df = parameters_df[~parameters_df['road_surface'].isna()]"
   ]
  },
  {
   "cell_type": "code",
   "execution_count": 27,
   "id": "e3b52e02",
   "metadata": {},
   "outputs": [
    {
     "name": "stdout",
     "output_type": "stream",
     "text": [
      "Распределение значений параметров 'vehicle_age':\n"
     ]
    },
    {
     "data": {
      "text/plain": [
       "3.0      21249\n",
       "4.0      14329\n",
       "2.0      12569\n",
       "5.0      11559\n",
       "6.0       8345\n",
       "7.0       8220\n",
       "8.0       7534\n",
       "0.0       6619\n",
       "9.0       6006\n",
       "1.0       5573\n",
       "10.0      4229\n",
       "11.0      2972\n",
       "12.0      1845\n",
       "13.0      1163\n",
       "14.0       593\n",
       "15.0        81\n",
       "16.0        19\n",
       "17.0         6\n",
       "161.0        4\n",
       "19.0         1\n",
       "Name: vehicle_age, dtype: int64"
      ]
     },
     "metadata": {},
     "output_type": "display_data"
    }
   ],
   "source": [
    "print(\"Распределение значений параметров 'vehicle_age':\")\n",
    "display(parameters_df['vehicle_age'].value_counts())\n",
    "\n",
    "# Заполним пропущенные значения возраста автомобиля медианным значением\n",
    "parameters_df['vehicle_age'].fillna(parameters_df['vehicle_age'].median(), inplace=True)"
   ]
  },
  {
   "cell_type": "code",
   "execution_count": 28,
   "id": "5c3c9959",
   "metadata": {},
   "outputs": [
    {
     "name": "stdout",
     "output_type": "stream",
     "text": [
      "Распределение значений параметров 'vehicle_transmission':\n"
     ]
    },
    {
     "data": {
      "text/plain": [
       "manual    59769\n",
       "auto      54608\n",
       "Name: vehicle_transmission, dtype: int64"
      ]
     },
     "metadata": {},
     "output_type": "display_data"
    }
   ],
   "source": [
    "print(\"Распределение значений параметров 'vehicle_transmission':\")\n",
    "display(parameters_df['vehicle_transmission'].value_counts())\n",
    "\n",
    "# Поскольку количество объектов с разными значениями примерно одинаково, то для того, чтобы\n",
    "# не исказить картину лучше вставить отдельное значение 'none':\n",
    "parameters_df['vehicle_transmission'].fillna('none', inplace=True)"
   ]
  },
  {
   "cell_type": "code",
   "execution_count": 29,
   "id": "0a6b6488",
   "metadata": {},
   "outputs": [],
   "source": [
    "# Количество пропущенных значений 'weather' < 1000, поэтому их можно удалить\n",
    "parameters_df = parameters_df[~parameters_df['weather'].isna()]"
   ]
  },
  {
   "cell_type": "markdown",
   "id": "d616a67e",
   "metadata": {},
   "source": [
    "Удаление полных дубликатов их ухудшает и на тестовой выборке. Ввиду этого принято решение их оставить. Закомментированный код удаления дубликатов находится ниже."
   ]
  },
  {
   "cell_type": "code",
   "execution_count": 30,
   "id": "d3328914",
   "metadata": {},
   "outputs": [],
   "source": [
    "# print('Количество полных дубликатов ДО удаления:', parameters_df.duplicated().sum())\n",
    "      \n",
    "# # Избавимся от полных дубликатов, поскольку они могут исказить результаты анализы\n",
    "# parameters_df.drop_duplicates(inplace=True)\n",
    "\n",
    "# print('Количество полных дубликатов ПОСЛЕ удаления:', parameters_df.duplicated().sum())"
   ]
  },
  {
   "cell_type": "markdown",
   "id": "3cf5d3c6",
   "metadata": {},
   "source": [
    "<a name='correlation_phik'></a>\n",
    "**Корреляция phik**"
   ]
  },
  {
   "cell_type": "code",
   "execution_count": 31,
   "id": "4688750a",
   "metadata": {},
   "outputs": [
    {
     "name": "stdout",
     "output_type": "stream",
     "text": [
      "interval columns not set, guessing: ['at_fault', 'cellphone_in_use', 'month', 'day', 'hour', 'intersection', 'vehicle_age']\n"
     ]
    },
    {
     "data": {
      "image/png": "[encoded data removed]",
      "text/plain": [
       "<Figure size 1008x720 with 2 Axes>"
      ]
     },
     "metadata": {
      "needs_background": "light"
     },
     "output_type": "display_data"
    }
   ],
   "source": [
    "# Демонстрация графика корреляции Phik\n",
    "phik_overview = parameters_df.phik_matrix()\n",
    "phik_overview.round(2)\n",
    "\n",
    "plot_correlation_matrix(\n",
    "    phik_overview.values,\n",
    "    x_labels=phik_overview.columns,\n",
    "    y_labels=phik_overview.index,\n",
    "    vmin=0,\n",
    "    vmax=1,\n",
    "    figsize=(14, 10)\n",
    ")"
   ]
  },
  {
   "cell_type": "markdown",
   "id": "15f8efef",
   "metadata": {},
   "source": [
    "Примечательно, что коэффициенты корреляции между целевым показателем и остальными не првышает и 0.1 (кроме часа аварии), что говорит о довольно низкой взаимозависимости. Вероятно, ввиду этого сложно будет определить риск попадания в ДТП."
   ]
  },
  {
   "cell_type": "markdown",
   "id": "a14c7680",
   "metadata": {},
   "source": [
    "<a name='data_preparation'></a>\n",
    "### 4. 3. Подготовка данных\n",
    "[Введение](#introduction)\n",
    "\n",
    "Осуществим разбиение данных на тренировочную и тестовую выборки, а также проведем кодирование категориальных переменных вместе с масштабирование признаков. В качестве способа кодирования возьмем порядковое кодирование, поскольку количество категориальных переменных довольно большое, а число их значений - еще больше, поэтому обучение моделей может быть усложнено, что может значительным образом отразиться на времени их обучения. Примечательно - количество параметров при прямом кодировании превышает 600."
   ]
  },
  {
   "cell_type": "code",
   "execution_count": 32,
   "id": "75702f48",
   "metadata": {
    "scrolled": false
   },
   "outputs": [],
   "source": [
    "pd.options.mode.chained_assignment = None\n",
    "\n",
    "categorical_cols = ['cellphone_in_use', 'collision_damage', 'month', 'day', 'hour', 'control_device', \n",
    "                    'county_city_location','direction', 'intersection','lighting', 'location_type', \n",
    "                    'road_condition', 'road_surface', 'vehicle_transmission', 'vehicle_type', 'weather']\n",
    "numeric_col = ['vehicle_age']\n",
    "\n",
    "# Разбиение на независимые и зависимый параметры\n",
    "X = parameters_df.drop('at_fault', axis=1)\n",
    "y = parameters_df['at_fault']\n",
    "\n",
    "# Разбиение на трнеировочную и тестовую выборки\n",
    "X_train, X_test, y_train, y_test = train_test_split(\n",
    "    X, y, random_state=42, test_size=0.25\n",
    ")\n",
    "\n",
    "# Порядковое кодирование\n",
    "encoder = OrdinalEncoder(handle_unknown='use_encoded_value', unknown_value=-1)\n",
    "encoder.fit(X_train[categorical_cols])\n",
    "X_train[categorical_cols] = encoder.transform(X_train[categorical_cols])\n",
    "X_test[categorical_cols] = encoder.transform(X_test[categorical_cols])\n",
    "\n",
    "# Масштабирование признаков\n",
    "scaler = StandardScaler()\n",
    "scaler.fit(X_train)\n",
    "\n",
    "X_train = scaler.transform(X_train)\n",
    "X_test = scaler.transform(X_test)"
   ]
  },
  {
   "cell_type": "markdown",
   "id": "3f9851b2",
   "metadata": {},
   "source": [
    "<div class=\"alert alert-success\">\n",
    "    <b> ✅**Комментарий ревьюера** </b>\n",
    "        <p>Отлично, что применяешь fit только на трейне. Тут бы очень пригодились <a href=\"https://scikit-learn.org/stable/modules/generated/sklearn.pipeline.Pipeline.html\">пайплайны из библиотеки scikit-learn</a>. Вот лишь часть преимуществ пайплайнов:  \n",
    "\n",
    "* позволяют структурировать код и разбить его на логические части, что облегчает чтение и понимание кода;\n",
    "* позволяют автоматизировать процесс обработки данных, что уменьшает вероятность ошибок;\n",
    "* сокращают время на подготовку данных и запуск модели;\n",
    "* автоматизируют рутинные задачи и позволяют фокусироваться на более сложных задачах.</p>\n",
    "</div>"
   ]
  },
  {
   "cell_type": "markdown",
   "id": "8019d91b",
   "metadata": {},
   "source": [
    "<a name='metric_selection'></a>\n",
    "### 4. 4. Выбор метрики для оценки качества моделей\n",
    "[Введение](#introduction)\n",
    "\n",
    "В рамках бизнес-задачи необходимо осуществить следующее: минимизировать риск попадания в ДТП на маршруте движения. У нас имеется задача бинарной классификации, где значения целевого показателя - это \"Виновен\" и \"Не виновен\". Необходимо минимизировать ложноотрицательные значения с целью максимального снижения возможного риска, но также и минимизировать ложноположительные значения, чтобы была возможность быстро добраться на пункта назначения. С этим поможет справиться *F1-мера*. Также для определения умения предсказывания и качества модели будем использовать AUC-ROC, сравнивая с рандомной моделью.\n",
    "\n",
    "Таким образом, будут использованы следующие **метрики** для оценки качества используемых ML-моделей:\n",
    "- F1-мера;\n",
    "- AUC-ROC."
   ]
  },
  {
   "cell_type": "code",
   "execution_count": 33,
   "id": "d1b4ebbb",
   "metadata": {},
   "outputs": [],
   "source": [
    "scoring = ['f1', 'roc_auc']"
   ]
  },
  {
   "cell_type": "markdown",
   "id": "9ef44fcc",
   "metadata": {},
   "source": [
    "<a name='ml_models'></a>\n",
    "### 4. 5. ML-модели\n",
    "[Введение](#introduction)\n",
    "\n",
    "Необходимо создать несколько ML-моделей для решения поставленной задачи - построения системы оценки риска попадания в ДТП на маршруте движения. Для создания качественных моделей машинного обучения возьмем несколько из них, осуществим подбор гиперпараметров, а также протестируем их на тестовой выборке. Рассматриваемые ML-модели:\n",
    "1. [DecisionTreeClassifier](#tree)\n",
    "2. [RandomForestClassifier](#RandomForestClassifier)\n",
    "3. [LGBMClassifier](#lgbm)\n",
    "4. [Нейронная сеть](#neural_net)"
   ]
  },
  {
   "cell_type": "markdown",
   "id": "e575bf75",
   "metadata": {},
   "source": [
    "<a name='tree'></a>\n",
    "#### 4. 5. 1. DecisionTreeClassifier\n",
    "[Введение](#introduction)"
   ]
  },
  {
   "cell_type": "code",
   "execution_count": 34,
   "id": "4bfc6730",
   "metadata": {},
   "outputs": [
    {
     "data": {
      "text/plain": [
       "\"\\n%%time\\n\\ntree = DecisionTreeClassifier(random_state=42)\\n\\n# Гиперпараметры для перебора\\nparam_grid = {\\n    'max_depth': range(10, 21, 2), \\n    'criterion': ['gini', 'entropy'],\\n}\\n\\n# Перебор гиперпараметров\\ngrid = GridSearchCV(tree, param_grid, scoring=scoring, refit='f1')\\ngrid.fit(X_train, y_train)\\n\\n# Получение значения гиперпараметров с лучшими метриками\\nmetrics_columns = [f'mean_test_{x}' for x in scoring]\\nfinal_metrics = pd.DataFrame(grid.cv_results_)[metrics_columns].iloc[grid.best_index_]\\n\\nprint(grid.best_estimator_)\\ndisplay(final_metrics)\\n\""
      ]
     },
     "execution_count": 34,
     "metadata": {},
     "output_type": "execute_result"
    }
   ],
   "source": [
    "'''\n",
    "%%time\n",
    "\n",
    "tree = DecisionTreeClassifier(random_state=42)\n",
    "\n",
    "# Гиперпараметры для перебора\n",
    "param_grid = {\n",
    "    'max_depth': range(10, 21, 2), \n",
    "    'criterion': ['gini', 'entropy'],\n",
    "}\n",
    "\n",
    "# Перебор гиперпараметров\n",
    "grid = GridSearchCV(tree, param_grid, scoring=scoring, refit='f1')\n",
    "grid.fit(X_train, y_train)\n",
    "\n",
    "# Получение значения гиперпараметров с лучшими метриками\n",
    "metrics_columns = [f'mean_test_{x}' for x in scoring]\n",
    "final_metrics = pd.DataFrame(grid.cv_results_)[metrics_columns].iloc[grid.best_index_]\n",
    "\n",
    "print(grid.best_estimator_)\n",
    "display(final_metrics)\n",
    "'''"
   ]
  },
  {
   "cell_type": "markdown",
   "id": "8beb11c0",
   "metadata": {},
   "source": [
    "**DecisionTreeClassifier(max_depth=10, random_state=42)**\n",
    "- mean_test_f1         0.368330\n",
    "- mean_test_roc_auc    0.553756\n",
    "\n",
    "CPU times: user 20 s, sys: 87.1 ms, total: 20 s\n",
    "Wall time: 20.1 s"
   ]
  },
  {
   "cell_type": "code",
   "execution_count": 35,
   "id": "d3171e3e",
   "metadata": {},
   "outputs": [],
   "source": [
    "tree = DecisionTreeClassifier(max_depth=10, random_state=42)\n",
    "tree.fit(X_train, y_train)\n",
    "tree_preds = tree.predict(X_test)\n",
    "tree_f1 = round(f1_score(y_test, tree_preds), 3)\n",
    "tree_auc_roc = round(roc_auc_score(y_test, tree_preds), 3)"
   ]
  },
  {
   "cell_type": "markdown",
   "id": "a570be51",
   "metadata": {},
   "source": [
    "<a name='forest'></a>\n",
    "#### 4. 5. 2. RandomForestClassifier\n",
    "[Введение](#introduction)"
   ]
  },
  {
   "cell_type": "code",
   "execution_count": 36,
   "id": "02956111",
   "metadata": {},
   "outputs": [
    {
     "data": {
      "text/plain": [
       "\"\\n%%time\\n\\nforest = RandomForestClassifier(random_state=42)\\n\\n# Гиперпараметры для перебора\\nparam_grid = {\\n    'max_depth': range(10, 21, 2), \\n    'n_estimators': range(150, 351, 50)\\n}\\n\\n# Перебор гиперпараметров\\ngrid = GridSearchCV(forest, param_grid, scoring=scoring, refit='f1')\\ngrid.fit(X_train, y_train)\\n\\n# Получение значения гиперпараметров с лучшими метриками\\nmetrics_columns = [f'mean_test_{x}' for x in scoring]\\nfinal_metrics = pd.DataFrame(grid.cv_results_)[metrics_columns].iloc[grid.best_index_]\\n\\nprint(grid.best_estimator_)\\ndisplay(final_metrics)\\n\""
      ]
     },
     "execution_count": 36,
     "metadata": {},
     "output_type": "execute_result"
    }
   ],
   "source": [
    "'''\n",
    "%%time\n",
    "\n",
    "forest = RandomForestClassifier(random_state=42)\n",
    "\n",
    "# Гиперпараметры для перебора\n",
    "param_grid = {\n",
    "    'max_depth': range(10, 21, 2), \n",
    "    'n_estimators': range(150, 351, 50)\n",
    "}\n",
    "\n",
    "# Перебор гиперпараметров\n",
    "grid = GridSearchCV(forest, param_grid, scoring=scoring, refit='f1')\n",
    "grid.fit(X_train, y_train)\n",
    "\n",
    "# Получение значения гиперпараметров с лучшими метриками\n",
    "metrics_columns = [f'mean_test_{x}' for x in scoring]\n",
    "final_metrics = pd.DataFrame(grid.cv_results_)[metrics_columns].iloc[grid.best_index_]\n",
    "\n",
    "print(grid.best_estimator_)\n",
    "display(final_metrics)\n",
    "'''"
   ]
  },
  {
   "cell_type": "markdown",
   "id": "63f59c8b",
   "metadata": {},
   "source": [
    "**RandomForestClassifier(max_depth=10, n_estimators=300, random_state=42)**\n",
    "- mean_test_f1         0.348113\n",
    "- mean_test_roc_auc    0.554821\n",
    "\n",
    "CPU times: user 50min 11s, sys: 9.75 s, total: 50min 21s\n",
    "Wall time: 50min 43s"
   ]
  },
  {
   "cell_type": "code",
   "execution_count": 37,
   "id": "bd91e9dd",
   "metadata": {},
   "outputs": [],
   "source": [
    "forest = RandomForestClassifier(max_depth=10, n_estimators=300, random_state=42)\n",
    "forest.fit(X_train, y_train)\n",
    "forest_preds = forest.predict(X_test)\n",
    "forest_f1 = round(f1_score(y_test, forest_preds), 3)\n",
    "forest_auc_roc = round(roc_auc_score(y_test, forest_preds), 3)"
   ]
  },
  {
   "cell_type": "markdown",
   "id": "95450bb5",
   "metadata": {},
   "source": [
    "<a name='lgbm'></a>\n",
    "#### 4. 5. 3. LGBMClassifier\n",
    "[Введение](#introduction)"
   ]
  },
  {
   "cell_type": "code",
   "execution_count": 38,
   "id": "93f96355",
   "metadata": {},
   "outputs": [
    {
     "data": {
      "text/plain": [
       "\"\\n%%time\\n\\nlgbm = LGBMClassifier(random_state=42)\\n\\n# Гиперпараметры для перебора\\nparams_lgbm = {\\n    'num_leaves': range(31, 41, 3),\\n    'n_estimators': range(100, 201, 50),\\n}\\n\\n# Перебор гиперпараметров\\ngrid = GridSearchCV(lgbm, params_lgbm, scoring=scoring, refit='f1')\\ngrid.fit(X_train, y_train)\\n\\n# Получение значения гиперпараметров с лучшими метриками\\nmetrics_columns = [f'mean_test_{x}' for x in scoring]\\nfinal_metrics = pd.DataFrame(grid.cv_results_)[metrics_columns].iloc[grid.best_index_]\\n\\nprint(grid.best_estimator_)\\ndisplay(final_metrics)\\n\""
      ]
     },
     "execution_count": 38,
     "metadata": {},
     "output_type": "execute_result"
    }
   ],
   "source": [
    "'''\n",
    "%%time\n",
    "\n",
    "lgbm = LGBMClassifier(random_state=42)\n",
    "\n",
    "# Гиперпараметры для перебора\n",
    "params_lgbm = {\n",
    "    'num_leaves': range(31, 41, 3),\n",
    "    'n_estimators': range(100, 201, 50),\n",
    "}\n",
    "\n",
    "# Перебор гиперпараметров\n",
    "grid = GridSearchCV(lgbm, params_lgbm, scoring=scoring, refit='f1')\n",
    "grid.fit(X_train, y_train)\n",
    "\n",
    "# Получение значения гиперпараметров с лучшими метриками\n",
    "metrics_columns = [f'mean_test_{x}' for x in scoring]\n",
    "final_metrics = pd.DataFrame(grid.cv_results_)[metrics_columns].iloc[grid.best_index_]\n",
    "\n",
    "print(grid.best_estimator_)\n",
    "display(final_metrics)\n",
    "'''"
   ]
  },
  {
   "cell_type": "markdown",
   "id": "d84f5cef",
   "metadata": {},
   "source": [
    "**LGBMClassifier(n_estimators=150, random_state=42)**\n",
    "- mean_test_f1         0.391825\n",
    "- mean_test_roc_auc    0.557005\n",
    "\n",
    "CPU times: user 4min 22s, sys: 1.27 s, total: 4min 24s\n",
    "Wall time: 4min 25s"
   ]
  },
  {
   "cell_type": "code",
   "execution_count": 39,
   "id": "e74b123e",
   "metadata": {},
   "outputs": [],
   "source": [
    "lgbm = LGBMClassifier(n_estimators=150, random_state=42)\n",
    "lgbm.fit(X_train, y_train)\n",
    "lgbm_preds = lgbm.predict(X_test)\n",
    "lgbm_f1 = round(f1_score(y_test, lgbm_preds), 3)\n",
    "lgbm_auc_roc = round(roc_auc_score(y_test, lgbm_preds), 3)"
   ]
  },
  {
   "cell_type": "markdown",
   "id": "bb02cd7c",
   "metadata": {},
   "source": [
    "<a name='neural_net'></a>\n",
    "#### 4. 5. 4. Нейронная сеть\n",
    "[Введение](#introduction)\n",
    "\n",
    "Характеристики нейроннов сети:\n",
    "- 4 слоя - 2 скрытых:\n",
    "    - Входной слой: количество нейронов - число независимых параметров по обучающей выборке;\n",
    "    - Скрытый слой №1: 8 нейронов;\n",
    "    - Скрытый слой №2: 5 нейронов;\n",
    "    - Выходной слой: 1 нейрон.\n",
    "- Функции активации - сигмоиды;\n",
    "- Количество эпох - 31;\n",
    "- Тестирование модели - каждые 6 эпохи;\n",
    "- Инициализация весов по непрерывному равномерному распределению Кайминга;\n",
    "- Осуществление тренировки с помощью батчей;\n",
    "- Размер батча - 128."
   ]
  },
  {
   "cell_type": "code",
   "execution_count": null,
   "id": "cdf9694b",
   "metadata": {},
   "outputs": [],
   "source": [
    "# Установка random seed\n",
    "torch.manual_seed(42)\n",
    "np.random.seed(42)\n",
    "\n",
    "X_train_torch = torch.FloatTensor(X_train)\n",
    "X_test_torch = torch.FloatTensor(X_test)\n",
    "y_train_torch = torch.FloatTensor(y_train.values)\n",
    "y_test_torch = torch.FloatTensor(y_test.values)\n",
    "\n",
    "# Число нейронов в каждом слое\n",
    "in_neurons = X_train.shape[1]\n",
    "hidden_neurons_1 = 8\n",
    "hidden_neurons_2 = 5\n",
    "out_neurons = 1\n",
    "\n",
    "# Нейронная сеть\n",
    "net = nn.Sequential(\n",
    "    nn.Linear(in_neurons, hidden_neurons_1),\n",
    "    nn.BatchNorm1d(hidden_neurons_1),\n",
    "    nn.Sigmoid(),\n",
    "    nn.Linear(hidden_neurons_1, hidden_neurons_2),\n",
    "    nn.BatchNorm1d(hidden_neurons_2),\n",
    "    nn.Sigmoid(),\n",
    "    nn.Linear(hidden_neurons_2, out_neurons),\n",
    "    nn.Sigmoid()\n",
    ")\n",
    "\n",
    "optimizer = torch.optim.Adam(net.parameters(), lr=1e-3)  # Оптимизатор\n",
    "loss = nn.BCELoss()  # Функция потерь\n",
    "metric = BinaryF1Score()  # Метрика"
   ]
  },
  {
   "cell_type": "code",
   "execution_count": 56,
   "id": "d0c684ce",
   "metadata": {},
   "outputs": [
    {
     "data": {
      "text/plain": [
       "NeuralNet(\n",
       "  (fc1): Linear(in_features=17, out_features=8, bias=True)\n",
       "  (bn1): BatchNorm1d(8, eps=1e-05, momentum=0.1, affine=True, track_running_stats=True)\n",
       "  (ac1): Sigmoid()\n",
       "  (fc2): Linear(in_features=8, out_features=5, bias=True)\n",
       "  (bn2): BatchNorm1d(5, eps=1e-05, momentum=0.1, affine=True, track_running_stats=True)\n",
       "  (ac2): Sigmoid()\n",
       "  (fc3): Linear(in_features=5, out_features=1, bias=True)\n",
       "  (ac3): Sigmoid()\n",
       ")"
      ]
     },
     "execution_count": 56,
     "metadata": {},
     "output_type": "execute_result"
    }
   ],
   "source": [
    "# Функция для инициализации весов нейросети\n",
    "def init_weights(layer):\n",
    "    if type(layer) == nn.Linear:\n",
    "        nn.init.kaiming_uniform_(\n",
    "            layer.weight,\n",
    "            mode='fan_in',\n",
    "            nonlinearity='relu'\n",
    "        )\n",
    "\n",
    "# Инициализация весов нейросети\n",
    "net.apply(init_weights)"
   ]
  },
  {
   "cell_type": "code",
   "execution_count": 57,
   "id": "3f1b07bb",
   "metadata": {
    "scrolled": false
   },
   "outputs": [
    {
     "name": "stdout",
     "output_type": "stream",
     "text": [
      "Epoch: 0\n",
      "F1-мера = 0.394\n",
      "AUC-ROC = 0.539 \n",
      "\n",
      "Epoch: 1\n",
      "F1-мера = 0.437\n",
      "AUC-ROC = 0.542 \n",
      "\n",
      "CPU times: user 19.4 s, sys: 162 ms, total: 19.6 s\n",
      "Wall time: 19.7 s\n"
     ]
    }
   ],
   "source": [
    "%%time\n",
    "\n",
    "# Количество эпох, размер одного батча и их количество\n",
    "num_epochs = 2\n",
    "batch_size = 128\n",
    "num_batches = ceil(len(X_train_torch) / batch_size)\n",
    "\n",
    "# Обучение нейросети\n",
    "for epoch in range(num_epochs):\n",
    "    order = np.random.permutation(len(X_train_torch))\n",
    "    for batch_idx in range(num_batches):\n",
    "        start_idx = batch_idx * batch_size\n",
    "        \n",
    "        optimizer.zero_grad()\n",
    "\n",
    "        batch_indexes = order[start_idx:start_idx + batch_size]\n",
    "        X_batch = X_train_torch[batch_indexes]\n",
    "        y_batch = y_train_torch[batch_indexes]\n",
    "\n",
    "        # Обучение нейросети\n",
    "        preds = net.forward(X_batch).flatten()\n",
    "\n",
    "        loss_value = loss(preds, y_batch)\n",
    "        loss_value.backward()\n",
    "        \n",
    "        optimizer.step()\n",
    "    # Тестирование нейросети\n",
    "    if epoch % 1 == 0:\n",
    "        net.eval()\n",
    "        net_preds = net.forward(X_test_torch).flatten()\n",
    "        net_f1 = round(f1_score(y_test, net_preds.round().detach().numpy()), 3)\n",
    "        net_auc_roc = round(roc_auc_score(y_test, net_preds.round().detach().numpy()), 3)\n",
    "        print('Epoch:', epoch)\n",
    "        print('F1-мера =', net_f1)\n",
    "        print('AUC-ROC =', net_auc_roc, '\\n')"
   ]
  },
  {
   "cell_type": "code",
   "execution_count": 65,
   "id": "77a5e578",
   "metadata": {},
   "outputs": [
    {
     "data": {
      "text/html": [
       "<div>\n",
       "<style scoped>\n",
       "    .dataframe tbody tr th:only-of-type {\n",
       "        vertical-align: middle;\n",
       "    }\n",
       "\n",
       "    .dataframe tbody tr th {\n",
       "        vertical-align: top;\n",
       "    }\n",
       "\n",
       "    .dataframe thead th {\n",
       "        text-align: right;\n",
       "    }\n",
       "</style>\n",
       "<table border=\"1\" class=\"dataframe\">\n",
       "  <thead>\n",
       "    <tr style=\"text-align: right;\">\n",
       "      <th></th>\n",
       "      <th>DecisionTreeClassifier</th>\n",
       "      <th>RandomForestClassifier</th>\n",
       "      <th>LGBMClassifier</th>\n",
       "      <th>NeuralNet</th>\n",
       "    </tr>\n",
       "  </thead>\n",
       "  <tbody>\n",
       "    <tr>\n",
       "      <th>F1</th>\n",
       "      <td>0.379</td>\n",
       "      <td>0.350</td>\n",
       "      <td>0.395</td>\n",
       "      <td>0.437</td>\n",
       "    </tr>\n",
       "    <tr>\n",
       "      <th>AUC-ROC</th>\n",
       "      <td>0.538</td>\n",
       "      <td>0.538</td>\n",
       "      <td>0.545</td>\n",
       "      <td>0.542</td>\n",
       "    </tr>\n",
       "  </tbody>\n",
       "</table>\n",
       "</div>"
      ],
      "text/plain": [
       "         DecisionTreeClassifier  RandomForestClassifier  LGBMClassifier  \\\n",
       "F1                        0.379                   0.350           0.395   \n",
       "AUC-ROC                   0.538                   0.538           0.545   \n",
       "\n",
       "         NeuralNet  \n",
       "F1           0.437  \n",
       "AUC-ROC      0.542  "
      ]
     },
     "metadata": {},
     "output_type": "display_data"
    }
   ],
   "source": [
    "models_metrics = pd.DataFrame(\n",
    "    data=[[tree_f1, forest_f1, lgbm_f1, net_f1], \n",
    "          [tree_auc_roc, forest_auc_roc, lgbm_auc_roc, net_auc_roc]],\n",
    "    columns=['DecisionTreeClassifier', 'RandomForestClassifier', 'LGBMClassifier', 'NeuralNet'],\n",
    "    index=['F1', 'AUC-ROC']\n",
    ")\n",
    "\n",
    "display(models_metrics)"
   ]
  },
  {
   "cell_type": "markdown",
   "id": "c93d798f",
   "metadata": {},
   "source": [
    "<a name='conclusions_on_models'></a>\n",
    "###  4. 6. Выводы по моделям\n",
    "[Введение](#introduction)\n",
    "\n",
    "По сравнительной таблице выбранных метрик - F1-меры и AUC-ROC - заметно, что значения не столь высоки. Более того, полученные значения AUC-ROC, которые находятся слегка выше 0.5, говорит о том, что полученные модели лишь в небольшой степени лучше случайной модели. \n",
    "\n",
    "Тем не менее, исходя из полученных конечных значений выбранных метрик, можно выделить *[Нейронную сеть](#neural_net)*, которая лидирует по F1-мере, но слегка уступает по *AUC-ROC* моделе *[LGBMClassifier](#lgbm)*. Ее значения по метрикам: F1-мера = 0.437, AUC-ROC = 0.542. "
   ]
  },
  {
   "cell_type": "markdown",
   "id": "6f27b71b",
   "metadata": {},
   "source": [
    "<a name='factors_importance'></a>\n",
    "## 5. Анализ важности факторов ДТП\n",
    "[Введение](#introduction)\n",
    "\n",
    "Необходимо рассмотреть матрицу ошибок лучших моделей, а также определить важность параметров и проанализировать один из них, предложив рекомендации по оборудованию автомобиля для учета данного фактора во время посадки водителя.\n",
    "\n",
    "**План анализа**:\n",
    "1. [Матрица ошибок](#confusion_matrix)\n",
    "2. [Важность факторов](#feature_importance)"
   ]
  },
  {
   "cell_type": "markdown",
   "id": "8fd56739",
   "metadata": {},
   "source": [
    "<a name='confusion_matrix'></a>\n",
    "### 5. 1. Матрица ошибок\n",
    "[Введение](#introduction)"
   ]
  },
  {
   "cell_type": "code",
   "execution_count": 66,
   "id": "1780b290",
   "metadata": {},
   "outputs": [],
   "source": [
    "# Функция для демонстрации матрицы ошибок\n",
    "def display_confusion_matrix(model, y_pred, title):\n",
    "    cm = confusion_matrix(y_test, y_pred)\n",
    "    tp = cm[0][0]  # True positive\n",
    "    fp = cm[0][1]  # False positive\n",
    "    fn = cm[1][0]  # False Negative\n",
    "    tn = cm[1][1]  # True Negative\n",
    "\n",
    "    # Демонстрация матрицы ошибок\n",
    "    disp = ConfusionMatrixDisplay(\n",
    "        confusion_matrix=cm, \n",
    "        display_labels=model.classes_\n",
    "    )\n",
    "\n",
    "    disp.plot()\n",
    "\n",
    "    plt.title(title)\n",
    "    plt.show()\n",
    "\n",
    "    # Выделение Precision и Recall\n",
    "    print('Precision =', round(tp / (tp + fp), 3))\n",
    "    print('Recall = ', round(tp / (tp + fn), 3))"
   ]
  },
  {
   "cell_type": "code",
   "execution_count": 67,
   "id": "63d897ad",
   "metadata": {},
   "outputs": [
    {
     "data": {
      "image/png": "[encoded data removed]",
      "text/plain": [
       "<Figure size 432x288 with 2 Axes>"
      ]
     },
     "metadata": {
      "needs_background": "light"
     },
     "output_type": "display_data"
    },
    {
     "name": "stdout",
     "output_type": "stream",
     "text": [
      "Precision = 0.783\n",
      "Recall =  0.559\n"
     ]
    }
   ],
   "source": [
    "# Матрица ошибок LGBMClassifier\n",
    "display_confusion_matrix(lgbm, lgbm_preds, 'Матрица ошибок LGBMClassifier')"
   ]
  },
  {
   "cell_type": "code",
   "execution_count": 68,
   "id": "b64fd862",
   "metadata": {
    "scrolled": true
   },
   "outputs": [
    {
     "data": {
      "image/png": "[encoded data removed]",
      "text/plain": [
       "<Figure size 432x288 with 2 Axes>"
      ]
     },
     "metadata": {
      "needs_background": "light"
     },
     "output_type": "display_data"
    },
    {
     "name": "stdout",
     "output_type": "stream",
     "text": [
      "Precision = 0.716\n",
      "Recall =  0.561\n"
     ]
    }
   ],
   "source": [
    "# Матрица ошибок Нейронной сети\n",
    "display_confusion_matrix(lgbm, net_preds.round().detach().numpy(), 'Матрица ошибок Нейронной сети')"
   ]
  },
  {
   "cell_type": "markdown",
   "id": "8b61fd31",
   "metadata": {},
   "source": [
    "**Вывод**:\n",
    "\n",
    "По матрице ошибок двух лучших моделей - LGBMClassifier и Нейронной сети - можно заметить, что последняя лучше выдает истинно положительные значения. Самое главное - это все-такие снижение риска попадания в ДТП, с чем нейронная сеть справляется лучше, чем LGBMClassifier. \n",
    "\n",
    "Однако, значение метрики *Precision* у модели LGBMClassifier выше, чем у Нейронной сети и составляет 0.783 - против 0.716 у последней. Значения же *Recall* почти одинаковы: 0.559 у LGBMClassifier и 0.561 у Нейронной сети."
   ]
  },
  {
   "cell_type": "markdown",
   "id": "8344a3ef",
   "metadata": {},
   "source": [
    "<a name='feature_importance'></a>\n",
    "### 5. 2. Важность факторов\n",
    "[Введение](#introduction)"
   ]
  },
  {
   "cell_type": "code",
   "execution_count": 63,
   "id": "15c21b08",
   "metadata": {},
   "outputs": [
    {
     "data": {
      "image/png": "[encoded data removed]",
      "text/plain": [
       "<Figure size 720x504 with 1 Axes>"
      ]
     },
     "metadata": {
      "needs_background": "light"
     },
     "output_type": "display_data"
    }
   ],
   "source": [
    "# Получение графика важности признаков\n",
    "importances = lgbm.feature_importances_\n",
    "forest_importances = pd.Series(importances, parameters_df.drop('at_fault', axis=1).columns.values)\n",
    "\n",
    "plt.figure(figsize=(10, 7))\n",
    "\n",
    "forest_importances.plot(kind='bar', grid=True, color='m')\n",
    "\n",
    "plt.title('Важность факторов', fontsize=16)\n",
    "plt.xticks(fontsize=12)\n",
    "plt.xlabel('Факторы', fontsize=14)\n",
    "plt.yticks(fontsize=12)\n",
    "plt.ylabel('Степень значимости', fontsize=14)\n",
    "plt.show()"
   ]
  },
  {
   "cell_type": "markdown",
   "id": "2d768249",
   "metadata": {},
   "source": [
    "Для рассмотрения графика зависимости самого важного фактора, влияющее на предсказание модели - county_city_location - воспользуемся корреляцией phik, которая помогает определить коэффициент корреляции с категориальными параметрами. Рассмотрение количества ДТП в зависимости от Номера географического района не представляется возможным, поскольку количеством таких районов 498."
   ]
  },
  {
   "cell_type": "code",
   "execution_count": 64,
   "id": "0c0c3ee3",
   "metadata": {},
   "outputs": [
    {
     "name": "stdout",
     "output_type": "stream",
     "text": [
      "interval columns not set, guessing: ['at_fault']\n"
     ]
    },
    {
     "data": {
      "image/png": "[encoded data removed]",
      "text/plain": [
       "<Figure size 504x360 with 2 Axes>"
      ]
     },
     "metadata": {
      "needs_background": "light"
     },
     "output_type": "display_data"
    }
   ],
   "source": [
    "# Создание графика зависимости 'county_city_location' и 'at_fault'\n",
    "phik_overview = parameters_df[['at_fault', 'county_city_location']].phik_matrix()\n",
    "phik_overview.round(2)\n",
    "\n",
    "plot_correlation_matrix(\n",
    "    phik_overview.values,\n",
    "    x_labels=phik_overview.columns,\n",
    "    y_labels=phik_overview.index,\n",
    "    vmin=0,\n",
    "    vmax=1,\n",
    "    figsize=(7, 5)\n",
    ")\n",
    "\n",
    "plt.title('График зависимости\\nНомера географических районов (county_city_location)\\nи\\nВиновности участника (at_fault)',\n",
    "         fontsize=14)\n",
    "plt.show()"
   ]
  },
  {
   "cell_type": "markdown",
   "id": "b32cfcc9",
   "metadata": {},
   "source": [
    "**Вывод**:\n",
    "\n",
    "На графике видно, что несмотря на то, что наибольшую важность в Виновности участника в ДТП представляет собой Номер географических районов, где произошло ДТП, коэффициент корреляции *phik* довольно низок и составляет всего 0.09, что мы рассматривали и ранее при [анализе графика корреляции phik](#correlation_phik). \n",
    "\n",
    "\n",
    "**Предложение**: Для учета данного фактора при посадке водителя можно оборудовать машину GPS-локатором и GPS-навигатором, которые будут отслеживать местоположение автомобиля, маршрут движения, а также предлагать возможные объездные пути для того, чтобы снизить риск попадания в аварию. Более того, маршрут движения должен быть отображен заранее, чтобы можно было предложить рекомендации по движению еще до его начала, а не только во время пути, когда тоже возможно повышения риска попадания в ДТП."
   ]
  },
  {
   "cell_type": "markdown",
   "id": "4aadd6d8",
   "metadata": {},
   "source": [
    "<a name='conclusions'></a>\n",
    "## 6. Выводы\n",
    "[Введение](#introduction)\n",
    "\n",
    "**Лучшая модель из представленных** - Нейронная сеть [со следующими характеристиками](#neural_net). \n",
    "\n",
    "**Предложения по улучшению модели**: Создание адеватной модели, которая бы с большой точностью давала рекомендации по движения, довольно затруднительно, однако, возможно улучшение уже существующей. При наличии достаточных мощностей можно увеличить количество эпох, размер батчей. Возможно также углубление архитектуры нейронной сети. Тем не менее, наибольшим вкладом в улучшение модели может стать получение более качественных и полных данных с минимальным количеством пропущенных значений или с их полным отсутствием. "
   ]
  },
  {
   "cell_type": "code",
   "execution_count": null,
   "id": "dc1bb8f2",
   "metadata": {},
   "outputs": [],
   "source": []
  }
 ],
 "metadata": {
  "ExecuteTimeLog": [
   {
    "duration": 1273,
    "start_time": "2023-06-23T07:53:58.182Z"
   },
   {
    "duration": 16415,
    "start_time": "2023-06-23T07:56:08.237Z"
   },
   {
    "duration": 15901,
    "start_time": "2023-06-23T07:57:10.934Z"
   },
   {
    "duration": 50,
    "start_time": "2023-06-23T07:57:26.838Z"
   },
   {
    "duration": 101,
    "start_time": "2023-06-23T08:03:31.615Z"
   },
   {
    "duration": 933,
    "start_time": "2023-06-23T08:04:14.330Z"
   },
   {
    "duration": 13493,
    "start_time": "2023-06-23T08:04:15.265Z"
   },
   {
    "duration": 68,
    "start_time": "2023-06-23T08:05:32.919Z"
   },
   {
    "duration": 881,
    "start_time": "2023-06-23T08:05:36.216Z"
   },
   {
    "duration": 14489,
    "start_time": "2023-06-23T08:05:37.106Z"
   },
   {
    "duration": 4628,
    "start_time": "2023-06-23T08:05:51.602Z"
   },
   {
    "duration": 14142,
    "start_time": "2023-06-23T08:05:58.506Z"
   },
   {
    "duration": 0,
    "start_time": "2023-06-23T08:06:30.808Z"
   },
   {
    "duration": 14461,
    "start_time": "2023-06-23T08:06:41.140Z"
   },
   {
    "duration": 4447,
    "start_time": "2023-06-23T08:06:58.713Z"
   },
   {
    "duration": 4121,
    "start_time": "2023-06-23T08:07:12.205Z"
   },
   {
    "duration": 61,
    "start_time": "2023-06-26T06:42:16.202Z"
   },
   {
    "duration": 967,
    "start_time": "2023-06-26T06:42:23.056Z"
   },
   {
    "duration": 11756,
    "start_time": "2023-06-26T06:42:24.025Z"
   },
   {
    "duration": 12295,
    "start_time": "2023-06-26T06:42:35.783Z"
   },
   {
    "duration": 15,
    "start_time": "2023-06-26T06:42:48.081Z"
   },
   {
    "duration": 17012,
    "start_time": "2023-06-26T06:45:11.493Z"
   },
   {
    "duration": 3669,
    "start_time": "2023-06-26T06:47:13.304Z"
   },
   {
    "duration": 3568,
    "start_time": "2023-06-26T06:47:49.501Z"
   },
   {
    "duration": 867,
    "start_time": "2023-06-26T06:48:41.115Z"
   },
   {
    "duration": 10020,
    "start_time": "2023-06-26T06:48:41.985Z"
   },
   {
    "duration": 3755,
    "start_time": "2023-06-26T06:48:52.008Z"
   },
   {
    "duration": 11753,
    "start_time": "2023-06-26T06:48:55.765Z"
   },
   {
    "duration": 17325,
    "start_time": "2023-06-26T06:49:07.521Z"
   },
   {
    "duration": 3468,
    "start_time": "2023-06-26T06:49:24.848Z"
   },
   {
    "duration": 11,
    "start_time": "2023-06-26T06:49:28.318Z"
   },
   {
    "duration": 81,
    "start_time": "2023-06-26T06:51:00.757Z"
   },
   {
    "duration": 4,
    "start_time": "2023-06-26T06:51:05.042Z"
   },
   {
    "duration": 4,
    "start_time": "2023-06-26T06:51:26.734Z"
   },
   {
    "duration": 5,
    "start_time": "2023-06-26T06:51:30.060Z"
   },
   {
    "duration": 5,
    "start_time": "2023-06-26T06:51:44.044Z"
   },
   {
    "duration": 5,
    "start_time": "2023-06-26T06:52:43.763Z"
   },
   {
    "duration": 8,
    "start_time": "2023-06-26T06:52:51.302Z"
   },
   {
    "duration": 6,
    "start_time": "2023-06-26T06:52:54.454Z"
   },
   {
    "duration": 7,
    "start_time": "2023-06-26T06:53:04.598Z"
   },
   {
    "duration": 163,
    "start_time": "2023-06-26T06:54:20.908Z"
   },
   {
    "duration": 783,
    "start_time": "2023-06-26T06:54:37.323Z"
   },
   {
    "duration": 9432,
    "start_time": "2023-06-26T06:54:38.108Z"
   },
   {
    "duration": 3830,
    "start_time": "2023-06-26T06:54:47.542Z"
   },
   {
    "duration": 10624,
    "start_time": "2023-06-26T06:54:51.375Z"
   },
   {
    "duration": 16894,
    "start_time": "2023-06-26T06:55:02.001Z"
   },
   {
    "duration": 3277,
    "start_time": "2023-06-26T06:55:18.896Z"
   },
   {
    "duration": 7,
    "start_time": "2023-06-26T06:55:22.175Z"
   },
   {
    "duration": 272,
    "start_time": "2023-06-26T06:56:05.901Z"
   },
   {
    "duration": 111,
    "start_time": "2023-06-26T06:56:18.648Z"
   },
   {
    "duration": 126,
    "start_time": "2023-06-26T06:56:22.703Z"
   },
   {
    "duration": 3756,
    "start_time": "2023-06-26T06:56:34.431Z"
   },
   {
    "duration": 113,
    "start_time": "2023-06-26T06:56:50.407Z"
   },
   {
    "duration": 163,
    "start_time": "2023-06-26T06:57:08.846Z"
   },
   {
    "duration": 80,
    "start_time": "2023-06-26T06:57:15.238Z"
   },
   {
    "duration": 121,
    "start_time": "2023-06-26T06:57:24.350Z"
   },
   {
    "duration": 111,
    "start_time": "2023-06-26T06:58:28.715Z"
   },
   {
    "duration": 4277,
    "start_time": "2023-06-26T06:58:32.628Z"
   },
   {
    "duration": 104,
    "start_time": "2023-06-26T06:58:39.149Z"
   },
   {
    "duration": 123,
    "start_time": "2023-06-26T06:59:06.451Z"
   },
   {
    "duration": 109,
    "start_time": "2023-06-26T06:59:11.910Z"
   },
   {
    "duration": 63,
    "start_time": "2023-06-26T06:59:16.628Z"
   },
   {
    "duration": 63,
    "start_time": "2023-06-26T06:59:20.756Z"
   },
   {
    "duration": 119,
    "start_time": "2023-06-26T06:59:30.656Z"
   },
   {
    "duration": 111,
    "start_time": "2023-06-26T06:59:37.398Z"
   },
   {
    "duration": 70,
    "start_time": "2023-06-26T06:59:39.713Z"
   },
   {
    "duration": 4652,
    "start_time": "2023-06-26T06:59:41.902Z"
   },
   {
    "duration": 114,
    "start_time": "2023-06-26T07:00:03.033Z"
   },
   {
    "duration": 159,
    "start_time": "2023-06-26T07:00:13.194Z"
   },
   {
    "duration": 112,
    "start_time": "2023-06-26T07:00:16.783Z"
   },
   {
    "duration": 101,
    "start_time": "2023-06-26T07:00:21.802Z"
   },
   {
    "duration": 3029,
    "start_time": "2023-06-26T07:00:23.417Z"
   },
   {
    "duration": 110,
    "start_time": "2023-06-26T07:00:27.351Z"
   },
   {
    "duration": 125,
    "start_time": "2023-06-26T07:00:46.247Z"
   },
   {
    "duration": 100,
    "start_time": "2023-06-26T07:00:53.523Z"
   },
   {
    "duration": 126,
    "start_time": "2023-06-26T07:01:03.947Z"
   },
   {
    "duration": 175,
    "start_time": "2023-06-26T07:01:25.802Z"
   },
   {
    "duration": 4215,
    "start_time": "2023-06-26T07:02:13.264Z"
   },
   {
    "duration": 144,
    "start_time": "2023-06-26T07:02:25.702Z"
   },
   {
    "duration": 117,
    "start_time": "2023-06-26T07:04:23.255Z"
   },
   {
    "duration": 81,
    "start_time": "2023-06-26T07:04:29.119Z"
   },
   {
    "duration": 82,
    "start_time": "2023-06-26T07:04:31.429Z"
   },
   {
    "duration": 90,
    "start_time": "2023-06-26T07:04:49.554Z"
   },
   {
    "duration": 108,
    "start_time": "2023-06-26T07:05:05.834Z"
   },
   {
    "duration": 117,
    "start_time": "2023-06-26T07:05:12.106Z"
   },
   {
    "duration": 106,
    "start_time": "2023-06-26T07:05:17.839Z"
   },
   {
    "duration": 107,
    "start_time": "2023-06-26T07:05:23.363Z"
   },
   {
    "duration": 107,
    "start_time": "2023-06-26T07:05:39.297Z"
   },
   {
    "duration": 122,
    "start_time": "2023-06-26T07:05:41.912Z"
   },
   {
    "duration": 126,
    "start_time": "2023-06-26T07:05:48.107Z"
   },
   {
    "duration": 113,
    "start_time": "2023-06-26T07:06:00.624Z"
   },
   {
    "duration": 112,
    "start_time": "2023-06-26T07:06:07.537Z"
   },
   {
    "duration": 3324,
    "start_time": "2023-06-26T07:06:15.221Z"
   },
   {
    "duration": 4261,
    "start_time": "2023-06-26T07:06:24.302Z"
   },
   {
    "duration": 6,
    "start_time": "2023-06-26T07:08:44.970Z"
   },
   {
    "duration": 252,
    "start_time": "2023-06-26T07:08:58.298Z"
   },
   {
    "duration": 3988,
    "start_time": "2023-06-26T07:10:28.912Z"
   },
   {
    "duration": 3,
    "start_time": "2023-06-26T07:23:52.309Z"
   },
   {
    "duration": 307,
    "start_time": "2023-06-26T07:24:23.261Z"
   },
   {
    "duration": 307,
    "start_time": "2023-06-26T07:24:47.005Z"
   },
   {
    "duration": 125,
    "start_time": "2023-06-26T07:25:01.522Z"
   },
   {
    "duration": 234,
    "start_time": "2023-06-26T07:25:38.506Z"
   },
   {
    "duration": 125,
    "start_time": "2023-06-26T07:25:47.315Z"
   },
   {
    "duration": 235,
    "start_time": "2023-06-26T07:25:50.467Z"
   },
   {
    "duration": 85,
    "start_time": "2023-06-26T07:26:18.797Z"
   },
   {
    "duration": 123,
    "start_time": "2023-06-26T07:26:22.148Z"
   },
   {
    "duration": 113,
    "start_time": "2023-06-26T07:26:40.902Z"
   },
   {
    "duration": 126,
    "start_time": "2023-06-26T07:26:44.006Z"
   },
   {
    "duration": 111,
    "start_time": "2023-06-26T07:26:52.581Z"
   },
   {
    "duration": 119,
    "start_time": "2023-06-26T07:27:04.949Z"
   },
   {
    "duration": 130,
    "start_time": "2023-06-26T07:27:13.050Z"
   },
   {
    "duration": 151,
    "start_time": "2023-06-26T07:27:21.713Z"
   },
   {
    "duration": 150,
    "start_time": "2023-06-26T07:27:27.621Z"
   },
   {
    "duration": 183,
    "start_time": "2023-06-26T07:28:47.502Z"
   },
   {
    "duration": 197,
    "start_time": "2023-06-26T07:28:57.310Z"
   },
   {
    "duration": 233,
    "start_time": "2023-06-26T07:29:19.920Z"
   },
   {
    "duration": 170,
    "start_time": "2023-06-26T07:29:31.547Z"
   },
   {
    "duration": 15,
    "start_time": "2023-06-26T07:29:51.409Z"
   },
   {
    "duration": 4,
    "start_time": "2023-06-26T07:30:01.306Z"
   },
   {
    "duration": 174,
    "start_time": "2023-06-26T07:30:03.870Z"
   },
   {
    "duration": 199,
    "start_time": "2023-06-26T07:30:09.939Z"
   },
   {
    "duration": 96,
    "start_time": "2023-06-26T07:30:21.786Z"
   },
   {
    "duration": 158,
    "start_time": "2023-06-26T07:30:27.256Z"
   },
   {
    "duration": 221,
    "start_time": "2023-06-26T07:30:33.123Z"
   },
   {
    "duration": 232,
    "start_time": "2023-06-26T07:30:39.251Z"
   },
   {
    "duration": 320,
    "start_time": "2023-06-26T07:30:48.262Z"
   },
   {
    "duration": 138,
    "start_time": "2023-06-26T07:31:01.511Z"
   },
   {
    "duration": 128,
    "start_time": "2023-06-26T07:31:04.134Z"
   },
   {
    "duration": 168,
    "start_time": "2023-06-26T07:31:10.602Z"
   },
   {
    "duration": 170,
    "start_time": "2023-06-26T07:31:16.828Z"
   },
   {
    "duration": 144,
    "start_time": "2023-06-26T07:31:25.124Z"
   },
   {
    "duration": 165,
    "start_time": "2023-06-26T07:31:27.171Z"
   },
   {
    "duration": 333,
    "start_time": "2023-06-26T07:31:29.369Z"
   },
   {
    "duration": 232,
    "start_time": "2023-06-26T07:31:33.206Z"
   },
   {
    "duration": 213,
    "start_time": "2023-06-26T07:31:35.749Z"
   },
   {
    "duration": 239,
    "start_time": "2023-06-26T07:31:39.361Z"
   },
   {
    "duration": 442,
    "start_time": "2023-06-26T07:31:57.156Z"
   },
   {
    "duration": 237,
    "start_time": "2023-06-26T07:32:14.301Z"
   },
   {
    "duration": 256,
    "start_time": "2023-06-26T07:34:39.896Z"
   },
   {
    "duration": 1154,
    "start_time": "2023-06-28T12:49:51.147Z"
   },
   {
    "duration": 16636,
    "start_time": "2023-06-28T12:49:52.303Z"
   },
   {
    "duration": 4583,
    "start_time": "2023-06-28T12:50:08.942Z"
   },
   {
    "duration": 13424,
    "start_time": "2023-06-28T12:50:13.527Z"
   },
   {
    "duration": 17856,
    "start_time": "2023-06-28T12:50:26.956Z"
   },
   {
    "duration": 3822,
    "start_time": "2023-06-28T12:50:44.814Z"
   },
   {
    "duration": 264,
    "start_time": "2023-06-28T12:50:48.638Z"
   },
   {
    "duration": 233,
    "start_time": "2023-06-28T12:50:48.904Z"
   },
   {
    "duration": 732,
    "start_time": "2023-06-28T14:12:36.060Z"
   },
   {
    "duration": 9461,
    "start_time": "2023-06-28T14:12:36.794Z"
   },
   {
    "duration": 4051,
    "start_time": "2023-06-28T14:12:46.257Z"
   },
   {
    "duration": 10955,
    "start_time": "2023-06-28T14:12:50.311Z"
   },
   {
    "duration": 17764,
    "start_time": "2023-06-28T14:13:01.268Z"
   },
   {
    "duration": 3222,
    "start_time": "2023-06-28T14:13:19.034Z"
   },
   {
    "duration": 243,
    "start_time": "2023-06-28T14:13:22.258Z"
   },
   {
    "duration": 202,
    "start_time": "2023-06-28T14:13:22.502Z"
   },
   {
    "duration": 188,
    "start_time": "2023-06-28T14:15:55.888Z"
   },
   {
    "duration": 114,
    "start_time": "2023-06-28T14:16:01.321Z"
   },
   {
    "duration": 804,
    "start_time": "2023-06-28T14:16:31.389Z"
   },
   {
    "duration": 9840,
    "start_time": "2023-06-28T14:16:32.195Z"
   },
   {
    "duration": 4132,
    "start_time": "2023-06-28T14:16:42.038Z"
   },
   {
    "duration": 11216,
    "start_time": "2023-06-28T14:16:46.172Z"
   },
   {
    "duration": 17184,
    "start_time": "2023-06-28T14:16:57.390Z"
   },
   {
    "duration": 3334,
    "start_time": "2023-06-28T14:17:14.575Z"
   },
   {
    "duration": 239,
    "start_time": "2023-06-28T14:17:17.911Z"
   },
   {
    "duration": 186,
    "start_time": "2023-06-28T14:17:18.151Z"
   },
   {
    "duration": 31,
    "start_time": "2023-06-28T14:17:18.338Z"
   },
   {
    "duration": 11,
    "start_time": "2023-06-28T14:17:34.842Z"
   },
   {
    "duration": 10,
    "start_time": "2023-06-28T14:17:40.275Z"
   },
   {
    "duration": 11,
    "start_time": "2023-06-28T14:18:59.250Z"
   },
   {
    "duration": 11,
    "start_time": "2023-06-28T14:19:04.233Z"
   },
   {
    "duration": 11,
    "start_time": "2023-06-28T14:19:08.347Z"
   },
   {
    "duration": 13,
    "start_time": "2023-06-28T14:19:09.726Z"
   },
   {
    "duration": 10,
    "start_time": "2023-06-28T14:19:28.335Z"
   },
   {
    "duration": 12,
    "start_time": "2023-06-28T14:21:59.838Z"
   },
   {
    "duration": 10,
    "start_time": "2023-06-28T14:26:24.000Z"
   },
   {
    "duration": 35,
    "start_time": "2023-06-28T14:26:41.000Z"
   },
   {
    "duration": 205,
    "start_time": "2023-06-28T14:27:31.332Z"
   },
   {
    "duration": 5068,
    "start_time": "2023-06-28T14:27:36.436Z"
   },
   {
    "duration": 112,
    "start_time": "2023-06-28T14:29:06.436Z"
   },
   {
    "duration": 13220,
    "start_time": "2023-06-28T14:29:12.579Z"
   },
   {
    "duration": 812,
    "start_time": "2023-06-28T14:30:16.583Z"
   },
   {
    "duration": 10264,
    "start_time": "2023-06-28T14:30:17.399Z"
   },
   {
    "duration": 4551,
    "start_time": "2023-06-28T14:30:27.665Z"
   },
   {
    "duration": 11521,
    "start_time": "2023-06-28T14:30:32.218Z"
   },
   {
    "duration": 17954,
    "start_time": "2023-06-28T14:30:43.741Z"
   },
   {
    "duration": 3506,
    "start_time": "2023-06-28T14:31:01.697Z"
   },
   {
    "duration": 239,
    "start_time": "2023-06-28T14:31:05.204Z"
   },
   {
    "duration": 188,
    "start_time": "2023-06-28T14:31:05.445Z"
   },
   {
    "duration": 10,
    "start_time": "2023-06-28T14:31:05.635Z"
   },
   {
    "duration": 781,
    "start_time": "2023-06-28T14:32:20.954Z"
   },
   {
    "duration": 9179,
    "start_time": "2023-06-28T14:32:21.738Z"
   },
   {
    "duration": 4380,
    "start_time": "2023-06-28T14:32:30.919Z"
   },
   {
    "duration": 11429,
    "start_time": "2023-06-28T14:32:35.301Z"
   },
   {
    "duration": 17763,
    "start_time": "2023-06-28T14:32:46.732Z"
   },
   {
    "duration": 3446,
    "start_time": "2023-06-28T14:33:04.497Z"
   },
   {
    "duration": 234,
    "start_time": "2023-06-28T14:33:07.945Z"
   },
   {
    "duration": 191,
    "start_time": "2023-06-28T14:33:08.180Z"
   },
   {
    "duration": 14,
    "start_time": "2023-06-28T14:33:08.373Z"
   },
   {
    "duration": 756,
    "start_time": "2023-06-28T14:33:32.213Z"
   },
   {
    "duration": 9279,
    "start_time": "2023-06-28T14:33:32.971Z"
   },
   {
    "duration": 4323,
    "start_time": "2023-06-28T14:33:42.253Z"
   },
   {
    "duration": 5538,
    "start_time": "2023-06-28T14:33:46.578Z"
   },
   {
    "duration": 0,
    "start_time": "2023-06-28T14:33:52.118Z"
   },
   {
    "duration": 0,
    "start_time": "2023-06-28T14:33:52.119Z"
   },
   {
    "duration": 0,
    "start_time": "2023-06-28T14:33:52.120Z"
   },
   {
    "duration": 0,
    "start_time": "2023-06-28T14:33:52.121Z"
   },
   {
    "duration": 0,
    "start_time": "2023-06-28T14:33:52.122Z"
   },
   {
    "duration": 0,
    "start_time": "2023-06-28T14:33:52.123Z"
   },
   {
    "duration": 0,
    "start_time": "2023-06-28T14:33:52.128Z"
   },
   {
    "duration": 813,
    "start_time": "2023-06-28T14:33:55.690Z"
   },
   {
    "duration": 0,
    "start_time": "2023-06-28T14:33:56.505Z"
   },
   {
    "duration": 0,
    "start_time": "2023-06-28T14:33:56.507Z"
   },
   {
    "duration": 0,
    "start_time": "2023-06-28T14:33:56.508Z"
   },
   {
    "duration": 0,
    "start_time": "2023-06-28T14:33:56.510Z"
   },
   {
    "duration": 0,
    "start_time": "2023-06-28T14:33:56.511Z"
   },
   {
    "duration": 0,
    "start_time": "2023-06-28T14:33:56.512Z"
   },
   {
    "duration": 0,
    "start_time": "2023-06-28T14:33:56.514Z"
   },
   {
    "duration": 0,
    "start_time": "2023-06-28T14:33:56.515Z"
   },
   {
    "duration": 0,
    "start_time": "2023-06-28T14:33:56.516Z"
   },
   {
    "duration": 3,
    "start_time": "2023-06-28T14:34:11.597Z"
   },
   {
    "duration": 11,
    "start_time": "2023-06-28T14:34:55.270Z"
   },
   {
    "duration": 11361,
    "start_time": "2023-06-28T14:34:57.928Z"
   },
   {
    "duration": 4571,
    "start_time": "2023-06-28T14:35:09.292Z"
   },
   {
    "duration": 11927,
    "start_time": "2023-06-28T14:35:34.144Z"
   },
   {
    "duration": 92,
    "start_time": "2023-06-28T14:35:52.094Z"
   },
   {
    "duration": 19040,
    "start_time": "2023-06-28T14:36:00.096Z"
   },
   {
    "duration": 3613,
    "start_time": "2023-06-28T14:36:19.139Z"
   },
   {
    "duration": 237,
    "start_time": "2023-06-28T14:36:30.360Z"
   },
   {
    "duration": 202,
    "start_time": "2023-06-28T14:36:33.807Z"
   },
   {
    "duration": 4,
    "start_time": "2023-06-28T14:38:00.138Z"
   },
   {
    "duration": 4212,
    "start_time": "2023-06-28T14:38:13.936Z"
   },
   {
    "duration": 4366,
    "start_time": "2023-06-28T14:38:38.015Z"
   },
   {
    "duration": 52,
    "start_time": "2023-06-28T14:39:07.289Z"
   },
   {
    "duration": 7,
    "start_time": "2023-06-28T14:40:19.344Z"
   },
   {
    "duration": 775,
    "start_time": "2023-06-28T14:40:23.605Z"
   },
   {
    "duration": 9267,
    "start_time": "2023-06-28T14:40:24.383Z"
   },
   {
    "duration": 4,
    "start_time": "2023-06-28T14:40:33.654Z"
   },
   {
    "duration": 4115,
    "start_time": "2023-06-28T14:40:33.659Z"
   },
   {
    "duration": 4527,
    "start_time": "2023-06-28T14:40:37.777Z"
   },
   {
    "duration": 3779,
    "start_time": "2023-06-28T14:40:42.306Z"
   },
   {
    "duration": 4690,
    "start_time": "2023-06-28T14:40:46.087Z"
   },
   {
    "duration": 249,
    "start_time": "2023-06-28T14:40:50.779Z"
   },
   {
    "duration": 180,
    "start_time": "2023-06-28T14:40:51.030Z"
   },
   {
    "duration": 103,
    "start_time": "2023-06-28T14:40:51.212Z"
   },
   {
    "duration": 0,
    "start_time": "2023-06-28T14:40:51.317Z"
   },
   {
    "duration": 10,
    "start_time": "2023-06-28T14:41:06.108Z"
   },
   {
    "duration": 119,
    "start_time": "2023-06-28T14:41:08.320Z"
   },
   {
    "duration": 10,
    "start_time": "2023-06-28T14:41:11.091Z"
   },
   {
    "duration": 16058,
    "start_time": "2023-06-28T14:41:32.990Z"
   },
   {
    "duration": 478,
    "start_time": "2023-06-28T14:42:19.394Z"
   },
   {
    "duration": 91,
    "start_time": "2023-06-28T14:42:33.321Z"
   },
   {
    "duration": 459,
    "start_time": "2023-06-28T14:42:38.112Z"
   },
   {
    "duration": 446,
    "start_time": "2023-06-28T14:43:25.616Z"
   },
   {
    "duration": 437,
    "start_time": "2023-06-28T14:43:27.477Z"
   },
   {
    "duration": 24702,
    "start_time": "2023-06-28T14:43:43.124Z"
   },
   {
    "duration": 444,
    "start_time": "2023-06-28T14:44:07.828Z"
   },
   {
    "duration": 2673,
    "start_time": "2023-06-28T14:44:08.274Z"
   },
   {
    "duration": 251,
    "start_time": "2023-06-28T14:45:40.139Z"
   },
   {
    "duration": 264,
    "start_time": "2023-06-28T14:45:47.558Z"
   },
   {
    "duration": 4,
    "start_time": "2023-06-28T14:46:54.800Z"
   },
   {
    "duration": 3959,
    "start_time": "2023-06-28T14:46:58.914Z"
   },
   {
    "duration": 538,
    "start_time": "2023-06-28T14:47:12.811Z"
   },
   {
    "duration": 5945,
    "start_time": "2023-06-28T14:47:23.539Z"
   },
   {
    "duration": 5871,
    "start_time": "2023-06-28T14:47:53.888Z"
   },
   {
    "duration": 6002,
    "start_time": "2023-06-28T14:48:06.354Z"
   },
   {
    "duration": 1253,
    "start_time": "2023-06-28T14:49:22.727Z"
   },
   {
    "duration": 8051,
    "start_time": "2023-06-28T14:49:27.904Z"
   },
   {
    "duration": 17209,
    "start_time": "2023-06-28T14:49:36.941Z"
   },
   {
    "duration": 6511,
    "start_time": "2023-06-28T14:49:56.256Z"
   },
   {
    "duration": 6506,
    "start_time": "2023-06-28T14:50:55.530Z"
   },
   {
    "duration": 188,
    "start_time": "2023-06-28T14:51:35.187Z"
   },
   {
    "duration": 2017,
    "start_time": "2023-06-28T14:53:05.545Z"
   },
   {
    "duration": 2009,
    "start_time": "2023-06-28T14:54:05.087Z"
   },
   {
    "duration": 3281,
    "start_time": "2023-06-28T14:55:42.699Z"
   },
   {
    "duration": 2781,
    "start_time": "2023-06-28T14:56:55.059Z"
   },
   {
    "duration": 2093,
    "start_time": "2023-06-28T14:57:05.937Z"
   },
   {
    "duration": 2131,
    "start_time": "2023-06-28T14:59:18.255Z"
   },
   {
    "duration": 789,
    "start_time": "2023-06-28T14:59:41.535Z"
   },
   {
    "duration": 9591,
    "start_time": "2023-06-28T14:59:42.326Z"
   },
   {
    "duration": 3,
    "start_time": "2023-06-28T14:59:51.919Z"
   },
   {
    "duration": 3985,
    "start_time": "2023-06-28T14:59:51.923Z"
   },
   {
    "duration": 4375,
    "start_time": "2023-06-28T14:59:55.911Z"
   },
   {
    "duration": 3752,
    "start_time": "2023-06-28T15:00:00.288Z"
   },
   {
    "duration": 4692,
    "start_time": "2023-06-28T15:00:04.042Z"
   },
   {
    "duration": 239,
    "start_time": "2023-06-28T15:00:08.736Z"
   },
   {
    "duration": 189,
    "start_time": "2023-06-28T15:00:08.977Z"
   },
   {
    "duration": 11,
    "start_time": "2023-06-28T15:00:09.168Z"
   },
   {
    "duration": 15815,
    "start_time": "2023-06-28T15:00:09.180Z"
   },
   {
    "duration": 6362,
    "start_time": "2023-06-28T15:00:24.997Z"
   },
   {
    "duration": 26514,
    "start_time": "2023-06-28T15:04:21.729Z"
   },
   {
    "duration": 6187,
    "start_time": "2023-06-28T15:04:49.783Z"
   },
   {
    "duration": 837,
    "start_time": "2023-06-28T15:09:09.206Z"
   },
   {
    "duration": 7823,
    "start_time": "2023-06-28T15:09:21.026Z"
   },
   {
    "duration": 7832,
    "start_time": "2023-06-28T15:09:42.550Z"
   },
   {
    "duration": 7664,
    "start_time": "2023-06-28T15:09:54.738Z"
   },
   {
    "duration": 779,
    "start_time": "2023-06-28T15:10:29.414Z"
   },
   {
    "duration": 853,
    "start_time": "2023-06-28T15:10:38.224Z"
   },
   {
    "duration": 1508,
    "start_time": "2023-06-28T15:10:47.263Z"
   },
   {
    "duration": 208,
    "start_time": "2023-06-28T15:10:53.537Z"
   },
   {
    "duration": 1931,
    "start_time": "2023-06-28T15:12:12.043Z"
   },
   {
    "duration": 1956,
    "start_time": "2023-06-28T15:12:20.638Z"
   },
   {
    "duration": 7550,
    "start_time": "2023-06-28T15:12:39.610Z"
   },
   {
    "duration": 26,
    "start_time": "2023-06-28T15:14:25.902Z"
   },
   {
    "duration": 31340,
    "start_time": "2023-06-28T15:14:29.921Z"
   },
   {
    "duration": 6571,
    "start_time": "2023-06-28T15:16:00.388Z"
   },
   {
    "duration": 146553,
    "start_time": "2023-06-28T15:26:27.404Z"
   },
   {
    "duration": 2,
    "start_time": "2023-06-28T15:29:31.149Z"
   },
   {
    "duration": 1098,
    "start_time": "2023-06-28T16:48:13.669Z"
   },
   {
    "duration": 33005,
    "start_time": "2023-06-28T16:48:14.770Z"
   },
   {
    "duration": 3,
    "start_time": "2023-06-28T16:48:47.777Z"
   },
   {
    "duration": 3893,
    "start_time": "2023-06-28T16:48:47.781Z"
   },
   {
    "duration": 4073,
    "start_time": "2023-06-28T16:48:51.676Z"
   },
   {
    "duration": 3565,
    "start_time": "2023-06-28T16:48:55.751Z"
   },
   {
    "duration": 4353,
    "start_time": "2023-06-28T16:48:59.317Z"
   },
   {
    "duration": 271,
    "start_time": "2023-06-28T16:49:03.671Z"
   },
   {
    "duration": 195,
    "start_time": "2023-06-28T16:49:03.944Z"
   },
   {
    "duration": 44,
    "start_time": "2023-06-28T16:49:04.140Z"
   },
   {
    "duration": 27961,
    "start_time": "2023-06-28T16:49:04.186Z"
   },
   {
    "duration": 208353,
    "start_time": "2023-06-28T16:49:32.149Z"
   },
   {
    "duration": 135,
    "start_time": "2023-06-28T16:53:40.195Z"
   },
   {
    "duration": 26130,
    "start_time": "2023-06-28T16:53:55.242Z"
   },
   {
    "duration": 12,
    "start_time": "2023-06-28T17:04:36.226Z"
   },
   {
    "duration": 17,
    "start_time": "2023-06-28T17:04:38.338Z"
   },
   {
    "duration": 333,
    "start_time": "2023-06-28T17:05:04.904Z"
   },
   {
    "duration": 184,
    "start_time": "2023-06-28T17:05:11.119Z"
   },
   {
    "duration": 153,
    "start_time": "2023-06-28T17:05:15.296Z"
   },
   {
    "duration": 92,
    "start_time": "2023-06-28T17:05:27.652Z"
   },
   {
    "duration": 160,
    "start_time": "2023-06-28T17:05:30.868Z"
   },
   {
    "duration": 166,
    "start_time": "2023-06-28T17:05:37.425Z"
   },
   {
    "duration": 174,
    "start_time": "2023-06-28T17:05:53.787Z"
   },
   {
    "duration": 170,
    "start_time": "2023-06-28T17:06:04.600Z"
   },
   {
    "duration": 180,
    "start_time": "2023-06-28T17:19:21.188Z"
   },
   {
    "duration": 173,
    "start_time": "2023-06-28T17:19:24.746Z"
   },
   {
    "duration": 203,
    "start_time": "2023-06-28T17:21:31.415Z"
   },
   {
    "duration": 179,
    "start_time": "2023-06-28T17:21:45.986Z"
   },
   {
    "duration": 2429,
    "start_time": "2023-06-28T17:24:16.740Z"
   },
   {
    "duration": 10,
    "start_time": "2023-06-28T17:24:25.104Z"
   },
   {
    "duration": 11,
    "start_time": "2023-06-28T17:25:17.896Z"
   },
   {
    "duration": 10,
    "start_time": "2023-06-28T17:25:29.849Z"
   },
   {
    "duration": 108,
    "start_time": "2023-06-28T17:25:38.438Z"
   },
   {
    "duration": 9,
    "start_time": "2023-06-28T17:25:50.148Z"
   },
   {
    "duration": 181,
    "start_time": "2023-06-28T17:26:03.216Z"
   },
   {
    "duration": 170,
    "start_time": "2023-06-28T17:26:07.571Z"
   },
   {
    "duration": 16198,
    "start_time": "2023-06-28T17:27:28.099Z"
   },
   {
    "duration": 206,
    "start_time": "2023-06-28T17:27:44.299Z"
   },
   {
    "duration": 116,
    "start_time": "2023-06-28T17:27:56.490Z"
   },
   {
    "duration": 184,
    "start_time": "2023-06-28T17:28:26.996Z"
   },
   {
    "duration": 188,
    "start_time": "2023-06-28T17:28:30.654Z"
   },
   {
    "duration": 173,
    "start_time": "2023-06-28T17:28:42.905Z"
   },
   {
    "duration": 18010,
    "start_time": "2023-06-28T17:38:37.979Z"
   },
   {
    "duration": 18459,
    "start_time": "2023-06-28T17:41:18.644Z"
   },
   {
    "duration": 16793,
    "start_time": "2023-06-28T17:47:11.879Z"
   },
   {
    "duration": 197,
    "start_time": "2023-06-28T17:47:28.675Z"
   },
   {
    "duration": 20226,
    "start_time": "2023-06-28T17:48:00.418Z"
   },
   {
    "duration": 4914,
    "start_time": "2023-06-28T17:48:52.400Z"
   },
   {
    "duration": 16895,
    "start_time": "2023-06-28T17:49:19.987Z"
   },
   {
    "duration": 17125,
    "start_time": "2023-06-28T17:50:36.105Z"
   },
   {
    "duration": 177,
    "start_time": "2023-06-28T17:50:53.232Z"
   },
   {
    "duration": 179,
    "start_time": "2023-06-28T17:51:06.312Z"
   },
   {
    "duration": 5564,
    "start_time": "2023-06-28T18:00:03.505Z"
   },
   {
    "duration": 55,
    "start_time": "2023-06-28T18:02:28.709Z"
   },
   {
    "duration": 28506,
    "start_time": "2023-06-28T18:02:35.701Z"
   },
   {
    "duration": 30620,
    "start_time": "2023-06-28T18:03:17.145Z"
   },
   {
    "duration": 34994,
    "start_time": "2023-06-28T18:05:02.842Z"
   },
   {
    "duration": 36185,
    "start_time": "2023-06-28T18:07:06.084Z"
   },
   {
    "duration": 2351,
    "start_time": "2023-06-28T18:10:28.198Z"
   },
   {
    "duration": 152,
    "start_time": "2023-06-28T18:10:42.508Z"
   },
   {
    "duration": 117,
    "start_time": "2023-06-28T18:10:48.837Z"
   },
   {
    "duration": 180,
    "start_time": "2023-06-28T18:11:02.480Z"
   },
   {
    "duration": 130,
    "start_time": "2023-06-28T18:11:05.086Z"
   },
   {
    "duration": 129,
    "start_time": "2023-06-28T18:11:06.722Z"
   },
   {
    "duration": 167,
    "start_time": "2023-06-28T18:11:14.193Z"
   },
   {
    "duration": 3090,
    "start_time": "2023-06-28T18:11:42.100Z"
   },
   {
    "duration": 12710,
    "start_time": "2023-06-28T18:11:45.443Z"
   },
   {
    "duration": 173,
    "start_time": "2023-06-28T18:11:58.156Z"
   },
   {
    "duration": 2029,
    "start_time": "2023-06-28T18:12:12.595Z"
   },
   {
    "duration": 37128,
    "start_time": "2023-06-28T18:12:15.325Z"
   },
   {
    "duration": 162,
    "start_time": "2023-06-28T18:12:52.456Z"
   },
   {
    "duration": 128,
    "start_time": "2023-06-28T18:18:32.157Z"
   },
   {
    "duration": 144,
    "start_time": "2023-06-28T18:19:30.059Z"
   },
   {
    "duration": 135,
    "start_time": "2023-06-28T18:19:53.087Z"
   },
   {
    "duration": 32204,
    "start_time": "2023-06-28T18:25:27.032Z"
   },
   {
    "duration": 131,
    "start_time": "2023-06-28T18:25:59.238Z"
   },
   {
    "duration": 133,
    "start_time": "2023-06-28T18:26:08.763Z"
   },
   {
    "duration": 130,
    "start_time": "2023-06-28T18:26:21.853Z"
   },
   {
    "duration": 271,
    "start_time": "2023-06-28T18:26:31.416Z"
   },
   {
    "duration": 244,
    "start_time": "2023-06-28T18:26:51.135Z"
   },
   {
    "duration": 250,
    "start_time": "2023-06-28T18:26:59.203Z"
   },
   {
    "duration": 264,
    "start_time": "2023-06-28T18:27:08.344Z"
   },
   {
    "duration": 284,
    "start_time": "2023-06-28T18:27:13.154Z"
   },
   {
    "duration": 357,
    "start_time": "2023-06-28T18:28:39.691Z"
   },
   {
    "duration": 420,
    "start_time": "2023-06-28T18:28:53.933Z"
   },
   {
    "duration": 399,
    "start_time": "2023-06-28T18:29:39.881Z"
   },
   {
    "duration": 396,
    "start_time": "2023-06-28T18:29:57.811Z"
   },
   {
    "duration": 442,
    "start_time": "2023-06-28T18:30:03.067Z"
   },
   {
    "duration": 342,
    "start_time": "2023-06-28T18:30:08.487Z"
   },
   {
    "duration": 365,
    "start_time": "2023-06-28T18:31:47.566Z"
   },
   {
    "duration": 1068,
    "start_time": "2023-06-29T07:01:19.239Z"
   },
   {
    "duration": 11144,
    "start_time": "2023-06-29T07:01:20.310Z"
   },
   {
    "duration": 4,
    "start_time": "2023-06-29T07:01:31.456Z"
   },
   {
    "duration": 4511,
    "start_time": "2023-06-29T07:01:31.462Z"
   },
   {
    "duration": 4682,
    "start_time": "2023-06-29T07:01:35.977Z"
   },
   {
    "duration": 3728,
    "start_time": "2023-06-29T07:01:40.661Z"
   },
   {
    "duration": 4056,
    "start_time": "2023-06-29T07:01:44.391Z"
   },
   {
    "duration": 248,
    "start_time": "2023-06-29T07:01:48.449Z"
   },
   {
    "duration": 256,
    "start_time": "2023-06-29T07:01:48.699Z"
   },
   {
    "duration": 4935,
    "start_time": "2023-06-29T07:01:48.957Z"
   },
   {
    "duration": 14373,
    "start_time": "2023-06-29T07:01:53.894Z"
   },
   {
    "duration": 180,
    "start_time": "2023-06-29T07:02:08.269Z"
   },
   {
    "duration": 29698,
    "start_time": "2023-06-29T07:02:08.451Z"
   },
   {
    "duration": 431,
    "start_time": "2023-06-29T07:02:38.151Z"
   },
   {
    "duration": 126,
    "start_time": "2023-06-29T08:48:54.538Z"
   },
   {
    "duration": 87,
    "start_time": "2023-06-29T08:49:07.924Z"
   },
   {
    "duration": 26176,
    "start_time": "2023-06-29T08:49:27.533Z"
   },
   {
    "duration": 56,
    "start_time": "2023-06-29T08:52:19.012Z"
   },
   {
    "duration": 48,
    "start_time": "2023-06-29T08:53:20.205Z"
   },
   {
    "duration": 14736,
    "start_time": "2023-06-29T08:54:24.042Z"
   },
   {
    "duration": 15424,
    "start_time": "2023-06-29T08:55:29.946Z"
   },
   {
    "duration": 204,
    "start_time": "2023-06-29T08:56:56.757Z"
   },
   {
    "duration": 240,
    "start_time": "2023-06-29T08:57:01.022Z"
   },
   {
    "duration": 221,
    "start_time": "2023-06-29T08:57:10.847Z"
   },
   {
    "duration": 14782,
    "start_time": "2023-06-29T08:57:48.950Z"
   },
   {
    "duration": 9032,
    "start_time": "2023-06-29T08:58:28.339Z"
   },
   {
    "duration": 398,
    "start_time": "2023-06-29T08:59:00.835Z"
   },
   {
    "duration": 2235,
    "start_time": "2023-06-29T08:59:21.712Z"
   },
   {
    "duration": 1867,
    "start_time": "2023-06-29T09:07:36.642Z"
   },
   {
    "duration": 5,
    "start_time": "2023-06-29T09:07:43.802Z"
   },
   {
    "duration": 3,
    "start_time": "2023-06-29T09:09:15.093Z"
   },
   {
    "duration": 3,
    "start_time": "2023-06-29T09:09:27.984Z"
   },
   {
    "duration": 258,
    "start_time": "2023-06-29T09:09:41.901Z"
   },
   {
    "duration": 251,
    "start_time": "2023-06-29T09:09:55.237Z"
   },
   {
    "duration": 264,
    "start_time": "2023-06-29T09:09:59.932Z"
   },
   {
    "duration": 1103,
    "start_time": "2023-07-01T14:58:02.392Z"
   },
   {
    "duration": 10415,
    "start_time": "2023-07-01T14:58:03.498Z"
   },
   {
    "duration": 4,
    "start_time": "2023-07-01T14:58:13.917Z"
   },
   {
    "duration": 4121,
    "start_time": "2023-07-01T14:58:13.923Z"
   },
   {
    "duration": 4514,
    "start_time": "2023-07-01T14:58:18.047Z"
   },
   {
    "duration": 3790,
    "start_time": "2023-07-01T14:58:22.566Z"
   },
   {
    "duration": 4692,
    "start_time": "2023-07-01T14:58:26.359Z"
   },
   {
    "duration": 251,
    "start_time": "2023-07-01T14:58:31.053Z"
   },
   {
    "duration": 230,
    "start_time": "2023-07-01T14:58:31.306Z"
   },
   {
    "duration": 4855,
    "start_time": "2023-07-01T14:58:31.538Z"
   },
   {
    "duration": 14719,
    "start_time": "2023-07-01T14:58:36.395Z"
   },
   {
    "duration": 163,
    "start_time": "2023-07-01T14:58:51.116Z"
   },
   {
    "duration": 30233,
    "start_time": "2023-07-01T14:58:51.282Z"
   },
   {
    "duration": 360,
    "start_time": "2023-07-01T14:59:21.520Z"
   },
   {
    "duration": 2300,
    "start_time": "2023-07-01T14:59:21.882Z"
   },
   {
    "duration": 0,
    "start_time": "2023-07-01T14:59:24.184Z"
   },
   {
    "duration": 0,
    "start_time": "2023-07-01T14:59:24.186Z"
   },
   {
    "duration": 1991,
    "start_time": "2023-07-01T15:01:44.907Z"
   },
   {
    "duration": 4,
    "start_time": "2023-07-01T15:01:50.066Z"
   },
   {
    "duration": 12,
    "start_time": "2023-07-01T15:01:50.080Z"
   },
   {
    "duration": 198,
    "start_time": "2023-07-01T15:01:57.201Z"
   },
   {
    "duration": 906,
    "start_time": "2023-07-01T16:00:03.249Z"
   },
   {
    "duration": 9272,
    "start_time": "2023-07-01T16:00:04.157Z"
   },
   {
    "duration": 5,
    "start_time": "2023-07-01T16:00:13.431Z"
   },
   {
    "duration": 4451,
    "start_time": "2023-07-01T16:00:13.439Z"
   },
   {
    "duration": 4735,
    "start_time": "2023-07-01T16:00:17.892Z"
   },
   {
    "duration": 4088,
    "start_time": "2023-07-01T16:00:22.629Z"
   },
   {
    "duration": 5129,
    "start_time": "2023-07-01T16:00:26.719Z"
   },
   {
    "duration": 252,
    "start_time": "2023-07-01T16:00:31.850Z"
   },
   {
    "duration": 202,
    "start_time": "2023-07-01T16:00:32.104Z"
   },
   {
    "duration": 4892,
    "start_time": "2023-07-01T16:00:32.308Z"
   },
   {
    "duration": 16029,
    "start_time": "2023-07-01T16:00:37.202Z"
   },
   {
    "duration": 183,
    "start_time": "2023-07-01T16:00:53.234Z"
   },
   {
    "duration": 36806,
    "start_time": "2023-07-01T16:00:53.419Z"
   },
   {
    "duration": 368,
    "start_time": "2023-07-01T16:01:30.228Z"
   },
   {
    "duration": 2347,
    "start_time": "2023-07-01T16:01:30.598Z"
   },
   {
    "duration": 4,
    "start_time": "2023-07-01T16:01:32.947Z"
   },
   {
    "duration": 293,
    "start_time": "2023-07-01T16:01:32.953Z"
   },
   {
    "duration": 4,
    "start_time": "2023-07-01T16:11:06.505Z"
   },
   {
    "duration": 98,
    "start_time": "2023-07-01T16:11:33.247Z"
   },
   {
    "duration": 6,
    "start_time": "2023-07-01T16:11:35.927Z"
   },
   {
    "duration": 46,
    "start_time": "2023-07-01T16:12:49.380Z"
   },
   {
    "duration": 2058,
    "start_time": "2023-07-01T16:16:33.935Z"
   },
   {
    "duration": 5,
    "start_time": "2023-07-01T16:16:41.146Z"
   },
   {
    "duration": 195,
    "start_time": "2023-07-01T16:16:42.858Z"
   },
   {
    "duration": 10,
    "start_time": "2023-07-01T16:18:58.942Z"
   },
   {
    "duration": 5,
    "start_time": "2023-07-01T16:19:05.086Z"
   },
   {
    "duration": 7,
    "start_time": "2023-07-01T16:19:09.677Z"
   },
   {
    "duration": 54,
    "start_time": "2023-07-01T16:21:09.063Z"
   },
   {
    "duration": 99,
    "start_time": "2023-07-01T16:22:16.979Z"
   },
   {
    "duration": 44,
    "start_time": "2023-07-01T16:24:25.734Z"
   },
   {
    "duration": 22,
    "start_time": "2023-07-01T16:24:32.217Z"
   },
   {
    "duration": 9,
    "start_time": "2023-07-01T16:25:11.203Z"
   },
   {
    "duration": 47,
    "start_time": "2023-07-01T16:25:38.248Z"
   },
   {
    "duration": 41,
    "start_time": "2023-07-01T16:26:22.597Z"
   },
   {
    "duration": 54,
    "start_time": "2023-07-01T16:27:03.283Z"
   },
   {
    "duration": 7,
    "start_time": "2023-07-01T16:27:37.070Z"
   },
   {
    "duration": 51,
    "start_time": "2023-07-01T16:27:42.924Z"
   },
   {
    "duration": 47,
    "start_time": "2023-07-01T16:29:30.455Z"
   },
   {
    "duration": 49,
    "start_time": "2023-07-01T16:29:55.385Z"
   },
   {
    "duration": 184,
    "start_time": "2023-07-01T16:30:06.301Z"
   },
   {
    "duration": 30,
    "start_time": "2023-07-01T16:30:11.476Z"
   },
   {
    "duration": 203,
    "start_time": "2023-07-01T16:30:16.918Z"
   },
   {
    "duration": 181,
    "start_time": "2023-07-01T16:30:48.683Z"
   },
   {
    "duration": 20,
    "start_time": "2023-07-01T16:31:05.905Z"
   },
   {
    "duration": 23,
    "start_time": "2023-07-01T16:31:07.926Z"
   },
   {
    "duration": 44,
    "start_time": "2023-07-01T16:31:29.076Z"
   },
   {
    "duration": 914,
    "start_time": "2023-07-01T16:41:52.276Z"
   },
   {
    "duration": 144,
    "start_time": "2023-07-01T16:41:56.903Z"
   },
   {
    "duration": 4,
    "start_time": "2023-07-01T16:41:59.819Z"
   },
   {
    "duration": 58,
    "start_time": "2023-07-01T16:42:07.547Z"
   },
   {
    "duration": 11,
    "start_time": "2023-07-01T16:42:25.367Z"
   },
   {
    "duration": 21,
    "start_time": "2023-07-01T16:42:29.273Z"
   },
   {
    "duration": 1535,
    "start_time": "2023-07-01T16:42:32.907Z"
   },
   {
    "duration": 2793,
    "start_time": "2023-07-01T16:44:39.404Z"
   },
   {
    "duration": 2315,
    "start_time": "2023-07-01T16:46:19.630Z"
   },
   {
    "duration": 2824,
    "start_time": "2023-07-01T16:46:42.451Z"
   },
   {
    "duration": 1170,
    "start_time": "2023-07-01T16:49:35.536Z"
   },
   {
    "duration": 6,
    "start_time": "2023-07-01T16:49:56.403Z"
   },
   {
    "duration": 1139,
    "start_time": "2023-07-01T16:50:07.110Z"
   },
   {
    "duration": 1137,
    "start_time": "2023-07-01T16:50:28.350Z"
   },
   {
    "duration": 24,
    "start_time": "2023-07-01T16:50:31.872Z"
   },
   {
    "duration": 21,
    "start_time": "2023-07-01T16:50:37.321Z"
   },
   {
    "duration": 23,
    "start_time": "2023-07-01T16:50:40.228Z"
   },
   {
    "duration": 1575,
    "start_time": "2023-07-01T16:51:39.763Z"
   },
   {
    "duration": 11176,
    "start_time": "2023-07-01T16:51:41.340Z"
   },
   {
    "duration": 3,
    "start_time": "2023-07-01T16:51:52.517Z"
   },
   {
    "duration": 5056,
    "start_time": "2023-07-01T16:51:52.523Z"
   },
   {
    "duration": 4282,
    "start_time": "2023-07-01T16:51:57.582Z"
   },
   {
    "duration": 5313,
    "start_time": "2023-07-01T16:52:01.867Z"
   },
   {
    "duration": 4661,
    "start_time": "2023-07-01T16:52:07.181Z"
   },
   {
    "duration": 245,
    "start_time": "2023-07-01T16:52:11.843Z"
   },
   {
    "duration": 213,
    "start_time": "2023-07-01T16:52:12.090Z"
   },
   {
    "duration": 4683,
    "start_time": "2023-07-01T16:52:12.306Z"
   },
   {
    "duration": 13633,
    "start_time": "2023-07-01T16:52:16.991Z"
   },
   {
    "duration": 180,
    "start_time": "2023-07-01T16:52:30.626Z"
   },
   {
    "duration": 28893,
    "start_time": "2023-07-01T16:52:30.808Z"
   },
   {
    "duration": 381,
    "start_time": "2023-07-01T16:52:59.703Z"
   },
   {
    "duration": 2189,
    "start_time": "2023-07-01T16:53:00.086Z"
   },
   {
    "duration": 7,
    "start_time": "2023-07-01T16:53:02.281Z"
   },
   {
    "duration": 333,
    "start_time": "2023-07-01T16:53:02.290Z"
   },
   {
    "duration": 282,
    "start_time": "2023-07-01T16:53:02.625Z"
   },
   {
    "duration": 1517,
    "start_time": "2023-07-01T16:53:02.909Z"
   },
   {
    "duration": 6,
    "start_time": "2023-07-01T17:38:20.629Z"
   },
   {
    "duration": 161,
    "start_time": "2023-07-01T17:45:22.007Z"
   },
   {
    "duration": 145643,
    "start_time": "2023-07-01T17:45:28.272Z"
   },
   {
    "duration": 3085,
    "start_time": "2023-07-01T17:48:08.311Z"
   },
   {
    "duration": 11,
    "start_time": "2023-07-01T17:48:11.398Z"
   },
   {
    "duration": 23,
    "start_time": "2023-07-01T17:48:18.750Z"
   },
   {
    "duration": 4,
    "start_time": "2023-07-01T17:49:05.101Z"
   },
   {
    "duration": 20,
    "start_time": "2023-07-01T17:49:45.368Z"
   },
   {
    "duration": 4,
    "start_time": "2023-07-01T17:50:19.637Z"
   },
   {
    "duration": 13,
    "start_time": "2023-07-01T17:50:24.870Z"
   },
   {
    "duration": 14,
    "start_time": "2023-07-01T17:50:29.663Z"
   },
   {
    "duration": 3,
    "start_time": "2023-07-01T17:50:54.656Z"
   },
   {
    "duration": 19,
    "start_time": "2023-07-01T17:51:01.130Z"
   },
   {
    "duration": 3,
    "start_time": "2023-07-01T17:51:11.821Z"
   },
   {
    "duration": 18,
    "start_time": "2023-07-01T17:51:12.922Z"
   },
   {
    "duration": 3,
    "start_time": "2023-07-01T17:51:20.796Z"
   },
   {
    "duration": 16,
    "start_time": "2023-07-01T17:51:21.756Z"
   },
   {
    "duration": 990,
    "start_time": "2023-07-01T17:51:38.038Z"
   },
   {
    "duration": 16,
    "start_time": "2023-07-01T17:51:40.030Z"
   },
   {
    "duration": 17,
    "start_time": "2023-07-01T17:52:12.234Z"
   },
   {
    "duration": 22878,
    "start_time": "2023-07-01T17:52:18.572Z"
   },
   {
    "duration": 6267455,
    "start_time": "2023-07-01T17:52:50.838Z"
   },
   {
    "duration": 1630,
    "start_time": "2023-07-01T19:54:39.478Z"
   },
   {
    "duration": 8868,
    "start_time": "2023-07-01T19:54:41.111Z"
   },
   {
    "duration": 4,
    "start_time": "2023-07-01T19:54:49.982Z"
   },
   {
    "duration": 5016,
    "start_time": "2023-07-01T19:54:49.989Z"
   },
   {
    "duration": 5192,
    "start_time": "2023-07-01T19:54:55.008Z"
   },
   {
    "duration": 4957,
    "start_time": "2023-07-01T19:55:00.201Z"
   },
   {
    "duration": 5007,
    "start_time": "2023-07-01T19:55:05.166Z"
   },
   {
    "duration": 250,
    "start_time": "2023-07-01T19:55:10.175Z"
   },
   {
    "duration": 218,
    "start_time": "2023-07-01T19:55:10.428Z"
   },
   {
    "duration": 4853,
    "start_time": "2023-07-01T19:55:10.650Z"
   },
   {
    "duration": 15628,
    "start_time": "2023-07-01T19:55:15.506Z"
   },
   {
    "duration": 183,
    "start_time": "2023-07-01T19:55:31.137Z"
   },
   {
    "duration": 27178,
    "start_time": "2023-07-01T19:55:31.322Z"
   },
   {
    "duration": 524,
    "start_time": "2023-07-01T19:55:58.503Z"
   },
   {
    "duration": 2461,
    "start_time": "2023-07-01T19:55:59.029Z"
   },
   {
    "duration": 5,
    "start_time": "2023-07-01T19:56:01.492Z"
   },
   {
    "duration": 370,
    "start_time": "2023-07-01T19:56:01.499Z"
   },
   {
    "duration": 289,
    "start_time": "2023-07-01T19:56:01.871Z"
   },
   {
    "duration": 1562,
    "start_time": "2023-07-01T19:56:02.162Z"
   },
   {
    "duration": 5,
    "start_time": "2023-07-01T19:56:03.727Z"
   },
   {
    "duration": 4129244,
    "start_time": "2023-07-01T19:56:03.734Z"
   },
   {
    "duration": 0,
    "start_time": "2023-07-01T21:04:52.986Z"
   },
   {
    "duration": 0,
    "start_time": "2023-07-01T21:04:52.987Z"
   },
   {
    "duration": 1587,
    "start_time": "2023-07-01T21:09:24.110Z"
   },
   {
    "duration": 0,
    "start_time": "2023-07-01T21:09:25.699Z"
   },
   {
    "duration": 0,
    "start_time": "2023-07-01T21:09:25.701Z"
   },
   {
    "duration": 0,
    "start_time": "2023-07-01T21:09:25.702Z"
   },
   {
    "duration": 0,
    "start_time": "2023-07-01T21:09:25.703Z"
   },
   {
    "duration": 0,
    "start_time": "2023-07-01T21:09:25.704Z"
   },
   {
    "duration": 0,
    "start_time": "2023-07-01T21:09:25.705Z"
   },
   {
    "duration": 1,
    "start_time": "2023-07-01T21:09:25.706Z"
   },
   {
    "duration": 0,
    "start_time": "2023-07-01T21:09:25.707Z"
   },
   {
    "duration": 0,
    "start_time": "2023-07-01T21:09:25.709Z"
   },
   {
    "duration": 0,
    "start_time": "2023-07-01T21:09:25.710Z"
   },
   {
    "duration": 0,
    "start_time": "2023-07-01T21:09:25.711Z"
   },
   {
    "duration": 0,
    "start_time": "2023-07-01T21:09:25.712Z"
   },
   {
    "duration": 0,
    "start_time": "2023-07-01T21:09:25.713Z"
   },
   {
    "duration": 0,
    "start_time": "2023-07-01T21:09:25.714Z"
   },
   {
    "duration": 0,
    "start_time": "2023-07-01T21:09:25.715Z"
   },
   {
    "duration": 0,
    "start_time": "2023-07-01T21:09:25.716Z"
   },
   {
    "duration": 0,
    "start_time": "2023-07-01T21:09:25.717Z"
   },
   {
    "duration": 0,
    "start_time": "2023-07-01T21:09:25.718Z"
   },
   {
    "duration": 0,
    "start_time": "2023-07-01T21:09:25.719Z"
   },
   {
    "duration": 0,
    "start_time": "2023-07-01T21:09:25.720Z"
   },
   {
    "duration": 0,
    "start_time": "2023-07-01T21:09:25.721Z"
   },
   {
    "duration": 0,
    "start_time": "2023-07-01T21:09:25.723Z"
   },
   {
    "duration": 3525,
    "start_time": "2023-07-01T21:14:29.178Z"
   },
   {
    "duration": 4102,
    "start_time": "2023-07-01T21:14:34.061Z"
   },
   {
    "duration": 5290,
    "start_time": "2023-07-01T21:15:52.704Z"
   },
   {
    "duration": 4314,
    "start_time": "2023-07-01T21:16:17.251Z"
   },
   {
    "duration": 9400,
    "start_time": "2023-07-01T21:16:21.568Z"
   },
   {
    "duration": 3,
    "start_time": "2023-07-01T21:16:30.971Z"
   },
   {
    "duration": 5138,
    "start_time": "2023-07-01T21:16:30.975Z"
   },
   {
    "duration": 4300,
    "start_time": "2023-07-01T21:16:36.116Z"
   },
   {
    "duration": 5144,
    "start_time": "2023-07-01T21:16:40.418Z"
   },
   {
    "duration": 4948,
    "start_time": "2023-07-01T21:16:45.566Z"
   },
   {
    "duration": 243,
    "start_time": "2023-07-01T21:16:50.516Z"
   },
   {
    "duration": 197,
    "start_time": "2023-07-01T21:16:50.761Z"
   },
   {
    "duration": 4869,
    "start_time": "2023-07-01T21:16:50.959Z"
   },
   {
    "duration": 13574,
    "start_time": "2023-07-01T21:16:55.830Z"
   },
   {
    "duration": 154,
    "start_time": "2023-07-01T21:17:09.406Z"
   },
   {
    "duration": 29286,
    "start_time": "2023-07-01T21:17:09.561Z"
   },
   {
    "duration": 366,
    "start_time": "2023-07-01T21:17:38.849Z"
   },
   {
    "duration": 2091,
    "start_time": "2023-07-01T21:17:39.217Z"
   },
   {
    "duration": 4,
    "start_time": "2023-07-01T21:17:41.310Z"
   },
   {
    "duration": 325,
    "start_time": "2023-07-01T21:17:41.315Z"
   },
   {
    "duration": 279,
    "start_time": "2023-07-01T21:17:41.641Z"
   },
   {
    "duration": 236,
    "start_time": "2023-07-01T21:17:41.922Z"
   },
   {
    "duration": 26106,
    "start_time": "2023-07-01T21:17:51.291Z"
   },
   {
    "duration": 25485,
    "start_time": "2023-07-01T21:18:41.604Z"
   },
   {
    "duration": 24426,
    "start_time": "2023-07-01T21:19:24.570Z"
   },
   {
    "duration": 25343,
    "start_time": "2023-07-01T21:20:30.495Z"
   },
   {
    "duration": 9020,
    "start_time": "2023-07-01T21:22:15.516Z"
   },
   {
    "duration": 9735,
    "start_time": "2023-07-01T21:22:24.538Z"
   },
   {
    "duration": 3,
    "start_time": "2023-07-01T21:22:34.275Z"
   },
   {
    "duration": 4898,
    "start_time": "2023-07-01T21:22:34.281Z"
   },
   {
    "duration": 4215,
    "start_time": "2023-07-01T21:22:39.181Z"
   },
   {
    "duration": 5060,
    "start_time": "2023-07-01T21:22:43.398Z"
   },
   {
    "duration": 4999,
    "start_time": "2023-07-01T21:22:48.459Z"
   },
   {
    "duration": 240,
    "start_time": "2023-07-01T21:22:53.460Z"
   },
   {
    "duration": 202,
    "start_time": "2023-07-01T21:22:53.702Z"
   },
   {
    "duration": 4828,
    "start_time": "2023-07-01T21:22:53.908Z"
   },
   {
    "duration": 14007,
    "start_time": "2023-07-01T21:22:58.739Z"
   },
   {
    "duration": 164,
    "start_time": "2023-07-01T21:23:12.747Z"
   },
   {
    "duration": 35200,
    "start_time": "2023-07-01T21:23:12.913Z"
   },
   {
    "duration": 347,
    "start_time": "2023-07-01T21:23:48.115Z"
   },
   {
    "duration": 2114,
    "start_time": "2023-07-01T21:23:48.463Z"
   },
   {
    "duration": 3,
    "start_time": "2023-07-01T21:23:50.579Z"
   },
   {
    "duration": 326,
    "start_time": "2023-07-01T21:23:50.584Z"
   },
   {
    "duration": 267,
    "start_time": "2023-07-01T21:23:50.912Z"
   },
   {
    "duration": 25244,
    "start_time": "2023-07-01T21:23:51.181Z"
   },
   {
    "duration": 1351,
    "start_time": "2023-07-01T21:24:16.426Z"
   },
   {
    "duration": 3,
    "start_time": "2023-07-01T21:24:17.778Z"
   },
   {
    "duration": 5670899,
    "start_time": "2023-07-01T21:24:17.783Z"
   },
   {
    "duration": 381984,
    "start_time": "2023-07-01T22:58:48.684Z"
   },
   {
    "duration": 358,
    "start_time": "2023-07-01T23:05:10.670Z"
   },
   {
    "duration": 125,
    "start_time": "2023-07-02T02:39:45.051Z"
   },
   {
    "duration": 160,
    "start_time": "2023-07-02T07:42:45.468Z"
   },
   {
    "duration": 17605,
    "start_time": "2023-07-02T07:46:09.824Z"
   },
   {
    "duration": 374,
    "start_time": "2023-07-02T07:53:41.242Z"
   },
   {
    "duration": 11124,
    "start_time": "2023-07-02T07:54:16.203Z"
   },
   {
    "duration": 10998,
    "start_time": "2023-07-02T07:54:27.331Z"
   },
   {
    "duration": 4,
    "start_time": "2023-07-02T07:54:38.331Z"
   },
   {
    "duration": 4727,
    "start_time": "2023-07-02T07:54:38.338Z"
   },
   {
    "duration": 4054,
    "start_time": "2023-07-02T07:54:43.067Z"
   },
   {
    "duration": 4956,
    "start_time": "2023-07-02T07:54:47.123Z"
   },
   {
    "duration": 4803,
    "start_time": "2023-07-02T07:54:52.081Z"
   },
   {
    "duration": 244,
    "start_time": "2023-07-02T07:54:56.886Z"
   },
   {
    "duration": 315,
    "start_time": "2023-07-02T07:54:57.132Z"
   },
   {
    "duration": 4869,
    "start_time": "2023-07-02T07:54:57.453Z"
   },
   {
    "duration": 13003,
    "start_time": "2023-07-02T07:55:02.325Z"
   },
   {
    "duration": 235,
    "start_time": "2023-07-02T07:55:15.330Z"
   },
   {
    "duration": 29544,
    "start_time": "2023-07-02T07:55:15.571Z"
   },
   {
    "duration": 568,
    "start_time": "2023-07-02T07:55:45.118Z"
   },
   {
    "duration": 2253,
    "start_time": "2023-07-02T07:55:45.688Z"
   },
   {
    "duration": 13,
    "start_time": "2023-07-02T07:55:47.945Z"
   },
   {
    "duration": 285,
    "start_time": "2023-07-02T07:55:47.960Z"
   },
   {
    "duration": 258,
    "start_time": "2023-07-02T07:55:48.253Z"
   },
   {
    "duration": 24909,
    "start_time": "2023-07-02T07:55:48.514Z"
   },
   {
    "duration": 1401,
    "start_time": "2023-07-02T07:56:13.426Z"
   },
   {
    "duration": 4,
    "start_time": "2023-07-02T07:56:14.829Z"
   },
   {
    "duration": 22,
    "start_time": "2023-07-02T07:56:14.835Z"
   },
   {
    "duration": 495180,
    "start_time": "2023-07-02T07:56:14.860Z"
   },
   {
    "duration": 672,
    "start_time": "2023-07-02T08:04:30.042Z"
   },
   {
    "duration": 0,
    "start_time": "2023-07-02T08:04:30.717Z"
   },
   {
    "duration": 0,
    "start_time": "2023-07-02T08:04:30.719Z"
   },
   {
    "duration": 2836224,
    "start_time": "2023-07-02T08:04:51.290Z"
   },
   {
    "duration": 6275,
    "start_time": "2023-07-02T08:52:07.516Z"
   },
   {
    "duration": 596,
    "start_time": "2023-07-02T08:52:13.794Z"
   },
   {
    "duration": 8,
    "start_time": "2023-07-02T08:52:14.394Z"
   },
   {
    "duration": 471,
    "start_time": "2023-07-02T08:52:14.404Z"
   },
   {
    "duration": 6107,
    "start_time": "2023-07-02T08:52:26.343Z"
   },
   {
    "duration": 3689,
    "start_time": "2023-07-02T08:53:58.825Z"
   },
   {
    "duration": 3547,
    "start_time": "2023-07-02T08:55:32.679Z"
   },
   {
    "duration": 28,
    "start_time": "2023-07-02T08:55:36.843Z"
   },
   {
    "duration": 23,
    "start_time": "2023-07-02T08:55:39.209Z"
   },
   {
    "duration": 36,
    "start_time": "2023-07-02T08:55:41.755Z"
   },
   {
    "duration": 3741,
    "start_time": "2023-07-02T08:55:59.404Z"
   },
   {
    "duration": 6,
    "start_time": "2023-07-02T08:56:04.779Z"
   },
   {
    "duration": 8,
    "start_time": "2023-07-02T08:56:41.961Z"
   },
   {
    "duration": 727,
    "start_time": "2023-07-02T08:57:09.894Z"
   },
   {
    "duration": 651,
    "start_time": "2023-07-02T08:57:20.240Z"
   },
   {
    "duration": 14520,
    "start_time": "2023-07-02T08:59:08.149Z"
   },
   {
    "duration": 25,
    "start_time": "2023-07-02T08:59:26.602Z"
   },
   {
    "duration": 23,
    "start_time": "2023-07-02T08:59:32.774Z"
   },
   {
    "duration": 20414,
    "start_time": "2023-07-02T08:59:37.744Z"
   },
   {
    "duration": 133760,
    "start_time": "2023-07-02T09:01:37.455Z"
   },
   {
    "duration": 0,
    "start_time": "2023-07-02T09:03:51.220Z"
   },
   {
    "duration": 0,
    "start_time": "2023-07-02T09:03:51.222Z"
   },
   {
    "duration": 0,
    "start_time": "2023-07-02T09:03:51.223Z"
   },
   {
    "duration": 0,
    "start_time": "2023-07-02T09:03:51.224Z"
   },
   {
    "duration": 15197,
    "start_time": "2023-07-02T09:04:23.411Z"
   },
   {
    "duration": 584,
    "start_time": "2023-07-02T09:04:38.610Z"
   },
   {
    "duration": 7,
    "start_time": "2023-07-02T09:05:14.102Z"
   },
   {
    "duration": 22545,
    "start_time": "2023-07-02T09:05:27.242Z"
   },
   {
    "duration": 3043339,
    "start_time": "2023-07-02T09:05:49.789Z"
   },
   {
    "duration": 2539617,
    "start_time": "2023-07-02T09:56:33.130Z"
   },
   {
    "duration": 40,
    "start_time": "2023-07-02T10:38:52.749Z"
   },
   {
    "duration": 0,
    "start_time": "2023-07-02T10:38:52.794Z"
   },
   {
    "duration": 0,
    "start_time": "2023-07-02T10:38:52.797Z"
   },
   {
    "duration": 14,
    "start_time": "2023-07-02T10:39:06.011Z"
   },
   {
    "duration": 28,
    "start_time": "2023-07-02T10:39:13.282Z"
   },
   {
    "duration": 9,
    "start_time": "2023-07-02T10:39:20.700Z"
   },
   {
    "duration": 39,
    "start_time": "2023-07-02T10:39:25.941Z"
   },
   {
    "duration": 10106,
    "start_time": "2023-07-02T13:13:36.438Z"
   },
   {
    "duration": 5862,
    "start_time": "2023-07-02T13:13:46.546Z"
   },
   {
    "duration": 2,
    "start_time": "2023-07-02T13:13:52.410Z"
   },
   {
    "duration": 4121,
    "start_time": "2023-07-02T13:13:52.414Z"
   },
   {
    "duration": 3310,
    "start_time": "2023-07-02T13:13:56.536Z"
   },
   {
    "duration": 3899,
    "start_time": "2023-07-02T13:13:59.848Z"
   },
   {
    "duration": 3948,
    "start_time": "2023-07-02T13:14:03.749Z"
   },
   {
    "duration": 287,
    "start_time": "2023-07-02T13:14:07.699Z"
   },
   {
    "duration": 162,
    "start_time": "2023-07-02T13:14:07.988Z"
   },
   {
    "duration": 586,
    "start_time": "2023-07-02T13:14:08.153Z"
   },
   {
    "duration": 16359,
    "start_time": "2023-07-02T13:14:08.740Z"
   },
   {
    "duration": 134,
    "start_time": "2023-07-02T13:14:25.101Z"
   },
   {
    "duration": 27387,
    "start_time": "2023-07-02T13:14:25.236Z"
   },
   {
    "duration": 351,
    "start_time": "2023-07-02T13:14:52.625Z"
   },
   {
    "duration": 1857,
    "start_time": "2023-07-02T13:14:52.977Z"
   },
   {
    "duration": 3,
    "start_time": "2023-07-02T13:14:54.836Z"
   },
   {
    "duration": 231,
    "start_time": "2023-07-02T13:14:54.841Z"
   },
   {
    "duration": 193,
    "start_time": "2023-07-02T13:14:55.074Z"
   },
   {
    "duration": 16840,
    "start_time": "2023-07-02T13:14:55.269Z"
   },
   {
    "duration": 2632,
    "start_time": "2023-07-02T13:15:12.110Z"
   },
   {
    "duration": 2,
    "start_time": "2023-07-02T13:15:14.745Z"
   },
   {
    "duration": 301,
    "start_time": "2023-07-02T13:15:14.749Z"
   },
   {
    "duration": 0,
    "start_time": "2023-07-02T13:15:15.052Z"
   },
   {
    "duration": 0,
    "start_time": "2023-07-02T13:15:15.053Z"
   },
   {
    "duration": 0,
    "start_time": "2023-07-02T13:15:15.054Z"
   },
   {
    "duration": 0,
    "start_time": "2023-07-02T13:15:15.056Z"
   },
   {
    "duration": 0,
    "start_time": "2023-07-02T13:15:15.057Z"
   },
   {
    "duration": 4183,
    "start_time": "2023-07-02T13:16:12.065Z"
   },
   {
    "duration": 16276,
    "start_time": "2023-07-02T13:16:28.771Z"
   },
   {
    "duration": 10,
    "start_time": "2023-07-02T13:16:50.139Z"
   },
   {
    "duration": 7,
    "start_time": "2023-07-02T13:16:50.150Z"
   },
   {
    "duration": 173,
    "start_time": "2023-07-02T13:16:50.158Z"
   },
   {
    "duration": 8,
    "start_time": "2023-07-02T13:17:23.149Z"
   },
   {
    "duration": 5,
    "start_time": "2023-07-02T13:17:25.707Z"
   },
   {
    "duration": 100,
    "start_time": "2023-07-02T13:17:30.566Z"
   },
   {
    "duration": 6,
    "start_time": "2023-07-02T13:18:23.008Z"
   },
   {
    "duration": 86,
    "start_time": "2023-07-02T13:18:24.972Z"
   },
   {
    "duration": 265801,
    "start_time": "2023-07-02T13:19:01.943Z"
   },
   {
    "duration": 20023,
    "start_time": "2023-07-02T16:02:16.038Z"
   },
   {
    "duration": 12495,
    "start_time": "2023-07-02T16:02:36.064Z"
   },
   {
    "duration": 8,
    "start_time": "2023-07-02T16:02:48.573Z"
   },
   {
    "duration": 5541,
    "start_time": "2023-07-02T16:02:48.584Z"
   },
   {
    "duration": 4838,
    "start_time": "2023-07-02T16:02:54.128Z"
   },
   {
    "duration": 5591,
    "start_time": "2023-07-02T16:02:58.976Z"
   },
   {
    "duration": 5088,
    "start_time": "2023-07-02T16:03:04.576Z"
   },
   {
    "duration": 259,
    "start_time": "2023-07-02T16:03:09.667Z"
   },
   {
    "duration": 221,
    "start_time": "2023-07-02T16:03:09.929Z"
   },
   {
    "duration": 4880,
    "start_time": "2023-07-02T16:03:10.152Z"
   },
   {
    "duration": 16071,
    "start_time": "2023-07-02T16:03:15.034Z"
   },
   {
    "duration": 186,
    "start_time": "2023-07-02T16:03:31.107Z"
   },
   {
    "duration": 32113,
    "start_time": "2023-07-02T16:03:31.298Z"
   },
   {
    "duration": 393,
    "start_time": "2023-07-02T16:04:03.415Z"
   },
   {
    "duration": 2122,
    "start_time": "2023-07-02T16:04:03.809Z"
   },
   {
    "duration": 4,
    "start_time": "2023-07-02T16:04:05.933Z"
   },
   {
    "duration": 258,
    "start_time": "2023-07-02T16:04:05.938Z"
   },
   {
    "duration": 221,
    "start_time": "2023-07-02T16:04:06.197Z"
   },
   {
    "duration": 23333,
    "start_time": "2023-07-02T16:04:06.420Z"
   },
   {
    "duration": 3841,
    "start_time": "2023-07-02T16:04:29.755Z"
   },
   {
    "duration": 5,
    "start_time": "2023-07-02T16:04:33.598Z"
   },
   {
    "duration": 20076,
    "start_time": "2023-07-02T16:04:33.605Z"
   },
   {
    "duration": 5,
    "start_time": "2023-07-02T16:06:41.609Z"
   },
   {
    "duration": 5,
    "start_time": "2023-07-02T16:06:44.505Z"
   },
   {
    "duration": 87,
    "start_time": "2023-07-02T16:06:50.988Z"
   },
   {
    "duration": 11,
    "start_time": "2023-07-02T16:06:51.079Z"
   },
   {
    "duration": 664,
    "start_time": "2023-07-02T16:06:51.096Z"
   },
   {
    "duration": 129,
    "start_time": "2023-07-02T16:08:46.341Z"
   },
   {
    "duration": 120,
    "start_time": "2023-07-02T16:08:50.528Z"
   },
   {
    "duration": 123,
    "start_time": "2023-07-02T16:08:57.788Z"
   },
   {
    "duration": 156,
    "start_time": "2023-07-02T16:11:07.786Z"
   },
   {
    "duration": 122,
    "start_time": "2023-07-02T16:11:11.828Z"
   },
   {
    "duration": 140,
    "start_time": "2023-07-02T16:11:14.874Z"
   },
   {
    "duration": 5,
    "start_time": "2023-07-02T16:11:21.585Z"
   },
   {
    "duration": 6,
    "start_time": "2023-07-02T16:11:35.791Z"
   },
   {
    "duration": 5,
    "start_time": "2023-07-02T16:11:35.942Z"
   },
   {
    "duration": 28,
    "start_time": "2023-07-02T16:12:02.071Z"
   },
   {
    "duration": 160,
    "start_time": "2023-07-02T16:12:20.761Z"
   },
   {
    "duration": 13,
    "start_time": "2023-07-02T16:12:24.746Z"
   },
   {
    "duration": 8,
    "start_time": "2023-07-02T16:12:25.224Z"
   },
   {
    "duration": 138,
    "start_time": "2023-07-02T16:12:25.537Z"
   },
   {
    "duration": 84,
    "start_time": "2023-07-02T16:12:33.758Z"
   },
   {
    "duration": 3,
    "start_time": "2023-07-02T16:13:00.002Z"
   },
   {
    "duration": 6,
    "start_time": "2023-07-02T16:13:00.393Z"
   },
   {
    "duration": 147,
    "start_time": "2023-07-02T16:13:01.094Z"
   },
   {
    "duration": 113,
    "start_time": "2023-07-02T16:13:35.545Z"
   },
   {
    "duration": 5,
    "start_time": "2023-07-02T16:13:39.492Z"
   },
   {
    "duration": 7,
    "start_time": "2023-07-02T16:13:39.499Z"
   },
   {
    "duration": 23,
    "start_time": "2023-07-02T16:13:39.507Z"
   },
   {
    "duration": 2960,
    "start_time": "2023-07-02T16:13:39.532Z"
   },
   {
    "duration": 4,
    "start_time": "2023-07-02T16:14:12.405Z"
   },
   {
    "duration": 5,
    "start_time": "2023-07-02T16:14:12.789Z"
   },
   {
    "duration": 2921,
    "start_time": "2023-07-02T16:14:13.564Z"
   },
   {
    "duration": 4,
    "start_time": "2023-07-02T16:14:22.187Z"
   },
   {
    "duration": 4,
    "start_time": "2023-07-02T16:15:15.625Z"
   },
   {
    "duration": 9,
    "start_time": "2023-07-02T16:15:15.634Z"
   },
   {
    "duration": 12,
    "start_time": "2023-07-02T16:15:15.646Z"
   },
   {
    "duration": 39,
    "start_time": "2023-07-02T16:15:15.660Z"
   },
   {
    "duration": 4,
    "start_time": "2023-07-02T16:15:21.897Z"
   },
   {
    "duration": 4,
    "start_time": "2023-07-02T16:15:22.097Z"
   },
   {
    "duration": 6,
    "start_time": "2023-07-02T16:15:22.283Z"
   },
   {
    "duration": 53,
    "start_time": "2023-07-02T16:15:22.800Z"
   },
   {
    "duration": 140,
    "start_time": "2023-07-02T16:19:04.410Z"
   },
   {
    "duration": 137,
    "start_time": "2023-07-02T16:19:53.293Z"
   },
   {
    "duration": 26,
    "start_time": "2023-07-02T16:20:20.931Z"
   },
   {
    "duration": 28,
    "start_time": "2023-07-02T16:20:36.227Z"
   },
   {
    "duration": 39,
    "start_time": "2023-07-02T16:20:54.664Z"
   },
   {
    "duration": 21,
    "start_time": "2023-07-02T16:21:00.820Z"
   },
   {
    "duration": 7,
    "start_time": "2023-07-02T16:21:02.008Z"
   },
   {
    "duration": 274,
    "start_time": "2023-07-02T16:21:02.625Z"
   },
   {
    "duration": 145,
    "start_time": "2023-07-02T16:22:14.532Z"
   },
   {
    "duration": 145,
    "start_time": "2023-07-02T16:22:27.683Z"
   },
   {
    "duration": 132,
    "start_time": "2023-07-02T16:23:10.001Z"
   },
   {
    "duration": 117,
    "start_time": "2023-07-02T16:23:38.913Z"
   },
   {
    "duration": 54,
    "start_time": "2023-07-02T16:23:47.693Z"
   },
   {
    "duration": 151,
    "start_time": "2023-07-02T16:23:52.596Z"
   },
   {
    "duration": 63,
    "start_time": "2023-07-02T16:24:55.242Z"
   },
   {
    "duration": 15,
    "start_time": "2023-07-02T16:24:55.747Z"
   },
   {
    "duration": 313,
    "start_time": "2023-07-02T16:24:56.693Z"
   },
   {
    "duration": 151,
    "start_time": "2023-07-02T16:26:23.969Z"
   },
   {
    "duration": 11,
    "start_time": "2023-07-02T16:27:16.153Z"
   },
   {
    "duration": 5,
    "start_time": "2023-07-02T16:27:17.005Z"
   },
   {
    "duration": 0,
    "start_time": "2023-07-02T16:31:05.580Z"
   },
   {
    "duration": 0,
    "start_time": "2023-07-02T16:31:05.586Z"
   },
   {
    "duration": 2,
    "start_time": "2023-07-02T16:31:08.393Z"
   },
   {
    "duration": 5591,
    "start_time": "2023-07-02T16:31:08.926Z"
   },
   {
    "duration": 3,
    "start_time": "2023-07-02T16:31:29.295Z"
   },
   {
    "duration": 5577,
    "start_time": "2023-07-02T16:31:29.599Z"
   },
   {
    "duration": 4,
    "start_time": "2023-07-02T16:31:58.897Z"
   },
   {
    "duration": 5577,
    "start_time": "2023-07-02T16:32:00.094Z"
   },
   {
    "duration": 3,
    "start_time": "2023-07-02T16:32:29.346Z"
   },
   {
    "duration": 5550,
    "start_time": "2023-07-02T16:32:29.797Z"
   },
   {
    "duration": 3,
    "start_time": "2023-07-02T16:32:44.647Z"
   },
   {
    "duration": 5432,
    "start_time": "2023-07-02T16:32:44.918Z"
   },
   {
    "duration": 5781,
    "start_time": "2023-07-02T16:33:52.649Z"
   },
   {
    "duration": 3,
    "start_time": "2023-07-02T16:34:07.196Z"
   },
   {
    "duration": 5690,
    "start_time": "2023-07-02T16:34:07.650Z"
   },
   {
    "duration": 55,
    "start_time": "2023-07-02T16:34:42.851Z"
   },
   {
    "duration": 5,
    "start_time": "2023-07-02T16:34:50.959Z"
   },
   {
    "duration": 6,
    "start_time": "2023-07-02T16:34:55.246Z"
   },
   {
    "duration": 5,
    "start_time": "2023-07-02T16:35:06.762Z"
   },
   {
    "duration": 4,
    "start_time": "2023-07-02T16:35:09.319Z"
   },
   {
    "duration": 2,
    "start_time": "2023-07-02T16:35:25.649Z"
   },
   {
    "duration": 5769,
    "start_time": "2023-07-02T16:35:29.294Z"
   },
   {
    "duration": 8,
    "start_time": "2023-07-02T16:36:12.839Z"
   },
   {
    "duration": 6,
    "start_time": "2023-07-02T16:36:17.414Z"
   },
   {
    "duration": 29,
    "start_time": "2023-07-02T16:36:39.202Z"
   },
   {
    "duration": 132,
    "start_time": "2023-07-02T16:39:40.500Z"
   },
   {
    "duration": 27,
    "start_time": "2023-07-02T16:39:41.198Z"
   },
   {
    "duration": 3,
    "start_time": "2023-07-02T16:39:42.204Z"
   },
   {
    "duration": 6600,
    "start_time": "2023-07-02T16:39:42.532Z"
   },
   {
    "duration": 79,
    "start_time": "2023-07-02T16:40:00.144Z"
   },
   {
    "duration": 30,
    "start_time": "2023-07-02T16:41:00.514Z"
   },
   {
    "duration": 6,
    "start_time": "2023-07-02T16:41:01.338Z"
   },
   {
    "duration": 7,
    "start_time": "2023-07-02T16:41:04.099Z"
   },
   {
    "duration": 4,
    "start_time": "2023-07-02T16:41:04.492Z"
   },
   {
    "duration": 4812,
    "start_time": "2023-07-02T16:41:05.240Z"
   },
   {
    "duration": 5,
    "start_time": "2023-07-02T16:41:19.006Z"
   },
   {
    "duration": 8,
    "start_time": "2023-07-02T16:41:29.219Z"
   },
   {
    "duration": 9190,
    "start_time": "2023-07-02T16:41:46.258Z"
   },
   {
    "duration": 14383,
    "start_time": "2023-07-02T18:54:34.378Z"
   },
   {
    "duration": 8976,
    "start_time": "2023-07-02T18:54:48.765Z"
   },
   {
    "duration": 3,
    "start_time": "2023-07-02T18:54:57.743Z"
   },
   {
    "duration": 5549,
    "start_time": "2023-07-02T18:54:57.748Z"
   },
   {
    "duration": 4537,
    "start_time": "2023-07-02T18:55:03.300Z"
   },
   {
    "duration": 5206,
    "start_time": "2023-07-02T18:55:07.839Z"
   },
   {
    "duration": 5180,
    "start_time": "2023-07-02T18:55:13.047Z"
   },
   {
    "duration": 292,
    "start_time": "2023-07-02T18:55:18.229Z"
   },
   {
    "duration": 291,
    "start_time": "2023-07-02T18:55:18.523Z"
   },
   {
    "duration": 4904,
    "start_time": "2023-07-02T18:55:18.818Z"
   },
   {
    "duration": 12110,
    "start_time": "2023-07-02T18:55:23.724Z"
   },
   {
    "duration": 226,
    "start_time": "2023-07-02T18:55:35.836Z"
   },
   {
    "duration": 28948,
    "start_time": "2023-07-02T18:55:36.065Z"
   },
   {
    "duration": 431,
    "start_time": "2023-07-02T18:56:05.017Z"
   },
   {
    "duration": 2217,
    "start_time": "2023-07-02T18:56:05.450Z"
   },
   {
    "duration": 6,
    "start_time": "2023-07-02T18:56:07.669Z"
   },
   {
    "duration": 299,
    "start_time": "2023-07-02T18:56:07.677Z"
   },
   {
    "duration": 232,
    "start_time": "2023-07-02T18:56:07.989Z"
   },
   {
    "duration": 25783,
    "start_time": "2023-07-02T18:56:08.224Z"
   },
   {
    "duration": 3972,
    "start_time": "2023-07-02T18:56:34.009Z"
   },
   {
    "duration": 4,
    "start_time": "2023-07-02T18:56:37.983Z"
   },
   {
    "duration": 22,
    "start_time": "2023-07-02T18:56:37.990Z"
   },
   {
    "duration": 23,
    "start_time": "2023-07-02T18:56:38.014Z"
   },
   {
    "duration": 48,
    "start_time": "2023-07-02T18:56:38.039Z"
   },
   {
    "duration": 42,
    "start_time": "2023-07-02T18:56:38.090Z"
   },
   {
    "duration": 7,
    "start_time": "2023-07-02T18:56:38.134Z"
   },
   {
    "duration": 59,
    "start_time": "2023-07-02T18:56:38.143Z"
   },
   {
    "duration": 17929,
    "start_time": "2023-07-02T18:56:38.204Z"
   },
   {
    "duration": 6523,
    "start_time": "2023-07-02T18:58:37.239Z"
   },
   {
    "duration": 6665,
    "start_time": "2023-07-02T19:00:31.282Z"
   },
   {
    "duration": 6554,
    "start_time": "2023-07-02T19:00:41.849Z"
   },
   {
    "duration": 6458,
    "start_time": "2023-07-02T19:03:03.346Z"
   },
   {
    "duration": 6709,
    "start_time": "2023-07-02T19:03:38.590Z"
   },
   {
    "duration": 30858,
    "start_time": "2023-07-02T19:03:57.645Z"
   },
   {
    "duration": 7041,
    "start_time": "2023-07-02T19:04:29.285Z"
   },
   {
    "duration": 31,
    "start_time": "2023-07-02T19:05:00.390Z"
   },
   {
    "duration": 8,
    "start_time": "2023-07-02T19:05:10.090Z"
   },
   {
    "duration": 10,
    "start_time": "2023-07-02T19:05:14.563Z"
   },
   {
    "duration": 8,
    "start_time": "2023-07-02T19:05:24.314Z"
   },
   {
    "duration": 5,
    "start_time": "2023-07-02T19:05:34.410Z"
   },
   {
    "duration": 9,
    "start_time": "2023-07-02T19:05:37.480Z"
   },
   {
    "duration": 32,
    "start_time": "2023-07-02T19:05:44.146Z"
   },
   {
    "duration": 9,
    "start_time": "2023-07-02T19:05:58.425Z"
   },
   {
    "duration": 9,
    "start_time": "2023-07-02T19:06:00.880Z"
   },
   {
    "duration": 61866,
    "start_time": "2023-07-02T19:06:14.006Z"
   },
   {
    "duration": 216664,
    "start_time": "2023-07-02T19:07:22.338Z"
   },
   {
    "duration": 108,
    "start_time": "2023-07-02T19:11:00.114Z"
   },
   {
    "duration": 5225,
    "start_time": "2023-07-02T19:11:09.478Z"
   },
   {
    "duration": 5280,
    "start_time": "2023-07-02T19:11:21.779Z"
   },
   {
    "duration": 5743,
    "start_time": "2023-07-02T19:12:00.015Z"
   },
   {
    "duration": 13,
    "start_time": "2023-07-02T19:14:16.078Z"
   },
   {
    "duration": 276335,
    "start_time": "2023-07-02T19:14:43.030Z"
   },
   {
    "duration": 2153,
    "start_time": "2023-07-02T19:25:03.324Z"
   },
   {
    "duration": 12,
    "start_time": "2023-07-02T19:25:13.991Z"
   },
   {
    "duration": 15,
    "start_time": "2023-07-02T19:25:14.005Z"
   },
   {
    "duration": 5,
    "start_time": "2023-07-02T19:25:14.023Z"
   },
   {
    "duration": 6171,
    "start_time": "2023-07-02T19:25:14.029Z"
   },
   {
    "duration": 12,
    "start_time": "2023-07-02T19:25:59.619Z"
   },
   {
    "duration": 5,
    "start_time": "2023-07-02T19:25:59.985Z"
   },
   {
    "duration": 4,
    "start_time": "2023-07-02T19:26:00.378Z"
   },
   {
    "duration": 100,
    "start_time": "2023-07-02T19:26:01.230Z"
   },
   {
    "duration": 6098,
    "start_time": "2023-07-02T19:26:07.981Z"
   },
   {
    "duration": 6141,
    "start_time": "2023-07-02T19:26:54.798Z"
   },
   {
    "duration": 6101,
    "start_time": "2023-07-02T19:27:16.378Z"
   },
   {
    "duration": 6210,
    "start_time": "2023-07-02T19:27:37.876Z"
   },
   {
    "duration": 6023,
    "start_time": "2023-07-02T19:27:57.979Z"
   },
   {
    "duration": 12,
    "start_time": "2023-07-02T19:28:45.630Z"
   },
   {
    "duration": 9,
    "start_time": "2023-07-02T19:28:45.874Z"
   },
   {
    "duration": 3,
    "start_time": "2023-07-02T19:28:46.136Z"
   },
   {
    "duration": 6290,
    "start_time": "2023-07-02T19:28:46.688Z"
   },
   {
    "duration": 5196,
    "start_time": "2023-07-02T19:29:27.693Z"
   },
   {
    "duration": 18,
    "start_time": "2023-07-02T19:29:40.805Z"
   },
   {
    "duration": 8,
    "start_time": "2023-07-02T19:29:41.182Z"
   },
   {
    "duration": 4,
    "start_time": "2023-07-02T19:29:41.490Z"
   },
   {
    "duration": 6657,
    "start_time": "2023-07-02T19:29:41.981Z"
   },
   {
    "duration": 13,
    "start_time": "2023-07-02T19:29:50.828Z"
   },
   {
    "duration": 5,
    "start_time": "2023-07-02T19:29:50.983Z"
   },
   {
    "duration": 628317,
    "start_time": "2023-07-02T19:29:51.181Z"
   },
   {
    "duration": 1407705,
    "start_time": "2023-07-02T19:50:09.143Z"
   },
   {
    "duration": 20372,
    "start_time": "2023-07-02T20:17:53.204Z"
   },
   {
    "duration": 14,
    "start_time": "2023-07-02T20:18:13.579Z"
   },
   {
    "duration": 15032,
    "start_time": "2023-07-03T06:00:54.803Z"
   },
   {
    "duration": 10352,
    "start_time": "2023-07-03T06:01:09.838Z"
   },
   {
    "duration": 4,
    "start_time": "2023-07-03T06:01:20.192Z"
   },
   {
    "duration": 4230,
    "start_time": "2023-07-03T06:01:20.198Z"
   },
   {
    "duration": 3612,
    "start_time": "2023-07-03T06:01:24.431Z"
   },
   {
    "duration": 4230,
    "start_time": "2023-07-03T06:01:28.045Z"
   },
   {
    "duration": 4727,
    "start_time": "2023-07-03T06:01:32.277Z"
   },
   {
    "duration": 247,
    "start_time": "2023-07-03T06:01:37.007Z"
   },
   {
    "duration": 284,
    "start_time": "2023-07-03T06:01:37.257Z"
   },
   {
    "duration": 4905,
    "start_time": "2023-07-03T06:01:37.545Z"
   },
   {
    "duration": 14072,
    "start_time": "2023-07-03T06:01:42.452Z"
   },
   {
    "duration": 226,
    "start_time": "2023-07-03T06:01:56.530Z"
   },
   {
    "duration": 29708,
    "start_time": "2023-07-03T06:01:56.758Z"
   },
   {
    "duration": 460,
    "start_time": "2023-07-03T06:02:26.468Z"
   },
   {
    "duration": 1860,
    "start_time": "2023-07-03T06:02:26.930Z"
   },
   {
    "duration": 4,
    "start_time": "2023-07-03T06:02:28.792Z"
   },
   {
    "duration": 283,
    "start_time": "2023-07-03T06:02:28.798Z"
   },
   {
    "duration": 221,
    "start_time": "2023-07-03T06:02:29.083Z"
   },
   {
    "duration": 23801,
    "start_time": "2023-07-03T06:02:29.306Z"
   },
   {
    "duration": 3572,
    "start_time": "2023-07-03T06:02:53.109Z"
   },
   {
    "duration": 5,
    "start_time": "2023-07-03T06:02:56.683Z"
   },
   {
    "duration": 7,
    "start_time": "2023-07-03T06:02:56.692Z"
   },
   {
    "duration": 427,
    "start_time": "2023-07-03T06:02:56.701Z"
   },
   {
    "duration": 6,
    "start_time": "2023-07-03T06:02:57.130Z"
   },
   {
    "duration": 22013,
    "start_time": "2023-07-03T06:02:57.137Z"
   },
   {
    "duration": 17,
    "start_time": "2023-07-03T06:03:19.152Z"
   },
   {
    "duration": 694894,
    "start_time": "2023-07-03T06:03:19.172Z"
   },
   {
    "duration": 21,
    "start_time": "2023-07-03T06:14:54.071Z"
   },
   {
    "duration": 36,
    "start_time": "2023-07-03T06:14:54.094Z"
   },
   {
    "duration": 831249,
    "start_time": "2023-07-03T06:14:54.132Z"
   },
   {
    "duration": 36,
    "start_time": "2023-07-03T06:35:10.958Z"
   },
   {
    "duration": 7,
    "start_time": "2023-07-03T06:35:10.997Z"
   },
   {
    "duration": 1299605,
    "start_time": "2023-07-03T06:35:11.008Z"
   },
   {
    "duration": 2679,
    "start_time": "2023-07-03T06:56:59.486Z"
   },
   {
    "duration": 14,
    "start_time": "2023-07-03T06:57:05.599Z"
   },
   {
    "duration": 7,
    "start_time": "2023-07-03T06:57:05.615Z"
   },
   {
    "duration": 114873,
    "start_time": "2023-07-03T06:57:05.624Z"
   },
   {
    "duration": 21008,
    "start_time": "2023-07-03T06:59:06.300Z"
   },
   {
    "duration": 30,
    "start_time": "2023-07-03T06:59:30.049Z"
   },
   {
    "duration": 8,
    "start_time": "2023-07-03T06:59:30.083Z"
   },
   {
    "duration": 25377,
    "start_time": "2023-07-03T06:59:30.093Z"
   },
   {
    "duration": 55,
    "start_time": "2023-07-03T07:00:43.440Z"
   },
   {
    "duration": 39,
    "start_time": "2023-07-03T07:01:12.735Z"
   },
   {
    "duration": 17897,
    "start_time": "2023-07-03T07:01:48.796Z"
   },
   {
    "duration": 14,
    "start_time": "2023-07-03T07:02:20.070Z"
   },
   {
    "duration": 53,
    "start_time": "2023-07-03T07:02:20.086Z"
   },
   {
    "duration": 25043,
    "start_time": "2023-07-03T07:02:20.141Z"
   },
   {
    "duration": 7913,
    "start_time": "2023-07-03T07:05:43.421Z"
   },
   {
    "duration": 5124,
    "start_time": "2023-07-03T07:06:07.652Z"
   },
   {
    "duration": 9189,
    "start_time": "2023-07-03T07:06:29.289Z"
   },
   {
    "duration": 154,
    "start_time": "2023-07-03T07:08:19.949Z"
   },
   {
    "duration": 106,
    "start_time": "2023-07-03T07:08:34.418Z"
   },
   {
    "duration": 48,
    "start_time": "2023-07-03T07:08:36.932Z"
   },
   {
    "duration": 112,
    "start_time": "2023-07-03T07:08:38.795Z"
   },
   {
    "duration": 40,
    "start_time": "2023-07-03T07:08:40.689Z"
   },
   {
    "duration": 2090,
    "start_time": "2023-07-03T07:08:42.592Z"
   },
   {
    "duration": 1974,
    "start_time": "2023-07-03T07:09:00.689Z"
   },
   {
    "duration": 5455,
    "start_time": "2023-07-03T07:09:56.866Z"
   },
   {
    "duration": 11634,
    "start_time": "2023-07-03T07:10:16.625Z"
   },
   {
    "duration": 47,
    "start_time": "2023-07-03T07:10:58.291Z"
   },
   {
    "duration": 4395,
    "start_time": "2023-07-03T07:11:37.968Z"
   },
   {
    "duration": 4770,
    "start_time": "2023-07-03T07:11:57.410Z"
   },
   {
    "duration": 9071,
    "start_time": "2023-07-03T07:12:03.998Z"
   },
   {
    "duration": 31018,
    "start_time": "2023-07-03T07:12:14.148Z"
   },
   {
    "duration": 5975,
    "start_time": "2023-07-03T07:15:03.038Z"
   },
   {
    "duration": 14,
    "start_time": "2023-07-03T07:16:13.425Z"
   },
   {
    "duration": 8,
    "start_time": "2023-07-03T07:16:14.112Z"
   },
   {
    "duration": 6308,
    "start_time": "2023-07-03T07:16:14.525Z"
   },
   {
    "duration": 30659,
    "start_time": "2023-07-03T07:18:04.406Z"
   },
   {
    "duration": 16318,
    "start_time": "2023-07-03T07:18:46.128Z"
   },
   {
    "duration": 18,
    "start_time": "2023-07-03T07:19:06.505Z"
   },
   {
    "duration": 48,
    "start_time": "2023-07-03T07:19:06.525Z"
   },
   {
    "duration": 76710,
    "start_time": "2023-07-03T07:19:06.575Z"
   },
   {
    "duration": 6,
    "start_time": "2023-07-03T07:20:42.668Z"
   },
   {
    "duration": 7,
    "start_time": "2023-07-03T07:20:45.398Z"
   },
   {
    "duration": 5,
    "start_time": "2023-07-03T07:20:48.504Z"
   },
   {
    "duration": 12,
    "start_time": "2023-07-03T07:25:49.801Z"
   },
   {
    "duration": 5,
    "start_time": "2023-07-03T07:25:49.815Z"
   },
   {
    "duration": 83045,
    "start_time": "2023-07-03T07:25:49.822Z"
   },
   {
    "duration": 23,
    "start_time": "2023-07-03T07:27:34.446Z"
   },
   {
    "duration": 9,
    "start_time": "2023-07-03T07:27:34.471Z"
   },
   {
    "duration": 82415,
    "start_time": "2023-07-03T07:27:34.482Z"
   },
   {
    "duration": 13,
    "start_time": "2023-07-03T07:38:45.739Z"
   },
   {
    "duration": 16,
    "start_time": "2023-07-03T07:38:45.757Z"
   },
   {
    "duration": 52916,
    "start_time": "2023-07-03T07:38:45.775Z"
   },
   {
    "duration": 25,
    "start_time": "2023-07-03T07:39:55.903Z"
   },
   {
    "duration": 8,
    "start_time": "2023-07-03T07:40:01.517Z"
   },
   {
    "duration": 7,
    "start_time": "2023-07-03T07:40:15.189Z"
   },
   {
    "duration": 7,
    "start_time": "2023-07-03T07:40:23.687Z"
   },
   {
    "duration": 9,
    "start_time": "2023-07-03T07:40:44.616Z"
   },
   {
    "duration": 8,
    "start_time": "2023-07-03T07:41:22.697Z"
   },
   {
    "duration": 11,
    "start_time": "2023-07-03T07:41:31.110Z"
   },
   {
    "duration": 27,
    "start_time": "2023-07-03T07:41:36.667Z"
   },
   {
    "duration": 9,
    "start_time": "2023-07-03T07:41:56.496Z"
   },
   {
    "duration": 10,
    "start_time": "2023-07-03T07:42:11.734Z"
   },
   {
    "duration": 12,
    "start_time": "2023-07-03T07:42:43.787Z"
   },
   {
    "duration": 10,
    "start_time": "2023-07-03T07:42:56.811Z"
   },
   {
    "duration": 315,
    "start_time": "2023-07-03T07:44:21.062Z"
   },
   {
    "duration": 19866,
    "start_time": "2023-07-03T07:44:23.511Z"
   },
   {
    "duration": 718803,
    "start_time": "2023-07-03T07:44:43.380Z"
   },
   {
    "duration": 17,
    "start_time": "2023-07-03T07:56:42.189Z"
   },
   {
    "duration": 10196,
    "start_time": "2023-07-03T07:56:42.210Z"
   },
   {
    "duration": 17,
    "start_time": "2023-07-03T07:56:52.411Z"
   },
   {
    "duration": 24,
    "start_time": "2023-07-03T07:57:02.467Z"
   },
   {
    "duration": 196310,
    "start_time": "2023-07-03T07:57:02.496Z"
   },
   {
    "duration": 9555,
    "start_time": "2023-07-03T08:00:36.424Z"
   },
   {
    "duration": 18,
    "start_time": "2023-07-03T08:00:47.672Z"
   },
   {
    "duration": 16,
    "start_time": "2023-07-03T08:01:19.901Z"
   },
   {
    "duration": 7,
    "start_time": "2023-07-03T08:01:20.121Z"
   },
   {
    "duration": 210476,
    "start_time": "2023-07-03T08:01:20.622Z"
   },
   {
    "duration": 66,
    "start_time": "2023-07-03T08:04:51.100Z"
   },
   {
    "duration": 53,
    "start_time": "2023-07-03T08:05:07.873Z"
   },
   {
    "duration": 7,
    "start_time": "2023-07-03T08:05:07.930Z"
   },
   {
    "duration": 232,
    "start_time": "2023-07-03T08:05:20.007Z"
   },
   {
    "duration": 5,
    "start_time": "2023-07-03T08:07:25.102Z"
   },
   {
    "duration": 44,
    "start_time": "2023-07-03T08:08:29.649Z"
   },
   {
    "duration": 5,
    "start_time": "2023-07-03T08:08:33.581Z"
   },
   {
    "duration": 5,
    "start_time": "2023-07-03T08:08:35.641Z"
   },
   {
    "duration": 22,
    "start_time": "2023-07-03T08:08:41.415Z"
   },
   {
    "duration": 21,
    "start_time": "2023-07-03T08:08:43.983Z"
   },
   {
    "duration": 334,
    "start_time": "2023-07-03T08:09:01.613Z"
   },
   {
    "duration": 16,
    "start_time": "2023-07-03T08:09:07.654Z"
   },
   {
    "duration": 27,
    "start_time": "2023-07-03T08:10:13.748Z"
   },
   {
    "duration": 7,
    "start_time": "2023-07-03T08:10:14.244Z"
   },
   {
    "duration": 52073,
    "start_time": "2023-07-03T08:10:15.326Z"
   },
   {
    "duration": 1924,
    "start_time": "2023-07-03T08:11:14.498Z"
   },
   {
    "duration": 17,
    "start_time": "2023-07-03T08:11:19.603Z"
   },
   {
    "duration": 7,
    "start_time": "2023-07-03T08:11:19.623Z"
   },
   {
    "duration": 104880,
    "start_time": "2023-07-03T08:11:19.632Z"
   },
   {
    "duration": 0,
    "start_time": "2023-07-03T08:13:04.514Z"
   },
   {
    "duration": 40,
    "start_time": "2023-07-03T08:13:15.346Z"
   },
   {
    "duration": 8,
    "start_time": "2023-07-03T08:13:15.390Z"
   },
   {
    "duration": 68657,
    "start_time": "2023-07-03T08:13:15.401Z"
   },
   {
    "duration": 13,
    "start_time": "2023-07-03T08:15:22.301Z"
   },
   {
    "duration": 59,
    "start_time": "2023-07-03T08:16:24.796Z"
   },
   {
    "duration": 44,
    "start_time": "2023-07-03T08:16:30.524Z"
   },
   {
    "duration": 296,
    "start_time": "2023-07-03T08:16:36.871Z"
   },
   {
    "duration": 231,
    "start_time": "2023-07-03T08:17:07.877Z"
   },
   {
    "duration": 303,
    "start_time": "2023-07-03T08:17:23.778Z"
   },
   {
    "duration": 224,
    "start_time": "2023-07-03T08:18:05.679Z"
   },
   {
    "duration": 220,
    "start_time": "2023-07-03T08:18:14.635Z"
   },
   {
    "duration": 231,
    "start_time": "2023-07-03T08:18:28.200Z"
   },
   {
    "duration": 43,
    "start_time": "2023-07-03T08:18:36.200Z"
   },
   {
    "duration": 228,
    "start_time": "2023-07-03T08:18:39.580Z"
   },
   {
    "duration": 224,
    "start_time": "2023-07-03T08:18:44.264Z"
   },
   {
    "duration": 277,
    "start_time": "2023-07-03T08:18:58.296Z"
   },
   {
    "duration": 340,
    "start_time": "2023-07-03T08:19:27.520Z"
   },
   {
    "duration": 614,
    "start_time": "2023-07-03T08:19:35.274Z"
   },
   {
    "duration": 362,
    "start_time": "2023-07-03T08:19:53.927Z"
   },
   {
    "duration": 350,
    "start_time": "2023-07-03T08:20:06.199Z"
   },
   {
    "duration": 339,
    "start_time": "2023-07-03T08:20:13.407Z"
   },
   {
    "duration": 404,
    "start_time": "2023-07-03T08:20:34.317Z"
   },
   {
    "duration": 345,
    "start_time": "2023-07-03T08:21:10.784Z"
   },
   {
    "duration": 349,
    "start_time": "2023-07-03T08:21:16.697Z"
   },
   {
    "duration": 364,
    "start_time": "2023-07-03T08:21:28.601Z"
   },
   {
    "duration": 494,
    "start_time": "2023-07-03T08:21:32.055Z"
   },
   {
    "duration": 351,
    "start_time": "2023-07-03T08:21:39.333Z"
   },
   {
    "duration": 379,
    "start_time": "2023-07-03T08:21:51.829Z"
   },
   {
    "duration": 3,
    "start_time": "2023-07-03T08:22:44.171Z"
   },
   {
    "duration": 199,
    "start_time": "2023-07-03T08:23:05.003Z"
   },
   {
    "duration": 115,
    "start_time": "2023-07-03T08:24:21.270Z"
   },
   {
    "duration": 348,
    "start_time": "2023-07-03T08:24:27.055Z"
   },
   {
    "duration": 291,
    "start_time": "2023-07-03T08:24:33.081Z"
   },
   {
    "duration": 330,
    "start_time": "2023-07-03T08:24:36.736Z"
   },
   {
    "duration": 263,
    "start_time": "2023-07-03T08:24:49.259Z"
   },
   {
    "duration": 4,
    "start_time": "2023-07-03T08:28:17.888Z"
   },
   {
    "duration": 507,
    "start_time": "2023-07-03T08:28:18.258Z"
   },
   {
    "duration": 6,
    "start_time": "2023-07-03T08:29:44.811Z"
   },
   {
    "duration": 231,
    "start_time": "2023-07-03T08:29:45.750Z"
   },
   {
    "duration": 5,
    "start_time": "2023-07-03T08:29:58.818Z"
   },
   {
    "duration": 231,
    "start_time": "2023-07-03T08:29:59.594Z"
   },
   {
    "duration": 6,
    "start_time": "2023-07-03T08:30:08.298Z"
   },
   {
    "duration": 222,
    "start_time": "2023-07-03T08:30:08.774Z"
   },
   {
    "duration": 331,
    "start_time": "2023-07-03T08:30:16.473Z"
   },
   {
    "duration": 6,
    "start_time": "2023-07-03T08:30:47.030Z"
   },
   {
    "duration": 235,
    "start_time": "2023-07-03T08:30:47.208Z"
   },
   {
    "duration": 364,
    "start_time": "2023-07-03T08:30:48.013Z"
   },
   {
    "duration": 207,
    "start_time": "2023-07-03T08:38:01.315Z"
   },
   {
    "duration": 41,
    "start_time": "2023-07-03T08:38:10.131Z"
   },
   {
    "duration": 183,
    "start_time": "2023-07-03T08:38:29.494Z"
   },
   {
    "duration": 7101,
    "start_time": "2023-07-03T08:38:59.197Z"
   },
   {
    "duration": 1949,
    "start_time": "2023-07-03T08:39:09.596Z"
   },
   {
    "duration": 10122,
    "start_time": "2023-07-03T08:39:12.518Z"
   },
   {
    "duration": 22256,
    "start_time": "2023-07-03T08:39:26.117Z"
   },
   {
    "duration": 923,
    "start_time": "2023-07-03T08:40:16.417Z"
   },
   {
    "duration": 866,
    "start_time": "2023-07-03T08:40:18.592Z"
   },
   {
    "duration": 1634,
    "start_time": "2023-07-03T08:40:35.496Z"
   },
   {
    "duration": 57,
    "start_time": "2023-07-03T08:40:52.139Z"
   },
   {
    "duration": 14,
    "start_time": "2023-07-03T08:41:16.558Z"
   },
   {
    "duration": 25080,
    "start_time": "2023-07-03T08:41:46.504Z"
   },
   {
    "duration": 1072,
    "start_time": "2023-07-03T08:42:47.430Z"
   },
   {
    "duration": 805,
    "start_time": "2023-07-03T08:43:05.581Z"
   },
   {
    "duration": 887,
    "start_time": "2023-07-03T08:43:11.619Z"
   },
   {
    "duration": 840,
    "start_time": "2023-07-03T08:43:47.790Z"
   },
   {
    "duration": 853,
    "start_time": "2023-07-03T08:43:53.396Z"
   },
   {
    "duration": 1233,
    "start_time": "2023-07-03T08:44:23.932Z"
   },
   {
    "duration": 5,
    "start_time": "2023-07-03T08:45:06.185Z"
   },
   {
    "duration": 28,
    "start_time": "2023-07-03T08:45:28.041Z"
   },
   {
    "duration": 373,
    "start_time": "2023-07-03T08:50:00.470Z"
   },
   {
    "duration": 13316,
    "start_time": "2023-07-03T08:51:44.167Z"
   },
   {
    "duration": 237,
    "start_time": "2023-07-03T08:52:42.274Z"
   },
   {
    "duration": 100,
    "start_time": "2023-07-03T08:52:57.428Z"
   },
   {
    "duration": 31,
    "start_time": "2023-07-03T08:53:07.700Z"
   },
   {
    "duration": 56,
    "start_time": "2023-07-03T08:53:21.485Z"
   },
   {
    "duration": 22,
    "start_time": "2023-07-03T08:53:24.420Z"
   },
   {
    "duration": 5,
    "start_time": "2023-07-03T08:53:26.426Z"
   },
   {
    "duration": 5,
    "start_time": "2023-07-03T08:53:30.688Z"
   },
   {
    "duration": 72,
    "start_time": "2023-07-03T08:53:38.654Z"
   },
   {
    "duration": 70,
    "start_time": "2023-07-03T08:54:05.582Z"
   },
   {
    "duration": 6212,
    "start_time": "2023-07-03T08:54:17.244Z"
   },
   {
    "duration": 102,
    "start_time": "2023-07-03T08:54:30.540Z"
   },
   {
    "duration": 7,
    "start_time": "2023-07-03T08:54:30.644Z"
   },
   {
    "duration": 97256,
    "start_time": "2023-07-03T08:54:30.653Z"
   },
   {
    "duration": 91,
    "start_time": "2023-07-03T09:03:07.594Z"
   },
   {
    "duration": 62,
    "start_time": "2023-07-03T09:03:16.579Z"
   },
   {
    "duration": 81,
    "start_time": "2023-07-03T09:06:15.531Z"
   },
   {
    "duration": 1313,
    "start_time": "2023-07-03T09:06:58.776Z"
   },
   {
    "duration": 1067,
    "start_time": "2023-07-03T09:07:24.546Z"
   },
   {
    "duration": 18,
    "start_time": "2023-07-03T09:08:12.187Z"
   },
   {
    "duration": 19,
    "start_time": "2023-07-03T09:08:16.884Z"
   },
   {
    "duration": 25,
    "start_time": "2023-07-03T09:09:04.403Z"
   },
   {
    "duration": 2298,
    "start_time": "2023-07-03T09:09:30.909Z"
   },
   {
    "duration": 1015,
    "start_time": "2023-07-03T09:14:04.885Z"
   },
   {
    "duration": 855,
    "start_time": "2023-07-03T09:14:11.623Z"
   },
   {
    "duration": 28,
    "start_time": "2023-07-03T09:30:40.917Z"
   },
   {
    "duration": 80,
    "start_time": "2023-07-03T09:30:48.242Z"
   },
   {
    "duration": 6311,
    "start_time": "2023-07-03T09:32:05.538Z"
   },
   {
    "duration": 5,
    "start_time": "2023-07-03T09:37:42.500Z"
   },
   {
    "duration": 78,
    "start_time": "2023-07-03T09:38:49.353Z"
   },
   {
    "duration": 33,
    "start_time": "2023-07-03T09:39:08.585Z"
   },
   {
    "duration": 19,
    "start_time": "2023-07-03T09:39:17.180Z"
   },
   {
    "duration": 6,
    "start_time": "2023-07-03T09:39:22.322Z"
   },
   {
    "duration": 6,
    "start_time": "2023-07-03T09:39:25.633Z"
   },
   {
    "duration": 43,
    "start_time": "2023-07-03T09:39:30.078Z"
   },
   {
    "duration": 33,
    "start_time": "2023-07-03T09:39:37.606Z"
   },
   {
    "duration": 16,
    "start_time": "2023-07-03T09:39:46.297Z"
   },
   {
    "duration": 11,
    "start_time": "2023-07-03T09:39:49.437Z"
   },
   {
    "duration": 29,
    "start_time": "2023-07-03T09:39:54.087Z"
   },
   {
    "duration": 28,
    "start_time": "2023-07-03T09:40:01.899Z"
   },
   {
    "duration": 14561,
    "start_time": "2023-07-04T09:23:29.477Z"
   },
   {
    "duration": 16060,
    "start_time": "2023-07-04T09:23:44.043Z"
   },
   {
    "duration": 4,
    "start_time": "2023-07-04T09:24:00.104Z"
   },
   {
    "duration": 5279,
    "start_time": "2023-07-04T09:24:00.109Z"
   },
   {
    "duration": 4274,
    "start_time": "2023-07-04T09:24:05.390Z"
   },
   {
    "duration": 5475,
    "start_time": "2023-07-04T09:24:09.666Z"
   },
   {
    "duration": 4948,
    "start_time": "2023-07-04T09:24:15.143Z"
   },
   {
    "duration": 297,
    "start_time": "2023-07-04T09:24:20.092Z"
   },
   {
    "duration": 219,
    "start_time": "2023-07-04T09:24:20.391Z"
   },
   {
    "duration": 4583,
    "start_time": "2023-07-04T09:24:20.613Z"
   },
   {
    "duration": 13389,
    "start_time": "2023-07-04T09:24:25.198Z"
   },
   {
    "duration": 167,
    "start_time": "2023-07-04T09:24:38.589Z"
   },
   {
    "duration": 35132,
    "start_time": "2023-07-04T09:24:38.762Z"
   },
   {
    "duration": 385,
    "start_time": "2023-07-04T09:25:13.897Z"
   },
   {
    "duration": 2233,
    "start_time": "2023-07-04T09:25:14.284Z"
   },
   {
    "duration": 3,
    "start_time": "2023-07-04T09:25:16.519Z"
   },
   {
    "duration": 352,
    "start_time": "2023-07-04T09:25:16.524Z"
   },
   {
    "duration": 271,
    "start_time": "2023-07-04T09:25:16.888Z"
   },
   {
    "duration": 24848,
    "start_time": "2023-07-04T09:25:17.161Z"
   },
   {
    "duration": 3533,
    "start_time": "2023-07-04T09:25:42.011Z"
   },
   {
    "duration": 4,
    "start_time": "2023-07-04T09:25:45.546Z"
   },
   {
    "duration": 58,
    "start_time": "2023-07-04T09:25:45.553Z"
   },
   {
    "duration": 355,
    "start_time": "2023-07-04T09:25:45.612Z"
   },
   {
    "duration": 6,
    "start_time": "2023-07-04T09:25:45.969Z"
   },
   {
    "duration": 18766,
    "start_time": "2023-07-04T09:25:45.977Z"
   },
   {
    "duration": 10,
    "start_time": "2023-07-04T09:26:04.744Z"
   },
   {
    "duration": 538420,
    "start_time": "2023-07-04T09:26:04.756Z"
   },
   {
    "duration": 21,
    "start_time": "2023-07-04T09:35:03.178Z"
   },
   {
    "duration": 38,
    "start_time": "2023-07-04T09:35:03.201Z"
   },
   {
    "duration": 46795,
    "start_time": "2023-07-04T09:35:03.244Z"
   },
   {
    "duration": 15,
    "start_time": "2023-07-04T09:35:50.044Z"
   },
   {
    "duration": 14,
    "start_time": "2023-07-04T09:35:50.061Z"
   },
   {
    "duration": 195,
    "start_time": "2023-07-04T09:35:50.077Z"
   },
   {
    "duration": 225,
    "start_time": "2023-07-04T09:35:50.273Z"
   },
   {
    "duration": 452,
    "start_time": "2023-07-04T09:35:50.501Z"
   },
   {
    "duration": 0,
    "start_time": "2023-07-04T09:35:50.955Z"
   },
   {
    "duration": 428,
    "start_time": "2023-07-04T10:02:15.411Z"
   },
   {
    "duration": 912,
    "start_time": "2023-07-04T10:02:19.206Z"
   },
   {
    "duration": 33,
    "start_time": "2023-07-04T10:11:18.429Z"
   },
   {
    "duration": 4112,
    "start_time": "2023-07-04T10:11:47.760Z"
   },
   {
    "duration": 169,
    "start_time": "2023-07-04T10:11:54.905Z"
   },
   {
    "duration": 11976,
    "start_time": "2023-07-05T07:24:55.679Z"
   },
   {
    "duration": 291,
    "start_time": "2023-07-05T07:26:52.027Z"
   },
   {
    "duration": 4316,
    "start_time": "2023-07-05T07:26:58.524Z"
   },
   {
    "duration": 10340,
    "start_time": "2023-07-05T07:27:02.842Z"
   },
   {
    "duration": 3,
    "start_time": "2023-07-05T07:27:13.184Z"
   },
   {
    "duration": 3964,
    "start_time": "2023-07-05T07:27:13.189Z"
   },
   {
    "duration": 3099,
    "start_time": "2023-07-05T07:27:17.155Z"
   },
   {
    "duration": 3786,
    "start_time": "2023-07-05T07:27:20.255Z"
   },
   {
    "duration": 3524,
    "start_time": "2023-07-05T07:27:24.042Z"
   },
   {
    "duration": 423,
    "start_time": "2023-07-05T07:27:27.567Z"
   },
   {
    "duration": 176,
    "start_time": "2023-07-05T07:27:51.984Z"
   },
   {
    "duration": 166,
    "start_time": "2023-07-05T07:28:00.311Z"
   },
   {
    "duration": 130,
    "start_time": "2023-07-05T07:28:05.636Z"
   },
   {
    "duration": 167,
    "start_time": "2023-07-05T07:28:09.154Z"
   },
   {
    "duration": 22,
    "start_time": "2023-07-05T07:35:06.655Z"
   },
   {
    "duration": 4632,
    "start_time": "2023-07-05T07:35:12.820Z"
   },
   {
    "duration": 5,
    "start_time": "2023-07-05T07:35:17.454Z"
   },
   {
    "duration": 7,
    "start_time": "2023-07-05T07:35:17.460Z"
   },
   {
    "duration": 4449,
    "start_time": "2023-07-05T07:35:17.469Z"
   },
   {
    "duration": 3858,
    "start_time": "2023-07-05T07:35:21.920Z"
   },
   {
    "duration": 3983,
    "start_time": "2023-07-05T07:35:25.780Z"
   },
   {
    "duration": 3982,
    "start_time": "2023-07-05T07:35:29.764Z"
   },
   {
    "duration": 425,
    "start_time": "2023-07-05T07:35:33.747Z"
   },
   {
    "duration": 173,
    "start_time": "2023-07-05T07:35:34.174Z"
   },
   {
    "duration": 4967,
    "start_time": "2023-07-05T07:35:34.348Z"
   },
   {
    "duration": 13183,
    "start_time": "2023-07-05T07:35:39.317Z"
   },
   {
    "duration": 140,
    "start_time": "2023-07-05T07:35:52.501Z"
   },
   {
    "duration": 30241,
    "start_time": "2023-07-05T07:35:52.643Z"
   },
   {
    "duration": 312,
    "start_time": "2023-07-05T07:36:22.886Z"
   },
   {
    "duration": 6122,
    "start_time": "2023-07-05T07:36:23.200Z"
   },
   {
    "duration": 3,
    "start_time": "2023-07-05T07:36:29.324Z"
   },
   {
    "duration": 164,
    "start_time": "2023-07-05T07:36:29.329Z"
   },
   {
    "duration": 7,
    "start_time": "2023-07-05T07:36:29.494Z"
   },
   {
    "duration": 15,
    "start_time": "2023-07-05T07:39:18.466Z"
   },
   {
    "duration": 5,
    "start_time": "2023-07-05T07:40:00.376Z"
   },
   {
    "duration": 47,
    "start_time": "2023-07-05T07:40:06.242Z"
   },
   {
    "duration": 54,
    "start_time": "2023-07-05T07:42:04.892Z"
   },
   {
    "duration": 87,
    "start_time": "2023-07-05T07:42:09.895Z"
   },
   {
    "duration": 4709,
    "start_time": "2023-07-05T07:42:44.635Z"
   },
   {
    "duration": 5,
    "start_time": "2023-07-05T07:42:49.346Z"
   },
   {
    "duration": 13,
    "start_time": "2023-07-05T07:42:49.352Z"
   },
   {
    "duration": 4717,
    "start_time": "2023-07-05T07:42:49.367Z"
   },
   {
    "duration": 4455,
    "start_time": "2023-07-05T07:42:54.086Z"
   },
   {
    "duration": 4906,
    "start_time": "2023-07-05T07:42:58.543Z"
   },
   {
    "duration": 4656,
    "start_time": "2023-07-05T07:43:03.450Z"
   },
   {
    "duration": 413,
    "start_time": "2023-07-05T07:43:08.107Z"
   },
   {
    "duration": 163,
    "start_time": "2023-07-05T07:43:08.521Z"
   },
   {
    "duration": 4893,
    "start_time": "2023-07-05T07:43:08.686Z"
   },
   {
    "duration": 15538,
    "start_time": "2023-07-05T07:43:13.581Z"
   },
   {
    "duration": 136,
    "start_time": "2023-07-05T07:43:29.120Z"
   },
   {
    "duration": 25257,
    "start_time": "2023-07-05T07:43:29.257Z"
   },
   {
    "duration": 330,
    "start_time": "2023-07-05T07:43:54.516Z"
   },
   {
    "duration": 1681,
    "start_time": "2023-07-05T07:43:54.848Z"
   },
   {
    "duration": 3,
    "start_time": "2023-07-05T07:43:56.531Z"
   },
   {
    "duration": 204,
    "start_time": "2023-07-05T07:43:56.536Z"
   },
   {
    "duration": 13,
    "start_time": "2023-07-05T07:43:56.743Z"
   },
   {
    "duration": 73,
    "start_time": "2023-07-05T07:45:24.924Z"
   },
   {
    "duration": 90,
    "start_time": "2023-07-05T07:45:25.238Z"
   },
   {
    "duration": 19,
    "start_time": "2023-07-05T07:45:46.237Z"
   },
   {
    "duration": 366,
    "start_time": "2023-07-05T07:45:50.978Z"
   },
   {
    "duration": 19,
    "start_time": "2023-07-05T07:48:18.914Z"
   },
   {
    "duration": 29,
    "start_time": "2023-07-05T07:48:23.996Z"
   },
   {
    "duration": 22,
    "start_time": "2023-07-05T07:48:46.122Z"
   },
   {
    "duration": 23,
    "start_time": "2023-07-05T07:48:50.495Z"
   },
   {
    "duration": 6,
    "start_time": "2023-07-05T07:49:01.021Z"
   },
   {
    "duration": 32,
    "start_time": "2023-07-05T07:49:04.329Z"
   },
   {
    "duration": 5,
    "start_time": "2023-07-05T07:49:13.382Z"
   },
   {
    "duration": 3,
    "start_time": "2023-07-05T07:49:24.219Z"
   },
   {
    "duration": 82,
    "start_time": "2023-07-05T07:49:26.890Z"
   },
   {
    "duration": 56,
    "start_time": "2023-07-05T07:51:18.163Z"
   },
   {
    "duration": 6,
    "start_time": "2023-07-05T07:52:20.673Z"
   },
   {
    "duration": 37,
    "start_time": "2023-07-05T07:54:05.787Z"
   },
   {
    "duration": 27,
    "start_time": "2023-07-05T07:54:10.990Z"
   },
   {
    "duration": 41,
    "start_time": "2023-07-05T07:58:35.104Z"
   },
   {
    "duration": 29,
    "start_time": "2023-07-05T07:59:50.714Z"
   },
   {
    "duration": 51,
    "start_time": "2023-07-05T07:59:58.364Z"
   },
   {
    "duration": 8,
    "start_time": "2023-07-05T08:02:00.152Z"
   },
   {
    "duration": 4606,
    "start_time": "2023-07-05T08:03:04.564Z"
   },
   {
    "duration": 5,
    "start_time": "2023-07-05T08:03:09.173Z"
   },
   {
    "duration": 14,
    "start_time": "2023-07-05T08:03:09.180Z"
   },
   {
    "duration": 4764,
    "start_time": "2023-07-05T08:03:09.196Z"
   },
   {
    "duration": 4132,
    "start_time": "2023-07-05T08:03:13.962Z"
   },
   {
    "duration": 5100,
    "start_time": "2023-07-05T08:03:18.096Z"
   },
   {
    "duration": 4407,
    "start_time": "2023-07-05T08:03:23.197Z"
   },
   {
    "duration": 431,
    "start_time": "2023-07-05T08:03:27.605Z"
   },
   {
    "duration": 162,
    "start_time": "2023-07-05T08:03:28.037Z"
   },
   {
    "duration": 4721,
    "start_time": "2023-07-05T08:03:28.201Z"
   },
   {
    "duration": 0,
    "start_time": "2023-07-05T08:03:32.924Z"
   },
   {
    "duration": 0,
    "start_time": "2023-07-05T08:03:32.925Z"
   },
   {
    "duration": 0,
    "start_time": "2023-07-05T08:03:32.926Z"
   },
   {
    "duration": 0,
    "start_time": "2023-07-05T08:03:32.927Z"
   },
   {
    "duration": 0,
    "start_time": "2023-07-05T08:03:32.928Z"
   },
   {
    "duration": 0,
    "start_time": "2023-07-05T08:03:32.929Z"
   },
   {
    "duration": 0,
    "start_time": "2023-07-05T08:03:32.930Z"
   },
   {
    "duration": 0,
    "start_time": "2023-07-05T08:03:32.931Z"
   },
   {
    "duration": 0,
    "start_time": "2023-07-05T08:03:32.932Z"
   },
   {
    "duration": 0,
    "start_time": "2023-07-05T08:03:32.933Z"
   },
   {
    "duration": 0,
    "start_time": "2023-07-05T08:03:33.094Z"
   },
   {
    "duration": 0,
    "start_time": "2023-07-05T08:03:33.095Z"
   },
   {
    "duration": 0,
    "start_time": "2023-07-05T08:03:33.096Z"
   },
   {
    "duration": 0,
    "start_time": "2023-07-05T08:03:33.097Z"
   },
   {
    "duration": 0,
    "start_time": "2023-07-05T08:03:33.098Z"
   },
   {
    "duration": 0,
    "start_time": "2023-07-05T08:03:33.099Z"
   },
   {
    "duration": 0,
    "start_time": "2023-07-05T08:03:33.100Z"
   },
   {
    "duration": 0,
    "start_time": "2023-07-05T08:03:33.101Z"
   },
   {
    "duration": 0,
    "start_time": "2023-07-05T08:03:33.102Z"
   },
   {
    "duration": 4632,
    "start_time": "2023-07-05T08:04:10.895Z"
   },
   {
    "duration": 6,
    "start_time": "2023-07-05T08:04:15.529Z"
   },
   {
    "duration": 53,
    "start_time": "2023-07-05T08:04:15.537Z"
   },
   {
    "duration": 5229,
    "start_time": "2023-07-05T08:04:15.593Z"
   },
   {
    "duration": 5050,
    "start_time": "2023-07-05T08:04:20.824Z"
   },
   {
    "duration": 5153,
    "start_time": "2023-07-05T08:04:25.876Z"
   },
   {
    "duration": 4905,
    "start_time": "2023-07-05T08:04:31.031Z"
   },
   {
    "duration": 427,
    "start_time": "2023-07-05T08:04:35.937Z"
   },
   {
    "duration": 192,
    "start_time": "2023-07-05T08:04:36.366Z"
   },
   {
    "duration": 4839,
    "start_time": "2023-07-05T08:04:36.560Z"
   },
   {
    "duration": 14853,
    "start_time": "2023-07-05T08:04:41.401Z"
   },
   {
    "duration": 173,
    "start_time": "2023-07-05T08:04:56.257Z"
   },
   {
    "duration": 32783,
    "start_time": "2023-07-05T08:04:56.432Z"
   },
   {
    "duration": 335,
    "start_time": "2023-07-05T08:05:29.219Z"
   },
   {
    "duration": 1817,
    "start_time": "2023-07-05T08:05:29.556Z"
   },
   {
    "duration": 4,
    "start_time": "2023-07-05T08:05:31.374Z"
   },
   {
    "duration": 280,
    "start_time": "2023-07-05T08:05:31.379Z"
   },
   {
    "duration": 30,
    "start_time": "2023-07-05T08:05:31.662Z"
   },
   {
    "duration": 111,
    "start_time": "2023-07-05T08:05:31.695Z"
   },
   {
    "duration": 110,
    "start_time": "2023-07-05T08:05:31.808Z"
   },
   {
    "duration": 74,
    "start_time": "2023-07-05T08:05:31.920Z"
   },
   {
    "duration": 97,
    "start_time": "2023-07-05T08:05:31.996Z"
   },
   {
    "duration": 107,
    "start_time": "2023-07-05T08:05:32.096Z"
   },
   {
    "duration": 48,
    "start_time": "2023-07-05T08:05:32.204Z"
   },
   {
    "duration": 155,
    "start_time": "2023-07-05T08:05:32.253Z"
   },
   {
    "duration": 144,
    "start_time": "2023-07-05T08:05:32.410Z"
   },
   {
    "duration": 26,
    "start_time": "2023-07-05T08:05:32.556Z"
   },
   {
    "duration": 306,
    "start_time": "2023-07-05T08:05:32.584Z"
   },
   {
    "duration": 165,
    "start_time": "2023-07-05T08:05:32.891Z"
   },
   {
    "duration": 17134,
    "start_time": "2023-07-05T08:05:44.955Z"
   },
   {
    "duration": 399,
    "start_time": "2023-07-05T08:06:02.091Z"
   },
   {
    "duration": 1087,
    "start_time": "2023-07-05T08:07:17.472Z"
   },
   {
    "duration": 14933,
    "start_time": "2023-07-05T08:07:46.652Z"
   },
   {
    "duration": 4790,
    "start_time": "2023-07-05T08:09:13.730Z"
   },
   {
    "duration": 6,
    "start_time": "2023-07-05T08:09:18.522Z"
   },
   {
    "duration": 26,
    "start_time": "2023-07-05T08:09:18.530Z"
   },
   {
    "duration": 5768,
    "start_time": "2023-07-05T08:09:18.558Z"
   },
   {
    "duration": 5206,
    "start_time": "2023-07-05T08:09:24.328Z"
   },
   {
    "duration": 5004,
    "start_time": "2023-07-05T08:09:29.536Z"
   },
   {
    "duration": 4915,
    "start_time": "2023-07-05T08:09:34.542Z"
   },
   {
    "duration": 413,
    "start_time": "2023-07-05T08:09:39.459Z"
   },
   {
    "duration": 179,
    "start_time": "2023-07-05T08:09:39.874Z"
   },
   {
    "duration": 4727,
    "start_time": "2023-07-05T08:09:40.054Z"
   },
   {
    "duration": 14066,
    "start_time": "2023-07-05T08:09:44.782Z"
   },
   {
    "duration": 136,
    "start_time": "2023-07-05T08:09:58.850Z"
   },
   {
    "duration": 35194,
    "start_time": "2023-07-05T08:09:58.988Z"
   },
   {
    "duration": 519,
    "start_time": "2023-07-05T08:10:34.185Z"
   },
   {
    "duration": 2013,
    "start_time": "2023-07-05T08:10:34.705Z"
   },
   {
    "duration": 3,
    "start_time": "2023-07-05T08:10:36.720Z"
   },
   {
    "duration": 229,
    "start_time": "2023-07-05T08:10:36.724Z"
   },
   {
    "duration": 24,
    "start_time": "2023-07-05T08:10:36.955Z"
   },
   {
    "duration": 80,
    "start_time": "2023-07-05T08:10:36.981Z"
   },
   {
    "duration": 116,
    "start_time": "2023-07-05T08:10:37.063Z"
   },
   {
    "duration": 69,
    "start_time": "2023-07-05T08:10:37.181Z"
   },
   {
    "duration": 96,
    "start_time": "2023-07-05T08:10:37.251Z"
   },
   {
    "duration": 97,
    "start_time": "2023-07-05T08:10:37.348Z"
   },
   {
    "duration": 53,
    "start_time": "2023-07-05T08:10:37.447Z"
   },
   {
    "duration": 113,
    "start_time": "2023-07-05T08:10:37.502Z"
   },
   {
    "duration": 101,
    "start_time": "2023-07-05T08:10:37.617Z"
   },
   {
    "duration": 12,
    "start_time": "2023-07-05T08:10:37.720Z"
   },
   {
    "duration": 87,
    "start_time": "2023-07-05T08:10:37.734Z"
   },
   {
    "duration": 104,
    "start_time": "2023-07-05T08:10:37.823Z"
   },
   {
    "duration": 3,
    "start_time": "2023-07-05T08:10:37.928Z"
   },
   {
    "duration": 17125,
    "start_time": "2023-07-05T08:10:37.933Z"
   },
   {
    "duration": 17157,
    "start_time": "2023-07-11T11:15:24.206Z"
   },
   {
    "duration": 12412,
    "start_time": "2023-07-11T11:15:41.366Z"
   },
   {
    "duration": 6,
    "start_time": "2023-07-11T11:15:53.781Z"
   },
   {
    "duration": 4912,
    "start_time": "2023-07-11T11:15:53.791Z"
   },
   {
    "duration": 4101,
    "start_time": "2023-07-11T11:15:58.706Z"
   },
   {
    "duration": 4700,
    "start_time": "2023-07-11T11:16:02.809Z"
   },
   {
    "duration": 4396,
    "start_time": "2023-07-11T11:16:07.512Z"
   },
   {
    "duration": 383,
    "start_time": "2023-07-11T11:16:11.910Z"
   },
   {
    "duration": 245,
    "start_time": "2023-07-11T11:16:12.295Z"
   },
   {
    "duration": 4890,
    "start_time": "2023-07-11T11:16:12.542Z"
   },
   {
    "duration": 13066,
    "start_time": "2023-07-11T11:16:17.434Z"
   },
   {
    "duration": 203,
    "start_time": "2023-07-11T11:16:30.503Z"
   },
   {
    "duration": 26295,
    "start_time": "2023-07-11T11:16:30.708Z"
   },
   {
    "duration": 389,
    "start_time": "2023-07-11T11:16:57.006Z"
   },
   {
    "duration": 2097,
    "start_time": "2023-07-11T11:16:57.398Z"
   },
   {
    "duration": 4,
    "start_time": "2023-07-11T11:16:59.496Z"
   },
   {
    "duration": 241,
    "start_time": "2023-07-11T11:16:59.501Z"
   },
   {
    "duration": 33,
    "start_time": "2023-07-11T11:16:59.744Z"
   },
   {
    "duration": 116,
    "start_time": "2023-07-11T11:16:59.780Z"
   },
   {
    "duration": 122,
    "start_time": "2023-07-11T11:16:59.898Z"
   },
   {
    "duration": 84,
    "start_time": "2023-07-11T11:17:00.022Z"
   },
   {
    "duration": 120,
    "start_time": "2023-07-11T11:17:00.108Z"
   },
   {
    "duration": 144,
    "start_time": "2023-07-11T11:17:00.230Z"
   },
   {
    "duration": 58,
    "start_time": "2023-07-11T11:17:00.376Z"
   },
   {
    "duration": 160,
    "start_time": "2023-07-11T11:17:00.436Z"
   },
   {
    "duration": 151,
    "start_time": "2023-07-11T11:17:00.598Z"
   },
   {
    "duration": 30,
    "start_time": "2023-07-11T11:17:00.750Z"
   },
   {
    "duration": 116,
    "start_time": "2023-07-11T11:17:00.783Z"
   },
   {
    "duration": 134,
    "start_time": "2023-07-11T11:17:00.903Z"
   },
   {
    "duration": 4,
    "start_time": "2023-07-11T11:17:01.038Z"
   },
   {
    "duration": 22676,
    "start_time": "2023-07-11T11:17:01.043Z"
   },
   {
    "duration": 3561,
    "start_time": "2023-07-11T11:17:23.721Z"
   },
   {
    "duration": 3,
    "start_time": "2023-07-11T11:17:27.285Z"
   },
   {
    "duration": 8,
    "start_time": "2023-07-11T11:17:27.289Z"
   },
   {
    "duration": 349,
    "start_time": "2023-07-11T11:17:27.299Z"
   },
   {
    "duration": 22,
    "start_time": "2023-07-11T11:17:27.653Z"
   },
   {
    "duration": 19851,
    "start_time": "2023-07-11T11:17:27.678Z"
   },
   {
    "duration": 4,
    "start_time": "2023-07-11T11:17:47.531Z"
   },
   {
    "duration": 151470,
    "start_time": "2023-07-11T11:17:47.537Z"
   },
   {
    "duration": 472,
    "start_time": "2023-07-11T11:20:19.009Z"
   },
   {
    "duration": 0,
    "start_time": "2023-07-11T11:20:19.484Z"
   },
   {
    "duration": 0,
    "start_time": "2023-07-11T11:20:19.486Z"
   },
   {
    "duration": 0,
    "start_time": "2023-07-11T11:20:19.487Z"
   },
   {
    "duration": 0,
    "start_time": "2023-07-11T11:20:19.488Z"
   },
   {
    "duration": 0,
    "start_time": "2023-07-11T11:20:19.490Z"
   },
   {
    "duration": 0,
    "start_time": "2023-07-11T11:20:19.491Z"
   },
   {
    "duration": 0,
    "start_time": "2023-07-11T11:20:19.492Z"
   },
   {
    "duration": 0,
    "start_time": "2023-07-11T11:20:19.493Z"
   },
   {
    "duration": 0,
    "start_time": "2023-07-11T11:20:19.494Z"
   },
   {
    "duration": 37,
    "start_time": "2023-07-11T11:24:01.272Z"
   },
   {
    "duration": 19,
    "start_time": "2023-07-11T11:24:17.781Z"
   },
   {
    "duration": 6,
    "start_time": "2023-07-11T11:24:20.509Z"
   },
   {
    "duration": 41852,
    "start_time": "2023-07-11T11:24:20.821Z"
   },
   {
    "duration": 15,
    "start_time": "2023-07-11T11:25:02.677Z"
   },
   {
    "duration": 31,
    "start_time": "2023-07-11T11:25:02.694Z"
   },
   {
    "duration": 270,
    "start_time": "2023-07-11T11:25:02.727Z"
   },
   {
    "duration": 301,
    "start_time": "2023-07-11T11:25:02.999Z"
   },
   {
    "duration": 20,
    "start_time": "2023-07-11T11:25:03.302Z"
   },
   {
    "duration": 0,
    "start_time": "2023-07-11T11:25:03.324Z"
   },
   {
    "duration": 0,
    "start_time": "2023-07-11T11:25:03.326Z"
   },
   {
    "duration": 11,
    "start_time": "2023-07-11T11:26:39.601Z"
   },
   {
    "duration": 6,
    "start_time": "2023-07-11T11:26:39.908Z"
   },
   {
    "duration": 10141,
    "start_time": "2023-07-11T11:26:40.039Z"
   },
   {
    "duration": 11,
    "start_time": "2023-07-11T11:26:50.183Z"
   },
   {
    "duration": 10359,
    "start_time": "2023-07-11T11:27:27.161Z"
   },
   {
    "duration": 33,
    "start_time": "2023-07-11T11:27:45.049Z"
   },
   {
    "duration": 10,
    "start_time": "2023-07-11T11:27:45.360Z"
   },
   {
    "duration": 19677,
    "start_time": "2023-07-11T11:27:45.521Z"
   },
   {
    "duration": 12,
    "start_time": "2023-07-11T11:28:05.200Z"
   },
   {
    "duration": 5,
    "start_time": "2023-07-11T11:28:05.412Z"
   },
   {
    "duration": 247,
    "start_time": "2023-07-11T11:28:05.419Z"
   },
   {
    "duration": 268,
    "start_time": "2023-07-11T11:28:05.670Z"
   },
   {
    "duration": 108,
    "start_time": "2023-07-11T11:28:05.940Z"
   },
   {
    "duration": 610,
    "start_time": "2023-07-11T11:28:15.551Z"
   },
   {
    "duration": 845,
    "start_time": "2023-07-11T11:28:31.446Z"
   },
   {
    "duration": 11,
    "start_time": "2023-07-11T11:45:24.530Z"
   },
   {
    "duration": 5,
    "start_time": "2023-07-11T11:45:41.802Z"
   },
   {
    "duration": 230,
    "start_time": "2023-07-11T11:45:42.195Z"
   },
   {
    "duration": 366,
    "start_time": "2023-07-11T11:45:43.314Z"
   }
  ],
  "kernelspec": {
   "display_name": "Python 3",
   "language": "python",
   "name": "python3"
  },
  "language_info": {
   "codemirror_mode": {
    "name": "ipython",
    "version": 3
   },
   "file_extension": ".py",
   "mimetype": "text/x-python",
   "name": "python",
   "nbconvert_exporter": "python",
   "pygments_lexer": "ipython3",
   "version": "3.8.8"
  },
  "toc": {
   "base_numbering": 1,
   "nav_menu": {},
   "number_sections": false,
   "sideBar": true,
   "skip_h1_title": false,
   "title_cell": "Table of Contents",
   "title_sidebar": "Contents",
   "toc_cell": false,
   "toc_position": {
    "height": "calc(100% - 180px)",
    "left": "10px",
    "top": "150px",
    "width": "263.797px"
   },
   "toc_section_display": true,
   "toc_window_display": true
  },
  "varInspector": {
   "cols": {
    "lenName": 16,
    "lenType": 16,
    "lenVar": 40
   },
   "kernels_config": {
    "python": {
     "delete_cmd_postfix": "",
     "delete_cmd_prefix": "del ",
     "library": "var_list.py",
     "varRefreshCmd": "print(var_dic_list())"
    },
    "r": {
     "delete_cmd_postfix": ") ",
     "delete_cmd_prefix": "rm(",
     "library": "var_list.r",
     "varRefreshCmd": "cat(var_dic_list()) "
    }
   },
   "types_to_exclude": [
    "module",
    "function",
    "builtin_function_or_method",
    "instance",
    "_Feature"
   ],
   "window_display": false
  }
 },
 "nbformat": 4,
 "nbformat_minor": 5
}
